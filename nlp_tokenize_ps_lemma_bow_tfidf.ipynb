{
  "nbformat": 4,
  "nbformat_minor": 0,
  "metadata": {
    "colab": {
      "name": "nlp-tokenize-ps-lemma-bow-tfidf.ipynb",
      "provenance": [],
      "authorship_tag": "ABX9TyMBCXTB9byB4Zrmox0Yk51l",
      "include_colab_link": true
    },
    "kernelspec": {
      "name": "python3",
      "display_name": "Python 3"
    },
    "language_info": {
      "name": "python"
    }
  },
  "cells": [
    {
      "cell_type": "markdown",
      "metadata": {
        "id": "view-in-github",
        "colab_type": "text"
      },
      "source": [
        "<a href=\"https://colab.research.google.com/github/ayyaz-azeem/NLP/blob/main/nlp_tokenize_ps_lemma_bow_tfidf.ipynb\" target=\"_parent\"><img src=\"https://colab.research.google.com/assets/colab-badge.svg\" alt=\"Open In Colab\"/></a>"
      ]
    },
    {
      "cell_type": "code",
      "execution_count": 1,
      "metadata": {
        "colab": {
          "base_uri": "https://localhost:8080/"
        },
        "id": "E34MhR1Go_Vo",
        "outputId": "a296a3ed-ccfc-4c7a-d19b-1b6e2bac2967"
      },
      "outputs": [
        {
          "output_type": "stream",
          "name": "stdout",
          "text": [
            "[nltk_data] Downloading collection 'all'\n",
            "[nltk_data]    | \n",
            "[nltk_data]    | Downloading package abc to /root/nltk_data...\n",
            "[nltk_data]    |   Unzipping corpora/abc.zip.\n",
            "[nltk_data]    | Downloading package alpino to /root/nltk_data...\n",
            "[nltk_data]    |   Unzipping corpora/alpino.zip.\n",
            "[nltk_data]    | Downloading package averaged_perceptron_tagger to\n",
            "[nltk_data]    |     /root/nltk_data...\n",
            "[nltk_data]    |   Unzipping taggers/averaged_perceptron_tagger.zip.\n",
            "[nltk_data]    | Downloading package averaged_perceptron_tagger_ru to\n",
            "[nltk_data]    |     /root/nltk_data...\n",
            "[nltk_data]    |   Unzipping\n",
            "[nltk_data]    |       taggers/averaged_perceptron_tagger_ru.zip.\n",
            "[nltk_data]    | Downloading package basque_grammars to\n",
            "[nltk_data]    |     /root/nltk_data...\n",
            "[nltk_data]    |   Unzipping grammars/basque_grammars.zip.\n",
            "[nltk_data]    | Downloading package biocreative_ppi to\n",
            "[nltk_data]    |     /root/nltk_data...\n",
            "[nltk_data]    |   Unzipping corpora/biocreative_ppi.zip.\n",
            "[nltk_data]    | Downloading package bllip_wsj_no_aux to\n",
            "[nltk_data]    |     /root/nltk_data...\n",
            "[nltk_data]    |   Unzipping models/bllip_wsj_no_aux.zip.\n",
            "[nltk_data]    | Downloading package book_grammars to\n",
            "[nltk_data]    |     /root/nltk_data...\n",
            "[nltk_data]    |   Unzipping grammars/book_grammars.zip.\n",
            "[nltk_data]    | Downloading package brown to /root/nltk_data...\n",
            "[nltk_data]    |   Unzipping corpora/brown.zip.\n",
            "[nltk_data]    | Downloading package brown_tei to /root/nltk_data...\n",
            "[nltk_data]    |   Unzipping corpora/brown_tei.zip.\n",
            "[nltk_data]    | Downloading package cess_cat to /root/nltk_data...\n",
            "[nltk_data]    |   Unzipping corpora/cess_cat.zip.\n",
            "[nltk_data]    | Downloading package cess_esp to /root/nltk_data...\n",
            "[nltk_data]    |   Unzipping corpora/cess_esp.zip.\n",
            "[nltk_data]    | Downloading package chat80 to /root/nltk_data...\n",
            "[nltk_data]    |   Unzipping corpora/chat80.zip.\n",
            "[nltk_data]    | Downloading package city_database to\n",
            "[nltk_data]    |     /root/nltk_data...\n",
            "[nltk_data]    |   Unzipping corpora/city_database.zip.\n",
            "[nltk_data]    | Downloading package cmudict to /root/nltk_data...\n",
            "[nltk_data]    |   Unzipping corpora/cmudict.zip.\n",
            "[nltk_data]    | Downloading package comparative_sentences to\n",
            "[nltk_data]    |     /root/nltk_data...\n",
            "[nltk_data]    |   Unzipping corpora/comparative_sentences.zip.\n",
            "[nltk_data]    | Downloading package comtrans to /root/nltk_data...\n",
            "[nltk_data]    | Downloading package conll2000 to /root/nltk_data...\n",
            "[nltk_data]    |   Unzipping corpora/conll2000.zip.\n",
            "[nltk_data]    | Downloading package conll2002 to /root/nltk_data...\n",
            "[nltk_data]    |   Unzipping corpora/conll2002.zip.\n",
            "[nltk_data]    | Downloading package conll2007 to /root/nltk_data...\n",
            "[nltk_data]    | Downloading package crubadan to /root/nltk_data...\n",
            "[nltk_data]    |   Unzipping corpora/crubadan.zip.\n",
            "[nltk_data]    | Downloading package dependency_treebank to\n",
            "[nltk_data]    |     /root/nltk_data...\n",
            "[nltk_data]    |   Unzipping corpora/dependency_treebank.zip.\n",
            "[nltk_data]    | Downloading package dolch to /root/nltk_data...\n",
            "[nltk_data]    |   Unzipping corpora/dolch.zip.\n",
            "[nltk_data]    | Downloading package europarl_raw to\n",
            "[nltk_data]    |     /root/nltk_data...\n",
            "[nltk_data]    |   Unzipping corpora/europarl_raw.zip.\n",
            "[nltk_data]    | Downloading package extended_omw to\n",
            "[nltk_data]    |     /root/nltk_data...\n",
            "[nltk_data]    |   Unzipping corpora/extended_omw.zip.\n",
            "[nltk_data]    | Downloading package floresta to /root/nltk_data...\n",
            "[nltk_data]    |   Unzipping corpora/floresta.zip.\n",
            "[nltk_data]    | Downloading package framenet_v15 to\n",
            "[nltk_data]    |     /root/nltk_data...\n",
            "[nltk_data]    |   Unzipping corpora/framenet_v15.zip.\n",
            "[nltk_data]    | Downloading package framenet_v17 to\n",
            "[nltk_data]    |     /root/nltk_data...\n",
            "[nltk_data]    |   Unzipping corpora/framenet_v17.zip.\n",
            "[nltk_data]    | Downloading package gazetteers to /root/nltk_data...\n",
            "[nltk_data]    |   Unzipping corpora/gazetteers.zip.\n",
            "[nltk_data]    | Downloading package genesis to /root/nltk_data...\n",
            "[nltk_data]    |   Unzipping corpora/genesis.zip.\n",
            "[nltk_data]    | Downloading package gutenberg to /root/nltk_data...\n",
            "[nltk_data]    |   Unzipping corpora/gutenberg.zip.\n",
            "[nltk_data]    | Downloading package ieer to /root/nltk_data...\n",
            "[nltk_data]    |   Unzipping corpora/ieer.zip.\n",
            "[nltk_data]    | Downloading package inaugural to /root/nltk_data...\n",
            "[nltk_data]    |   Unzipping corpora/inaugural.zip.\n",
            "[nltk_data]    | Downloading package indian to /root/nltk_data...\n",
            "[nltk_data]    |   Unzipping corpora/indian.zip.\n",
            "[nltk_data]    | Downloading package jeita to /root/nltk_data...\n",
            "[nltk_data]    | Downloading package kimmo to /root/nltk_data...\n",
            "[nltk_data]    |   Unzipping corpora/kimmo.zip.\n",
            "[nltk_data]    | Downloading package knbc to /root/nltk_data...\n",
            "[nltk_data]    | Downloading package large_grammars to\n",
            "[nltk_data]    |     /root/nltk_data...\n",
            "[nltk_data]    |   Unzipping grammars/large_grammars.zip.\n",
            "[nltk_data]    | Downloading package lin_thesaurus to\n",
            "[nltk_data]    |     /root/nltk_data...\n",
            "[nltk_data]    |   Unzipping corpora/lin_thesaurus.zip.\n",
            "[nltk_data]    | Downloading package mac_morpho to /root/nltk_data...\n",
            "[nltk_data]    |   Unzipping corpora/mac_morpho.zip.\n",
            "[nltk_data]    | Downloading package machado to /root/nltk_data...\n",
            "[nltk_data]    | Downloading package masc_tagged to /root/nltk_data...\n",
            "[nltk_data]    | Downloading package maxent_ne_chunker to\n",
            "[nltk_data]    |     /root/nltk_data...\n",
            "[nltk_data]    |   Unzipping chunkers/maxent_ne_chunker.zip.\n",
            "[nltk_data]    | Downloading package maxent_treebank_pos_tagger to\n",
            "[nltk_data]    |     /root/nltk_data...\n",
            "[nltk_data]    |   Unzipping taggers/maxent_treebank_pos_tagger.zip.\n",
            "[nltk_data]    | Downloading package moses_sample to\n",
            "[nltk_data]    |     /root/nltk_data...\n",
            "[nltk_data]    |   Unzipping models/moses_sample.zip.\n",
            "[nltk_data]    | Downloading package movie_reviews to\n",
            "[nltk_data]    |     /root/nltk_data...\n",
            "[nltk_data]    |   Unzipping corpora/movie_reviews.zip.\n",
            "[nltk_data]    | Downloading package mte_teip5 to /root/nltk_data...\n",
            "[nltk_data]    |   Unzipping corpora/mte_teip5.zip.\n",
            "[nltk_data]    | Downloading package mwa_ppdb to /root/nltk_data...\n",
            "[nltk_data]    |   Unzipping misc/mwa_ppdb.zip.\n",
            "[nltk_data]    | Downloading package names to /root/nltk_data...\n",
            "[nltk_data]    |   Unzipping corpora/names.zip.\n",
            "[nltk_data]    | Downloading package nombank.1.0 to /root/nltk_data...\n",
            "[nltk_data]    | Downloading package nonbreaking_prefixes to\n",
            "[nltk_data]    |     /root/nltk_data...\n",
            "[nltk_data]    |   Unzipping corpora/nonbreaking_prefixes.zip.\n",
            "[nltk_data]    | Downloading package nps_chat to /root/nltk_data...\n",
            "[nltk_data]    |   Unzipping corpora/nps_chat.zip.\n",
            "[nltk_data]    | Downloading package omw to /root/nltk_data...\n",
            "[nltk_data]    |   Unzipping corpora/omw.zip.\n",
            "[nltk_data]    | Downloading package omw-1.4 to /root/nltk_data...\n",
            "[nltk_data]    |   Unzipping corpora/omw-1.4.zip.\n",
            "[nltk_data]    | Downloading package opinion_lexicon to\n",
            "[nltk_data]    |     /root/nltk_data...\n",
            "[nltk_data]    |   Unzipping corpora/opinion_lexicon.zip.\n",
            "[nltk_data]    | Downloading package panlex_swadesh to\n",
            "[nltk_data]    |     /root/nltk_data...\n",
            "[nltk_data]    | Downloading package paradigms to /root/nltk_data...\n",
            "[nltk_data]    |   Unzipping corpora/paradigms.zip.\n",
            "[nltk_data]    | Downloading package pe08 to /root/nltk_data...\n",
            "[nltk_data]    |   Unzipping corpora/pe08.zip.\n",
            "[nltk_data]    | Downloading package perluniprops to\n",
            "[nltk_data]    |     /root/nltk_data...\n",
            "[nltk_data]    |   Unzipping misc/perluniprops.zip.\n",
            "[nltk_data]    | Downloading package pil to /root/nltk_data...\n",
            "[nltk_data]    |   Unzipping corpora/pil.zip.\n",
            "[nltk_data]    | Downloading package pl196x to /root/nltk_data...\n",
            "[nltk_data]    |   Unzipping corpora/pl196x.zip.\n",
            "[nltk_data]    | Downloading package porter_test to /root/nltk_data...\n",
            "[nltk_data]    |   Unzipping stemmers/porter_test.zip.\n",
            "[nltk_data]    | Downloading package ppattach to /root/nltk_data...\n",
            "[nltk_data]    |   Unzipping corpora/ppattach.zip.\n",
            "[nltk_data]    | Downloading package problem_reports to\n",
            "[nltk_data]    |     /root/nltk_data...\n",
            "[nltk_data]    |   Unzipping corpora/problem_reports.zip.\n",
            "[nltk_data]    | Downloading package product_reviews_1 to\n",
            "[nltk_data]    |     /root/nltk_data...\n",
            "[nltk_data]    |   Unzipping corpora/product_reviews_1.zip.\n",
            "[nltk_data]    | Downloading package product_reviews_2 to\n",
            "[nltk_data]    |     /root/nltk_data...\n",
            "[nltk_data]    |   Unzipping corpora/product_reviews_2.zip.\n",
            "[nltk_data]    | Downloading package propbank to /root/nltk_data...\n",
            "[nltk_data]    | Downloading package pros_cons to /root/nltk_data...\n",
            "[nltk_data]    |   Unzipping corpora/pros_cons.zip.\n",
            "[nltk_data]    | Downloading package ptb to /root/nltk_data...\n",
            "[nltk_data]    |   Unzipping corpora/ptb.zip.\n",
            "[nltk_data]    | Downloading package punkt to /root/nltk_data...\n",
            "[nltk_data]    |   Unzipping tokenizers/punkt.zip.\n",
            "[nltk_data]    | Downloading package qc to /root/nltk_data...\n",
            "[nltk_data]    |   Unzipping corpora/qc.zip.\n",
            "[nltk_data]    | Downloading package reuters to /root/nltk_data...\n",
            "[nltk_data]    | Downloading package rslp to /root/nltk_data...\n",
            "[nltk_data]    |   Unzipping stemmers/rslp.zip.\n",
            "[nltk_data]    | Downloading package rte to /root/nltk_data...\n",
            "[nltk_data]    |   Unzipping corpora/rte.zip.\n",
            "[nltk_data]    | Downloading package sample_grammars to\n",
            "[nltk_data]    |     /root/nltk_data...\n",
            "[nltk_data]    |   Unzipping grammars/sample_grammars.zip.\n",
            "[nltk_data]    | Downloading package semcor to /root/nltk_data...\n",
            "[nltk_data]    | Downloading package senseval to /root/nltk_data...\n",
            "[nltk_data]    |   Unzipping corpora/senseval.zip.\n",
            "[nltk_data]    | Downloading package sentence_polarity to\n",
            "[nltk_data]    |     /root/nltk_data...\n",
            "[nltk_data]    |   Unzipping corpora/sentence_polarity.zip.\n",
            "[nltk_data]    | Downloading package sentiwordnet to\n",
            "[nltk_data]    |     /root/nltk_data...\n",
            "[nltk_data]    |   Unzipping corpora/sentiwordnet.zip.\n",
            "[nltk_data]    | Downloading package shakespeare to /root/nltk_data...\n",
            "[nltk_data]    |   Unzipping corpora/shakespeare.zip.\n",
            "[nltk_data]    | Downloading package sinica_treebank to\n",
            "[nltk_data]    |     /root/nltk_data...\n",
            "[nltk_data]    |   Unzipping corpora/sinica_treebank.zip.\n",
            "[nltk_data]    | Downloading package smultron to /root/nltk_data...\n",
            "[nltk_data]    |   Unzipping corpora/smultron.zip.\n",
            "[nltk_data]    | Downloading package snowball_data to\n",
            "[nltk_data]    |     /root/nltk_data...\n",
            "[nltk_data]    | Downloading package spanish_grammars to\n",
            "[nltk_data]    |     /root/nltk_data...\n",
            "[nltk_data]    |   Unzipping grammars/spanish_grammars.zip.\n",
            "[nltk_data]    | Downloading package state_union to /root/nltk_data...\n",
            "[nltk_data]    |   Unzipping corpora/state_union.zip.\n",
            "[nltk_data]    | Downloading package stopwords to /root/nltk_data...\n",
            "[nltk_data]    |   Unzipping corpora/stopwords.zip.\n",
            "[nltk_data]    | Downloading package subjectivity to\n",
            "[nltk_data]    |     /root/nltk_data...\n",
            "[nltk_data]    |   Unzipping corpora/subjectivity.zip.\n",
            "[nltk_data]    | Downloading package swadesh to /root/nltk_data...\n",
            "[nltk_data]    |   Unzipping corpora/swadesh.zip.\n",
            "[nltk_data]    | Downloading package switchboard to /root/nltk_data...\n",
            "[nltk_data]    |   Unzipping corpora/switchboard.zip.\n",
            "[nltk_data]    | Downloading package tagsets to /root/nltk_data...\n",
            "[nltk_data]    |   Unzipping help/tagsets.zip.\n",
            "[nltk_data]    | Downloading package timit to /root/nltk_data...\n",
            "[nltk_data]    |   Unzipping corpora/timit.zip.\n",
            "[nltk_data]    | Downloading package toolbox to /root/nltk_data...\n",
            "[nltk_data]    |   Unzipping corpora/toolbox.zip.\n",
            "[nltk_data]    | Downloading package treebank to /root/nltk_data...\n",
            "[nltk_data]    |   Unzipping corpora/treebank.zip.\n",
            "[nltk_data]    | Downloading package twitter_samples to\n",
            "[nltk_data]    |     /root/nltk_data...\n",
            "[nltk_data]    |   Unzipping corpora/twitter_samples.zip.\n",
            "[nltk_data]    | Downloading package udhr to /root/nltk_data...\n",
            "[nltk_data]    |   Unzipping corpora/udhr.zip.\n",
            "[nltk_data]    | Downloading package udhr2 to /root/nltk_data...\n",
            "[nltk_data]    |   Unzipping corpora/udhr2.zip.\n",
            "[nltk_data]    | Downloading package unicode_samples to\n",
            "[nltk_data]    |     /root/nltk_data...\n",
            "[nltk_data]    |   Unzipping corpora/unicode_samples.zip.\n",
            "[nltk_data]    | Downloading package universal_tagset to\n",
            "[nltk_data]    |     /root/nltk_data...\n",
            "[nltk_data]    |   Unzipping taggers/universal_tagset.zip.\n",
            "[nltk_data]    | Downloading package universal_treebanks_v20 to\n",
            "[nltk_data]    |     /root/nltk_data...\n",
            "[nltk_data]    | Downloading package vader_lexicon to\n",
            "[nltk_data]    |     /root/nltk_data...\n",
            "[nltk_data]    | Downloading package verbnet to /root/nltk_data...\n",
            "[nltk_data]    |   Unzipping corpora/verbnet.zip.\n",
            "[nltk_data]    | Downloading package verbnet3 to /root/nltk_data...\n",
            "[nltk_data]    |   Unzipping corpora/verbnet3.zip.\n",
            "[nltk_data]    | Downloading package webtext to /root/nltk_data...\n",
            "[nltk_data]    |   Unzipping corpora/webtext.zip.\n",
            "[nltk_data]    | Downloading package wmt15_eval to /root/nltk_data...\n",
            "[nltk_data]    |   Unzipping models/wmt15_eval.zip.\n",
            "[nltk_data]    | Downloading package word2vec_sample to\n",
            "[nltk_data]    |     /root/nltk_data...\n",
            "[nltk_data]    |   Unzipping models/word2vec_sample.zip.\n",
            "[nltk_data]    | Downloading package wordnet to /root/nltk_data...\n",
            "[nltk_data]    |   Unzipping corpora/wordnet.zip.\n",
            "[nltk_data]    | Downloading package wordnet2021 to /root/nltk_data...\n",
            "[nltk_data]    |   Unzipping corpora/wordnet2021.zip.\n",
            "[nltk_data]    | Downloading package wordnet31 to /root/nltk_data...\n",
            "[nltk_data]    |   Unzipping corpora/wordnet31.zip.\n",
            "[nltk_data]    | Downloading package wordnet_ic to /root/nltk_data...\n",
            "[nltk_data]    |   Unzipping corpora/wordnet_ic.zip.\n",
            "[nltk_data]    | Downloading package words to /root/nltk_data...\n",
            "[nltk_data]    |   Unzipping corpora/words.zip.\n",
            "[nltk_data]    | Downloading package ycoe to /root/nltk_data...\n",
            "[nltk_data]    |   Unzipping corpora/ycoe.zip.\n",
            "[nltk_data]    | \n",
            "[nltk_data]  Done downloading collection all\n"
          ]
        },
        {
          "output_type": "execute_result",
          "data": {
            "text/plain": [
              "True"
            ]
          },
          "metadata": {},
          "execution_count": 1
        }
      ],
      "source": [
        "import nltk\n",
        "nltk.download('all')"
      ]
    },
    {
      "cell_type": "code",
      "source": [
        "from nltk.corpus import stopwords\n",
        "from nltk.stem import PorterStemmer\n",
        "PS = PorterStemmer()\n",
        "from nltk.stem import WordNetLemmatizer\n",
        "WN = WordNetLemmatizer()"
      ],
      "metadata": {
        "id": "XED-HNL7p6t1"
      },
      "execution_count": 2,
      "outputs": []
    },
    {
      "cell_type": "code",
      "source": [
        "paragraph = \"\"\"Mike Tyson says his record-breaking run to the top of world heavyweight boxing arrived too early in life when he was weighed down by \"emotional vampires\".\n",
        "\n",
        "Tyson is making a return to boxing at the age of 54 in an exhibition bout with Roy Jones Jr on Saturday.\n",
        "\n",
        "There has been intrigue over to what to expect and how the man who became the youngest heavyweight champion in history - aged 20 - will perform.\n",
        "\n",
        "\"I think Roy can handle getting slapped around a little bit,\" said Tyson.\n",
        "\n",
        "\"It's going to be really hot in that kitchen.\"\n",
        "\n",
        "Speaking to Eddie Hearn's 'No Passion No Point podcast' on BBC Sounds, Tyson appeared light-hearted in his threats to Jones and the likelihood of any serious fight breaking out between the pair is diminishing as the event draws nearer.\n",
        "\n",
        "The body sanctioning the exhibition has stated both fighters will wear 12oz gloves, the eight rounds will be two minutes in length rather than three and that the pair \"shouldn't be going for a knockout\".\n",
        "\n",
        "It would appear the event is in place to satisfy the curiosity of seeing Tyson in the ring against former four-weight world champion Jones, 51, rather than to offer a platform for either to chase future fights in the sport.\n",
        "\n",
        "It has provided scope for Tyson's past to be revisited, including his world-title win in 1986, his imprisonment for rape six years later and the financial and drug problems that became well documented later in his life.\n",
        "\n",
        "\"The best time of my life was probably right before I won the title,\" Tyson told Hearn.\n",
        "\n",
        "\"When I won the title it got tricky. It wasn't the right time for me. I had too many emotional vampires around me.\"'I can protect myself now'\n",
        "\n",
        "Hearn's podcast sees the boxing promoter speak to individuals from popular culture about the key qualities needed to achieve success.\n",
        "\n",
        "Tyson, who says he started fighting when a group of men tried to steal the pigeons he collected as a child, has long championed the guidance he received from Cus D'Amato.\n",
        "\n",
        "He believes his late trainer offered him timely direction in life but says only in recent years has he learned how to truly control some of the behaviours formed while growing up in Brownsville, New York.\n",
        "\n",
        "\"That kid is always in me,\" added Tyson. \"Now I know how to treat him, how to protect him. I wasn't protecting him when I was going to jail and all this crazy stuff.\n",
        "\n",
        "\"The best thing that can happen to any young man or woman is to have a diligent role model that cares about them. The feelings have to be mutual. Your objective has to be to make them happy - to be the man they need you to be.\n",
        "\n",
        "\"Just think where I would be without boxing. I don't even want to think about where I would be without this beautiful sport.\n",
        "\n",
        "\"I'm living responsibly, being present. That's what it's about for me now.\" \"\"\""
      ],
      "metadata": {
        "id": "Bl_eYX5sqFMM"
      },
      "execution_count": 9,
      "outputs": []
    },
    {
      "cell_type": "code",
      "source": [
        "sentences = nltk.sent_tokenize(paragraph)\n",
        "print(len(sentences))"
      ],
      "metadata": {
        "colab": {
          "base_uri": "https://localhost:8080/"
        },
        "id": "wN3hwWgsqQJX",
        "outputId": "2b23ba72-6fdc-4b07-ce28-1d7d6abfe866"
      },
      "execution_count": 10,
      "outputs": [
        {
          "output_type": "stream",
          "name": "stdout",
          "text": [
            "26\n"
          ]
        }
      ]
    },
    {
      "cell_type": "code",
      "source": [
        "for i in range(len(sentences)):\n",
        "  print('\\033[92m{} - {}'.format(i+1,sentences[i]))"
      ],
      "metadata": {
        "colab": {
          "base_uri": "https://localhost:8080/"
        },
        "id": "KlaoC2vmqyaF",
        "outputId": "75fea459-dd05-4506-d2db-e25a751822d6"
      },
      "execution_count": 11,
      "outputs": [
        {
          "output_type": "stream",
          "name": "stdout",
          "text": [
            "\u001b[92m1 - Mike Tyson says his record-breaking run to the top of world heavyweight boxing arrived too early in life when he was weighed down by \"emotional vampires\".\n",
            "\u001b[92m2 - Tyson is making a return to boxing at the age of 54 in an exhibition bout with Roy Jones Jr on Saturday.\n",
            "\u001b[92m3 - There has been intrigue over to what to expect and how the man who became the youngest heavyweight champion in history - aged 20 - will perform.\n",
            "\u001b[92m4 - \"I think Roy can handle getting slapped around a little bit,\" said Tyson.\n",
            "\u001b[92m5 - \"It's going to be really hot in that kitchen.\"\n",
            "\u001b[92m6 - Speaking to Eddie Hearn's 'No Passion No Point podcast' on BBC Sounds, Tyson appeared light-hearted in his threats to Jones and the likelihood of any serious fight breaking out between the pair is diminishing as the event draws nearer.\n",
            "\u001b[92m7 - The body sanctioning the exhibition has stated both fighters will wear 12oz gloves, the eight rounds will be two minutes in length rather than three and that the pair \"shouldn't be going for a knockout\".\n",
            "\u001b[92m8 - It would appear the event is in place to satisfy the curiosity of seeing Tyson in the ring against former four-weight world champion Jones, 51, rather than to offer a platform for either to chase future fights in the sport.\n",
            "\u001b[92m9 - It has provided scope for Tyson's past to be revisited, including his world-title win in 1986, his imprisonment for rape six years later and the financial and drug problems that became well documented later in his life.\n",
            "\u001b[92m10 - \"The best time of my life was probably right before I won the title,\" Tyson told Hearn.\n",
            "\u001b[92m11 - \"When I won the title it got tricky.\n",
            "\u001b[92m12 - It wasn't the right time for me.\n",
            "\u001b[92m13 - I had too many emotional vampires around me.\n",
            "\u001b[92m14 - \"'I can protect myself now'\n",
            "\n",
            "Hearn's podcast sees the boxing promoter speak to individuals from popular culture about the key qualities needed to achieve success.\n",
            "\u001b[92m15 - Tyson, who says he started fighting when a group of men tried to steal the pigeons he collected as a child, has long championed the guidance he received from Cus D'Amato.\n",
            "\u001b[92m16 - He believes his late trainer offered him timely direction in life but says only in recent years has he learned how to truly control some of the behaviours formed while growing up in Brownsville, New York.\n",
            "\u001b[92m17 - \"That kid is always in me,\" added Tyson.\n",
            "\u001b[92m18 - \"Now I know how to treat him, how to protect him.\n",
            "\u001b[92m19 - I wasn't protecting him when I was going to jail and all this crazy stuff.\n",
            "\u001b[92m20 - \"The best thing that can happen to any young man or woman is to have a diligent role model that cares about them.\n",
            "\u001b[92m21 - The feelings have to be mutual.\n",
            "\u001b[92m22 - Your objective has to be to make them happy - to be the man they need you to be.\n",
            "\u001b[92m23 - \"Just think where I would be without boxing.\n",
            "\u001b[92m24 - I don't even want to think about where I would be without this beautiful sport.\n",
            "\u001b[92m25 - \"I'm living responsibly, being present.\n",
            "\u001b[92m26 - That's what it's about for me now.\"\n"
          ]
        }
      ]
    },
    {
      "cell_type": "code",
      "source": [
        "# PS\n",
        "import re\n",
        "sentences_PS = sentences.copy()\n",
        "for i in range(len(sentences_PS)):\n",
        "  sentences_PS[i] = re.sub('[^a-zA-Z]',' ',sentences_PS[i])\n",
        "  sentences_PS[i] = sentences_PS[i].lower()\n",
        "  words = nltk.word_tokenize(sentences_PS[i])\n",
        "  words = [PS.stem(j) for j in words if j not in set(stopwords.words('english'))]\n",
        "  sentences_PS[i] = ' '.join(words)"
      ],
      "metadata": {
        "id": "KB4kr8Rhqk7h"
      },
      "execution_count": 14,
      "outputs": []
    },
    {
      "cell_type": "code",
      "source": [
        "for i in range(len(sentences)):\n",
        "  print('\\033[92m{} - {}'.format(i+1,sentences[i]))\n",
        "  print('\\033[94m{} - {}'.format(i+1,sentences_PS[i]))\n",
        "  print()\n",
        "#print()\n",
        "#for i in range(len(sentences_PS)):\n",
        "#  print('\\033[92m{} - {}'.format(i+1,sentences_PS[i]))"
      ],
      "metadata": {
        "colab": {
          "base_uri": "https://localhost:8080/"
        },
        "id": "GpY10ghKsXnJ",
        "outputId": "f3cf06b2-f37c-45c1-8e0c-a4a29bf29990"
      },
      "execution_count": 15,
      "outputs": [
        {
          "output_type": "stream",
          "name": "stdout",
          "text": [
            "\u001b[92m1 - Mike Tyson says his record-breaking run to the top of world heavyweight boxing arrived too early in life when he was weighed down by \"emotional vampires\".\n",
            "\u001b[94m1 - mike tyson say record break run top world heavyweight box arriv earli life weigh emot vampir\n",
            "\n",
            "\u001b[92m2 - Tyson is making a return to boxing at the age of 54 in an exhibition bout with Roy Jones Jr on Saturday.\n",
            "\u001b[94m2 - tyson make return box age exhibit bout roy jone jr saturday\n",
            "\n",
            "\u001b[92m3 - There has been intrigue over to what to expect and how the man who became the youngest heavyweight champion in history - aged 20 - will perform.\n",
            "\u001b[94m3 - intrigu expect man becam youngest heavyweight champion histori age perform\n",
            "\n",
            "\u001b[92m4 - \"I think Roy can handle getting slapped around a little bit,\" said Tyson.\n",
            "\u001b[94m4 - think roy handl get slap around littl bit said tyson\n",
            "\n",
            "\u001b[92m5 - \"It's going to be really hot in that kitchen.\"\n",
            "\u001b[94m5 - go realli hot kitchen\n",
            "\n",
            "\u001b[92m6 - Speaking to Eddie Hearn's 'No Passion No Point podcast' on BBC Sounds, Tyson appeared light-hearted in his threats to Jones and the likelihood of any serious fight breaking out between the pair is diminishing as the event draws nearer.\n",
            "\u001b[94m6 - speak eddi hearn passion point podcast bbc sound tyson appear light heart threat jone likelihood seriou fight break pair diminish event draw nearer\n",
            "\n",
            "\u001b[92m7 - The body sanctioning the exhibition has stated both fighters will wear 12oz gloves, the eight rounds will be two minutes in length rather than three and that the pair \"shouldn't be going for a knockout\".\n",
            "\u001b[94m7 - bodi sanction exhibit state fighter wear oz glove eight round two minut length rather three pair go knockout\n",
            "\n",
            "\u001b[92m8 - It would appear the event is in place to satisfy the curiosity of seeing Tyson in the ring against former four-weight world champion Jones, 51, rather than to offer a platform for either to chase future fights in the sport.\n",
            "\u001b[94m8 - would appear event place satisfi curios see tyson ring former four weight world champion jone rather offer platform either chase futur fight sport\n",
            "\n",
            "\u001b[92m9 - It has provided scope for Tyson's past to be revisited, including his world-title win in 1986, his imprisonment for rape six years later and the financial and drug problems that became well documented later in his life.\n",
            "\u001b[94m9 - provid scope tyson past revisit includ world titl win imprison rape six year later financi drug problem becam well document later life\n",
            "\n",
            "\u001b[92m10 - \"The best time of my life was probably right before I won the title,\" Tyson told Hearn.\n",
            "\u001b[94m10 - best time life probabl right titl tyson told hearn\n",
            "\n",
            "\u001b[92m11 - \"When I won the title it got tricky.\n",
            "\u001b[94m11 - titl got tricki\n",
            "\n",
            "\u001b[92m12 - It wasn't the right time for me.\n",
            "\u001b[94m12 - right time\n",
            "\n",
            "\u001b[92m13 - I had too many emotional vampires around me.\n",
            "\u001b[94m13 - mani emot vampir around\n",
            "\n",
            "\u001b[92m14 - \"'I can protect myself now'\n",
            "\n",
            "Hearn's podcast sees the boxing promoter speak to individuals from popular culture about the key qualities needed to achieve success.\n",
            "\u001b[94m14 - protect hearn podcast see box promot speak individu popular cultur key qualiti need achiev success\n",
            "\n",
            "\u001b[92m15 - Tyson, who says he started fighting when a group of men tried to steal the pigeons he collected as a child, has long championed the guidance he received from Cus D'Amato.\n",
            "\u001b[94m15 - tyson say start fight group men tri steal pigeon collect child long champion guidanc receiv cu amato\n",
            "\n",
            "\u001b[92m16 - He believes his late trainer offered him timely direction in life but says only in recent years has he learned how to truly control some of the behaviours formed while growing up in Brownsville, New York.\n",
            "\u001b[94m16 - believ late trainer offer time direct life say recent year learn truli control behaviour form grow brownsvil new york\n",
            "\n",
            "\u001b[92m17 - \"That kid is always in me,\" added Tyson.\n",
            "\u001b[94m17 - kid alway ad tyson\n",
            "\n",
            "\u001b[92m18 - \"Now I know how to treat him, how to protect him.\n",
            "\u001b[94m18 - know treat protect\n",
            "\n",
            "\u001b[92m19 - I wasn't protecting him when I was going to jail and all this crazy stuff.\n",
            "\u001b[94m19 - protect go jail crazi stuff\n",
            "\n",
            "\u001b[92m20 - \"The best thing that can happen to any young man or woman is to have a diligent role model that cares about them.\n",
            "\u001b[94m20 - best thing happen young man woman dilig role model care\n",
            "\n",
            "\u001b[92m21 - The feelings have to be mutual.\n",
            "\u001b[94m21 - feel mutual\n",
            "\n",
            "\u001b[92m22 - Your objective has to be to make them happy - to be the man they need you to be.\n",
            "\u001b[94m22 - object make happi man need\n",
            "\n",
            "\u001b[92m23 - \"Just think where I would be without boxing.\n",
            "\u001b[94m23 - think would without box\n",
            "\n",
            "\u001b[92m24 - I don't even want to think about where I would be without this beautiful sport.\n",
            "\u001b[94m24 - even want think would without beauti sport\n",
            "\n",
            "\u001b[92m25 - \"I'm living responsibly, being present.\n",
            "\u001b[94m25 - live respons present\n",
            "\n",
            "\u001b[92m26 - That's what it's about for me now.\"\n",
            "\u001b[94m26 - \n",
            "\n"
          ]
        }
      ]
    },
    {
      "cell_type": "code",
      "source": [
        "# WN\n",
        "sentences_WN = sentences.copy()\n",
        "for i in range(len(sentences_WN)):\n",
        "  sentences_WN[i] = re.sub(\"[^a-zA-Z]\",\" \",sentences_WN[i])\n",
        "  sentences_WN[i] = sentences_WN[i].lower()\n",
        "  words = nltk.word_tokenize(sentences_WN[i])\n",
        "  words = [WN.lemmatize(j) for j in words if j not in set(stopwords.words('english'))]\n",
        "  sentences_WN[i] = ' '.join(words)"
      ],
      "metadata": {
        "id": "Y0V5ozYJsyQh"
      },
      "execution_count": 21,
      "outputs": []
    },
    {
      "cell_type": "code",
      "source": [
        "for i in range(len(sentences)):\n",
        "  print('\\033[92m{} - {}'.format(i+1,sentences[i]))\n",
        "  print('\\033[94m{} - {}'.format(i+1,sentences_PS[i]))\n",
        "  print('\\033[95m{} - {}'.format(i+1,sentences_WN[i]))\n",
        "  print()"
      ],
      "metadata": {
        "colab": {
          "base_uri": "https://localhost:8080/"
        },
        "id": "6WeervixtCoj",
        "outputId": "e7daa3c7-0f70-452a-bbce-c4ec4dea6e1b"
      },
      "execution_count": 22,
      "outputs": [
        {
          "output_type": "stream",
          "name": "stdout",
          "text": [
            "\u001b[92m1 - Mike Tyson says his record-breaking run to the top of world heavyweight boxing arrived too early in life when he was weighed down by \"emotional vampires\".\n",
            "\u001b[94m1 - mike tyson say record break run top world heavyweight box arriv earli life weigh emot vampir\n",
            "\u001b[95m1 - mike tyson say record breaking run top world heavyweight boxing arrived early life weighed emotional vampire\n",
            "\n",
            "\u001b[92m2 - Tyson is making a return to boxing at the age of 54 in an exhibition bout with Roy Jones Jr on Saturday.\n",
            "\u001b[94m2 - tyson make return box age exhibit bout roy jone jr saturday\n",
            "\u001b[95m2 - tyson making return boxing age exhibition bout roy jones jr saturday\n",
            "\n",
            "\u001b[92m3 - There has been intrigue over to what to expect and how the man who became the youngest heavyweight champion in history - aged 20 - will perform.\n",
            "\u001b[94m3 - intrigu expect man becam youngest heavyweight champion histori age perform\n",
            "\u001b[95m3 - intrigue expect man became youngest heavyweight champion history aged perform\n",
            "\n",
            "\u001b[92m4 - \"I think Roy can handle getting slapped around a little bit,\" said Tyson.\n",
            "\u001b[94m4 - think roy handl get slap around littl bit said tyson\n",
            "\u001b[95m4 - think roy handle getting slapped around little bit said tyson\n",
            "\n",
            "\u001b[92m5 - \"It's going to be really hot in that kitchen.\"\n",
            "\u001b[94m5 - go realli hot kitchen\n",
            "\u001b[95m5 - going really hot kitchen\n",
            "\n",
            "\u001b[92m6 - Speaking to Eddie Hearn's 'No Passion No Point podcast' on BBC Sounds, Tyson appeared light-hearted in his threats to Jones and the likelihood of any serious fight breaking out between the pair is diminishing as the event draws nearer.\n",
            "\u001b[94m6 - speak eddi hearn passion point podcast bbc sound tyson appear light heart threat jone likelihood seriou fight break pair diminish event draw nearer\n",
            "\u001b[95m6 - speaking eddie hearn passion point podcast bbc sound tyson appeared light hearted threat jones likelihood serious fight breaking pair diminishing event draw nearer\n",
            "\n",
            "\u001b[92m7 - The body sanctioning the exhibition has stated both fighters will wear 12oz gloves, the eight rounds will be two minutes in length rather than three and that the pair \"shouldn't be going for a knockout\".\n",
            "\u001b[94m7 - bodi sanction exhibit state fighter wear oz glove eight round two minut length rather three pair go knockout\n",
            "\u001b[95m7 - body sanctioning exhibition stated fighter wear oz glove eight round two minute length rather three pair going knockout\n",
            "\n",
            "\u001b[92m8 - It would appear the event is in place to satisfy the curiosity of seeing Tyson in the ring against former four-weight world champion Jones, 51, rather than to offer a platform for either to chase future fights in the sport.\n",
            "\u001b[94m8 - would appear event place satisfi curios see tyson ring former four weight world champion jone rather offer platform either chase futur fight sport\n",
            "\u001b[95m8 - would appear event place satisfy curiosity seeing tyson ring former four weight world champion jones rather offer platform either chase future fight sport\n",
            "\n",
            "\u001b[92m9 - It has provided scope for Tyson's past to be revisited, including his world-title win in 1986, his imprisonment for rape six years later and the financial and drug problems that became well documented later in his life.\n",
            "\u001b[94m9 - provid scope tyson past revisit includ world titl win imprison rape six year later financi drug problem becam well document later life\n",
            "\u001b[95m9 - provided scope tyson past revisited including world title win imprisonment rape six year later financial drug problem became well documented later life\n",
            "\n",
            "\u001b[92m10 - \"The best time of my life was probably right before I won the title,\" Tyson told Hearn.\n",
            "\u001b[94m10 - best time life probabl right titl tyson told hearn\n",
            "\u001b[95m10 - best time life probably right title tyson told hearn\n",
            "\n",
            "\u001b[92m11 - \"When I won the title it got tricky.\n",
            "\u001b[94m11 - titl got tricki\n",
            "\u001b[95m11 - title got tricky\n",
            "\n",
            "\u001b[92m12 - It wasn't the right time for me.\n",
            "\u001b[94m12 - right time\n",
            "\u001b[95m12 - right time\n",
            "\n",
            "\u001b[92m13 - I had too many emotional vampires around me.\n",
            "\u001b[94m13 - mani emot vampir around\n",
            "\u001b[95m13 - many emotional vampire around\n",
            "\n",
            "\u001b[92m14 - \"'I can protect myself now'\n",
            "\n",
            "Hearn's podcast sees the boxing promoter speak to individuals from popular culture about the key qualities needed to achieve success.\n",
            "\u001b[94m14 - protect hearn podcast see box promot speak individu popular cultur key qualiti need achiev success\n",
            "\u001b[95m14 - protect hearn podcast see boxing promoter speak individual popular culture key quality needed achieve success\n",
            "\n",
            "\u001b[92m15 - Tyson, who says he started fighting when a group of men tried to steal the pigeons he collected as a child, has long championed the guidance he received from Cus D'Amato.\n",
            "\u001b[94m15 - tyson say start fight group men tri steal pigeon collect child long champion guidanc receiv cu amato\n",
            "\u001b[95m15 - tyson say started fighting group men tried steal pigeon collected child long championed guidance received cu amato\n",
            "\n",
            "\u001b[92m16 - He believes his late trainer offered him timely direction in life but says only in recent years has he learned how to truly control some of the behaviours formed while growing up in Brownsville, New York.\n",
            "\u001b[94m16 - believ late trainer offer time direct life say recent year learn truli control behaviour form grow brownsvil new york\n",
            "\u001b[95m16 - belief late trainer offered timely direction life say recent year learned truly control behaviour formed growing brownsville new york\n",
            "\n",
            "\u001b[92m17 - \"That kid is always in me,\" added Tyson.\n",
            "\u001b[94m17 - kid alway ad tyson\n",
            "\u001b[95m17 - kid always added tyson\n",
            "\n",
            "\u001b[92m18 - \"Now I know how to treat him, how to protect him.\n",
            "\u001b[94m18 - know treat protect\n",
            "\u001b[95m18 - know treat protect\n",
            "\n",
            "\u001b[92m19 - I wasn't protecting him when I was going to jail and all this crazy stuff.\n",
            "\u001b[94m19 - protect go jail crazi stuff\n",
            "\u001b[95m19 - protecting going jail crazy stuff\n",
            "\n",
            "\u001b[92m20 - \"The best thing that can happen to any young man or woman is to have a diligent role model that cares about them.\n",
            "\u001b[94m20 - best thing happen young man woman dilig role model care\n",
            "\u001b[95m20 - best thing happen young man woman diligent role model care\n",
            "\n",
            "\u001b[92m21 - The feelings have to be mutual.\n",
            "\u001b[94m21 - feel mutual\n",
            "\u001b[95m21 - feeling mutual\n",
            "\n",
            "\u001b[92m22 - Your objective has to be to make them happy - to be the man they need you to be.\n",
            "\u001b[94m22 - object make happi man need\n",
            "\u001b[95m22 - objective make happy man need\n",
            "\n",
            "\u001b[92m23 - \"Just think where I would be without boxing.\n",
            "\u001b[94m23 - think would without box\n",
            "\u001b[95m23 - think would without boxing\n",
            "\n",
            "\u001b[92m24 - I don't even want to think about where I would be without this beautiful sport.\n",
            "\u001b[94m24 - even want think would without beauti sport\n",
            "\u001b[95m24 - even want think would without beautiful sport\n",
            "\n",
            "\u001b[92m25 - \"I'm living responsibly, being present.\n",
            "\u001b[94m25 - live respons present\n",
            "\u001b[95m25 - living responsibly present\n",
            "\n",
            "\u001b[92m26 - That's what it's about for me now.\"\n",
            "\u001b[94m26 - \n",
            "\u001b[95m26 - \n",
            "\n"
          ]
        }
      ]
    },
    {
      "cell_type": "code",
      "source": [
        "# BOW\n",
        "corpus_PS = []\n",
        "corpus_WN = []\n",
        "sentences_BOW = sentences.copy()\n",
        "for i in range(len(sentences_BOW)):\n",
        "  review = re.sub(\"[^a-zA-Z]\",\" \",sentences_BOW[i])\n",
        "  review = review.lower()\n",
        "  review = review.split()\n",
        "\n",
        "  review_PS = [PS.stem(j) for j in review if j not in set(stopwords.words('english'))]\n",
        "  review_PS = ' '.join(review_PS)\n",
        "  corpus_PS.append(review_PS)\n",
        "\n",
        "  review_WN = [WN.lemmatize(j) for j in review if j not in set(stopwords.words('english'))]\n",
        "  review_WN = ' '.join(review_WN)\n",
        "  corpus_WN.append(review_WN)"
      ],
      "metadata": {
        "id": "WnjuZ01pt5Lr"
      },
      "execution_count": 24,
      "outputs": []
    },
    {
      "cell_type": "code",
      "source": [
        "for i in range(len(sentences)):\n",
        "  print('\\033[92m{} - {}'.format(i+1,sentences[i]))\n",
        "  print('\\033[94m{} - {}'.format(i+1,corpus_PS[i]))\n",
        "  print('\\033[95m{} - {}'.format(i+1,corpus_WN[i]))\n",
        "  print()"
      ],
      "metadata": {
        "colab": {
          "base_uri": "https://localhost:8080/"
        },
        "id": "yGs7J14X2KSS",
        "outputId": "3fcd508a-6367-4ddf-f95c-d6604df96c5a"
      },
      "execution_count": 25,
      "outputs": [
        {
          "output_type": "stream",
          "name": "stdout",
          "text": [
            "\u001b[92m1 - Mike Tyson says his record-breaking run to the top of world heavyweight boxing arrived too early in life when he was weighed down by \"emotional vampires\".\n",
            "\u001b[94m1 - mike tyson say record break run top world heavyweight box arriv earli life weigh emot vampir\n",
            "\u001b[95m1 - mike tyson say record breaking run top world heavyweight boxing arrived early life weighed emotional vampire\n",
            "\n",
            "\u001b[92m2 - Tyson is making a return to boxing at the age of 54 in an exhibition bout with Roy Jones Jr on Saturday.\n",
            "\u001b[94m2 - tyson make return box age exhibit bout roy jone jr saturday\n",
            "\u001b[95m2 - tyson making return boxing age exhibition bout roy jones jr saturday\n",
            "\n",
            "\u001b[92m3 - There has been intrigue over to what to expect and how the man who became the youngest heavyweight champion in history - aged 20 - will perform.\n",
            "\u001b[94m3 - intrigu expect man becam youngest heavyweight champion histori age perform\n",
            "\u001b[95m3 - intrigue expect man became youngest heavyweight champion history aged perform\n",
            "\n",
            "\u001b[92m4 - \"I think Roy can handle getting slapped around a little bit,\" said Tyson.\n",
            "\u001b[94m4 - think roy handl get slap around littl bit said tyson\n",
            "\u001b[95m4 - think roy handle getting slapped around little bit said tyson\n",
            "\n",
            "\u001b[92m5 - \"It's going to be really hot in that kitchen.\"\n",
            "\u001b[94m5 - go realli hot kitchen\n",
            "\u001b[95m5 - going really hot kitchen\n",
            "\n",
            "\u001b[92m6 - Speaking to Eddie Hearn's 'No Passion No Point podcast' on BBC Sounds, Tyson appeared light-hearted in his threats to Jones and the likelihood of any serious fight breaking out between the pair is diminishing as the event draws nearer.\n",
            "\u001b[94m6 - speak eddi hearn passion point podcast bbc sound tyson appear light heart threat jone likelihood seriou fight break pair diminish event draw nearer\n",
            "\u001b[95m6 - speaking eddie hearn passion point podcast bbc sound tyson appeared light hearted threat jones likelihood serious fight breaking pair diminishing event draw nearer\n",
            "\n",
            "\u001b[92m7 - The body sanctioning the exhibition has stated both fighters will wear 12oz gloves, the eight rounds will be two minutes in length rather than three and that the pair \"shouldn't be going for a knockout\".\n",
            "\u001b[94m7 - bodi sanction exhibit state fighter wear oz glove eight round two minut length rather three pair go knockout\n",
            "\u001b[95m7 - body sanctioning exhibition stated fighter wear oz glove eight round two minute length rather three pair going knockout\n",
            "\n",
            "\u001b[92m8 - It would appear the event is in place to satisfy the curiosity of seeing Tyson in the ring against former four-weight world champion Jones, 51, rather than to offer a platform for either to chase future fights in the sport.\n",
            "\u001b[94m8 - would appear event place satisfi curios see tyson ring former four weight world champion jone rather offer platform either chase futur fight sport\n",
            "\u001b[95m8 - would appear event place satisfy curiosity seeing tyson ring former four weight world champion jones rather offer platform either chase future fight sport\n",
            "\n",
            "\u001b[92m9 - It has provided scope for Tyson's past to be revisited, including his world-title win in 1986, his imprisonment for rape six years later and the financial and drug problems that became well documented later in his life.\n",
            "\u001b[94m9 - provid scope tyson past revisit includ world titl win imprison rape six year later financi drug problem becam well document later life\n",
            "\u001b[95m9 - provided scope tyson past revisited including world title win imprisonment rape six year later financial drug problem became well documented later life\n",
            "\n",
            "\u001b[92m10 - \"The best time of my life was probably right before I won the title,\" Tyson told Hearn.\n",
            "\u001b[94m10 - best time life probabl right titl tyson told hearn\n",
            "\u001b[95m10 - best time life probably right title tyson told hearn\n",
            "\n",
            "\u001b[92m11 - \"When I won the title it got tricky.\n",
            "\u001b[94m11 - titl got tricki\n",
            "\u001b[95m11 - title got tricky\n",
            "\n",
            "\u001b[92m12 - It wasn't the right time for me.\n",
            "\u001b[94m12 - right time\n",
            "\u001b[95m12 - right time\n",
            "\n",
            "\u001b[92m13 - I had too many emotional vampires around me.\n",
            "\u001b[94m13 - mani emot vampir around\n",
            "\u001b[95m13 - many emotional vampire around\n",
            "\n",
            "\u001b[92m14 - \"'I can protect myself now'\n",
            "\n",
            "Hearn's podcast sees the boxing promoter speak to individuals from popular culture about the key qualities needed to achieve success.\n",
            "\u001b[94m14 - protect hearn podcast see box promot speak individu popular cultur key qualiti need achiev success\n",
            "\u001b[95m14 - protect hearn podcast see boxing promoter speak individual popular culture key quality needed achieve success\n",
            "\n",
            "\u001b[92m15 - Tyson, who says he started fighting when a group of men tried to steal the pigeons he collected as a child, has long championed the guidance he received from Cus D'Amato.\n",
            "\u001b[94m15 - tyson say start fight group men tri steal pigeon collect child long champion guidanc receiv cu amato\n",
            "\u001b[95m15 - tyson say started fighting group men tried steal pigeon collected child long championed guidance received cu amato\n",
            "\n",
            "\u001b[92m16 - He believes his late trainer offered him timely direction in life but says only in recent years has he learned how to truly control some of the behaviours formed while growing up in Brownsville, New York.\n",
            "\u001b[94m16 - believ late trainer offer time direct life say recent year learn truli control behaviour form grow brownsvil new york\n",
            "\u001b[95m16 - belief late trainer offered timely direction life say recent year learned truly control behaviour formed growing brownsville new york\n",
            "\n",
            "\u001b[92m17 - \"That kid is always in me,\" added Tyson.\n",
            "\u001b[94m17 - kid alway ad tyson\n",
            "\u001b[95m17 - kid always added tyson\n",
            "\n",
            "\u001b[92m18 - \"Now I know how to treat him, how to protect him.\n",
            "\u001b[94m18 - know treat protect\n",
            "\u001b[95m18 - know treat protect\n",
            "\n",
            "\u001b[92m19 - I wasn't protecting him when I was going to jail and all this crazy stuff.\n",
            "\u001b[94m19 - protect go jail crazi stuff\n",
            "\u001b[95m19 - protecting going jail crazy stuff\n",
            "\n",
            "\u001b[92m20 - \"The best thing that can happen to any young man or woman is to have a diligent role model that cares about them.\n",
            "\u001b[94m20 - best thing happen young man woman dilig role model care\n",
            "\u001b[95m20 - best thing happen young man woman diligent role model care\n",
            "\n",
            "\u001b[92m21 - The feelings have to be mutual.\n",
            "\u001b[94m21 - feel mutual\n",
            "\u001b[95m21 - feeling mutual\n",
            "\n",
            "\u001b[92m22 - Your objective has to be to make them happy - to be the man they need you to be.\n",
            "\u001b[94m22 - object make happi man need\n",
            "\u001b[95m22 - objective make happy man need\n",
            "\n",
            "\u001b[92m23 - \"Just think where I would be without boxing.\n",
            "\u001b[94m23 - think would without box\n",
            "\u001b[95m23 - think would without boxing\n",
            "\n",
            "\u001b[92m24 - I don't even want to think about where I would be without this beautiful sport.\n",
            "\u001b[94m24 - even want think would without beauti sport\n",
            "\u001b[95m24 - even want think would without beautiful sport\n",
            "\n",
            "\u001b[92m25 - \"I'm living responsibly, being present.\n",
            "\u001b[94m25 - live respons present\n",
            "\u001b[95m25 - living responsibly present\n",
            "\n",
            "\u001b[92m26 - That's what it's about for me now.\"\n",
            "\u001b[94m26 - \n",
            "\u001b[95m26 - \n",
            "\n"
          ]
        }
      ]
    },
    {
      "cell_type": "code",
      "source": [
        "from sklearn.feature_extraction.text import CountVectorizer\n",
        "CV = CountVectorizer()\n",
        "X = CV.fit_transform(corpus_WN).toarray()\n"
      ],
      "metadata": {
        "id": "7eAgCdRj2SRs"
      },
      "execution_count": 29,
      "outputs": []
    },
    {
      "cell_type": "code",
      "source": [
        "CV.get_feature_names_out()"
      ],
      "metadata": {
        "colab": {
          "base_uri": "https://localhost:8080/"
        },
        "id": "cHqv94Zu2SUm",
        "outputId": "65dc0b15-3d86-4632-d31c-6185541c35b0"
      },
      "execution_count": 30,
      "outputs": [
        {
          "output_type": "execute_result",
          "data": {
            "text/plain": [
              "array(['achieve', 'added', 'age', 'aged', 'always', 'amato', 'appear',\n",
              "       'appeared', 'around', 'arrived', 'bbc', 'beautiful', 'became',\n",
              "       'behaviour', 'belief', 'best', 'bit', 'body', 'bout', 'boxing',\n",
              "       'breaking', 'brownsville', 'care', 'champion', 'championed',\n",
              "       'chase', 'child', 'collected', 'control', 'crazy', 'cu', 'culture',\n",
              "       'curiosity', 'diligent', 'diminishing', 'direction', 'documented',\n",
              "       'draw', 'drug', 'early', 'eddie', 'eight', 'either', 'emotional',\n",
              "       'even', 'event', 'exhibition', 'expect', 'feeling', 'fight',\n",
              "       'fighter', 'fighting', 'financial', 'formed', 'former', 'four',\n",
              "       'future', 'getting', 'glove', 'going', 'got', 'group', 'growing',\n",
              "       'guidance', 'handle', 'happen', 'happy', 'hearn', 'hearted',\n",
              "       'heavyweight', 'history', 'hot', 'imprisonment', 'including',\n",
              "       'individual', 'intrigue', 'jail', 'jones', 'jr', 'key', 'kid',\n",
              "       'kitchen', 'knockout', 'know', 'late', 'later', 'learned',\n",
              "       'length', 'life', 'light', 'likelihood', 'little', 'living',\n",
              "       'long', 'make', 'making', 'man', 'many', 'men', 'mike', 'minute',\n",
              "       'model', 'mutual', 'nearer', 'need', 'needed', 'new', 'objective',\n",
              "       'offer', 'offered', 'oz', 'pair', 'passion', 'past', 'perform',\n",
              "       'pigeon', 'place', 'platform', 'podcast', 'point', 'popular',\n",
              "       'present', 'probably', 'problem', 'promoter', 'protect',\n",
              "       'protecting', 'provided', 'quality', 'rape', 'rather', 'really',\n",
              "       'received', 'recent', 'record', 'responsibly', 'return',\n",
              "       'revisited', 'right', 'ring', 'role', 'round', 'roy', 'run',\n",
              "       'said', 'sanctioning', 'satisfy', 'saturday', 'say', 'scope',\n",
              "       'see', 'seeing', 'serious', 'six', 'slapped', 'sound', 'speak',\n",
              "       'speaking', 'sport', 'started', 'stated', 'steal', 'stuff',\n",
              "       'success', 'thing', 'think', 'threat', 'three', 'time', 'timely',\n",
              "       'title', 'told', 'top', 'trainer', 'treat', 'tricky', 'tried',\n",
              "       'truly', 'two', 'tyson', 'vampire', 'want', 'wear', 'weighed',\n",
              "       'weight', 'well', 'win', 'without', 'woman', 'world', 'would',\n",
              "       'year', 'york', 'young', 'youngest'], dtype=object)"
            ]
          },
          "metadata": {},
          "execution_count": 30
        }
      ]
    },
    {
      "cell_type": "code",
      "source": [
        "len(CV.get_feature_names_out())"
      ],
      "metadata": {
        "colab": {
          "base_uri": "https://localhost:8080/"
        },
        "id": "eXpmkDKp2SW9",
        "outputId": "354354a6-4ae3-4102-abac-eba665177ddf"
      },
      "execution_count": 32,
      "outputs": [
        {
          "output_type": "execute_result",
          "data": {
            "text/plain": [
              "195"
            ]
          },
          "metadata": {},
          "execution_count": 32
        }
      ]
    },
    {
      "cell_type": "code",
      "source": [
        "#tfidf \n",
        "from sklearn.feature_extraction.text import TfidfVectorizer\n",
        "CV2 = TfidfVectorizer()\n",
        "X2 = CV2.fit_transform(corpus_WN).toarray()"
      ],
      "metadata": {
        "id": "aYAUbdo73fz3"
      },
      "execution_count": 33,
      "outputs": []
    },
    {
      "cell_type": "code",
      "source": [
        "print(len(CV2.get_feature_names_out()))\n",
        "print()\n",
        "CV2.get_feature_names_out()"
      ],
      "metadata": {
        "colab": {
          "base_uri": "https://localhost:8080/"
        },
        "id": "Dk5cN3T533kn",
        "outputId": "8cb958c0-64fd-4d82-f667-fe1a6d288204"
      },
      "execution_count": 37,
      "outputs": [
        {
          "output_type": "stream",
          "name": "stdout",
          "text": [
            "195\n",
            "\n"
          ]
        },
        {
          "output_type": "execute_result",
          "data": {
            "text/plain": [
              "array(['achieve', 'added', 'age', 'aged', 'always', 'amato', 'appear',\n",
              "       'appeared', 'around', 'arrived', 'bbc', 'beautiful', 'became',\n",
              "       'behaviour', 'belief', 'best', 'bit', 'body', 'bout', 'boxing',\n",
              "       'breaking', 'brownsville', 'care', 'champion', 'championed',\n",
              "       'chase', 'child', 'collected', 'control', 'crazy', 'cu', 'culture',\n",
              "       'curiosity', 'diligent', 'diminishing', 'direction', 'documented',\n",
              "       'draw', 'drug', 'early', 'eddie', 'eight', 'either', 'emotional',\n",
              "       'even', 'event', 'exhibition', 'expect', 'feeling', 'fight',\n",
              "       'fighter', 'fighting', 'financial', 'formed', 'former', 'four',\n",
              "       'future', 'getting', 'glove', 'going', 'got', 'group', 'growing',\n",
              "       'guidance', 'handle', 'happen', 'happy', 'hearn', 'hearted',\n",
              "       'heavyweight', 'history', 'hot', 'imprisonment', 'including',\n",
              "       'individual', 'intrigue', 'jail', 'jones', 'jr', 'key', 'kid',\n",
              "       'kitchen', 'knockout', 'know', 'late', 'later', 'learned',\n",
              "       'length', 'life', 'light', 'likelihood', 'little', 'living',\n",
              "       'long', 'make', 'making', 'man', 'many', 'men', 'mike', 'minute',\n",
              "       'model', 'mutual', 'nearer', 'need', 'needed', 'new', 'objective',\n",
              "       'offer', 'offered', 'oz', 'pair', 'passion', 'past', 'perform',\n",
              "       'pigeon', 'place', 'platform', 'podcast', 'point', 'popular',\n",
              "       'present', 'probably', 'problem', 'promoter', 'protect',\n",
              "       'protecting', 'provided', 'quality', 'rape', 'rather', 'really',\n",
              "       'received', 'recent', 'record', 'responsibly', 'return',\n",
              "       'revisited', 'right', 'ring', 'role', 'round', 'roy', 'run',\n",
              "       'said', 'sanctioning', 'satisfy', 'saturday', 'say', 'scope',\n",
              "       'see', 'seeing', 'serious', 'six', 'slapped', 'sound', 'speak',\n",
              "       'speaking', 'sport', 'started', 'stated', 'steal', 'stuff',\n",
              "       'success', 'thing', 'think', 'threat', 'three', 'time', 'timely',\n",
              "       'title', 'told', 'top', 'trainer', 'treat', 'tricky', 'tried',\n",
              "       'truly', 'two', 'tyson', 'vampire', 'want', 'wear', 'weighed',\n",
              "       'weight', 'well', 'win', 'without', 'woman', 'world', 'would',\n",
              "       'year', 'york', 'young', 'youngest'], dtype=object)"
            ]
          },
          "metadata": {},
          "execution_count": 37
        }
      ]
    },
    {
      "cell_type": "code",
      "source": [
        "# word2vec\n",
        "from gensim.models import Word2Vec"
      ],
      "metadata": {
        "id": "tccG7y5k39KX"
      },
      "execution_count": 38,
      "outputs": []
    },
    {
      "cell_type": "code",
      "source": [
        "text = re.sub(r'\\[[0-9\\]*]', ' ', paragraph)\n",
        "text = re.sub(r'\\s+',' ',text)\n",
        "text = text.lower()\n",
        "text = re.sub(r'\\d',' ',text)\n",
        "text = re.sub(r'\\s+',' ',text)"
      ],
      "metadata": {
        "id": "6loeFB_N6Asl"
      },
      "execution_count": 54,
      "outputs": []
    },
    {
      "cell_type": "code",
      "source": [
        "print(text)"
      ],
      "metadata": {
        "colab": {
          "base_uri": "https://localhost:8080/"
        },
        "id": "bI_TMedq7dNB",
        "outputId": "f49a0d1a-2cc7-4aeb-97b6-a8e224e9a697"
      },
      "execution_count": 55,
      "outputs": [
        {
          "output_type": "stream",
          "name": "stdout",
          "text": [
            "mike tyson says his record-breaking run to the top of world heavyweight boxing arrived too early in life when he was weighed down by \"emotional vampires\". tyson is making a return to boxing at the age of in an exhibition bout with roy jones jr on saturday. there has been intrigue over to what to expect and how the man who became the youngest heavyweight champion in history - aged - will perform. \"i think roy can handle getting slapped around a little bit,\" said tyson. \"it's going to be really hot in that kitchen.\" speaking to eddie hearn's 'no passion no point podcast' on bbc sounds, tyson appeared light-hearted in his threats to jones and the likelihood of any serious fight breaking out between the pair is diminishing as the event draws nearer. the body sanctioning the exhibition has stated both fighters will wear oz gloves, the eight rounds will be two minutes in length rather than three and that the pair \"shouldn't be going for a knockout\". it would appear the event is in place to satisfy the curiosity of seeing tyson in the ring against former four-weight world champion jones, , rather than to offer a platform for either to chase future fights in the sport. it has provided scope for tyson's past to be revisited, including his world-title win in , his imprisonment for rape six years later and the financial and drug problems that became well documented later in his life. \"the best time of my life was probably right before i won the title,\" tyson told hearn. \"when i won the title it got tricky. it wasn't the right time for me. i had too many emotional vampires around me.\"'i can protect myself now' hearn's podcast sees the boxing promoter speak to individuals from popular culture about the key qualities needed to achieve success. tyson, who says he started fighting when a group of men tried to steal the pigeons he collected as a child, has long championed the guidance he received from cus d'amato. he believes his late trainer offered him timely direction in life but says only in recent years has he learned how to truly control some of the behaviours formed while growing up in brownsville, new york. \"that kid is always in me,\" added tyson. \"now i know how to treat him, how to protect him. i wasn't protecting him when i was going to jail and all this crazy stuff. \"the best thing that can happen to any young man or woman is to have a diligent role model that cares about them. the feelings have to be mutual. your objective has to be to make them happy - to be the man they need you to be. \"just think where i would be without boxing. i don't even want to think about where i would be without this beautiful sport. \"i'm living responsibly, being present. that's what it's about for me now.\" \n"
          ]
        }
      ]
    },
    {
      "cell_type": "code",
      "source": [
        "sentences_w2v = nltk.sent_tokenize(text)\n",
        "for i in range(len(sentences_w2v)):\n",
        "  sentences_w2v[i] = re.sub('[^a-zA-Z]',' ',sentences_w2v[i])\n",
        "  words = nltk.word_tokenize(sentences_w2v[i])\n",
        "  sentences_w2v[i] = [j for j in words if j not in set(stopwords.words('english'))]"
      ],
      "metadata": {
        "id": "IPr6om2_6OhW"
      },
      "execution_count": 56,
      "outputs": []
    },
    {
      "cell_type": "code",
      "source": [
        "for i in range(len(sentences_w2v)):\n",
        "  print('\\033[92m{} - {}'.format(i+1,sentences[i]))\n",
        "  print('\\033[94m{} - {}'.format(i+1,sentences_w2v[i]))  \n",
        "  print()"
      ],
      "metadata": {
        "colab": {
          "base_uri": "https://localhost:8080/"
        },
        "id": "K4mZP_AU6-6X",
        "outputId": "d13780c5-5ceb-4066-baf8-67feb2f0af50"
      },
      "execution_count": 57,
      "outputs": [
        {
          "output_type": "stream",
          "name": "stdout",
          "text": [
            "\u001b[92m1 - Mike Tyson says his record-breaking run to the top of world heavyweight boxing arrived too early in life when he was weighed down by \"emotional vampires\".\n",
            "\u001b[94m1 - ['mike', 'tyson', 'says', 'record', 'breaking', 'run', 'top', 'world', 'heavyweight', 'boxing', 'arrived', 'early', 'life', 'weighed', 'emotional', 'vampires']\n",
            "\n",
            "\u001b[92m2 - Tyson is making a return to boxing at the age of 54 in an exhibition bout with Roy Jones Jr on Saturday.\n",
            "\u001b[94m2 - ['tyson', 'making', 'return', 'boxing', 'age', 'exhibition', 'bout', 'roy', 'jones', 'jr', 'saturday']\n",
            "\n",
            "\u001b[92m3 - There has been intrigue over to what to expect and how the man who became the youngest heavyweight champion in history - aged 20 - will perform.\n",
            "\u001b[94m3 - ['intrigue', 'expect', 'man', 'became', 'youngest', 'heavyweight', 'champion', 'history', 'aged', 'perform']\n",
            "\n",
            "\u001b[92m4 - \"I think Roy can handle getting slapped around a little bit,\" said Tyson.\n",
            "\u001b[94m4 - ['think', 'roy', 'handle', 'getting', 'slapped', 'around', 'little', 'bit', 'said', 'tyson']\n",
            "\n",
            "\u001b[92m5 - \"It's going to be really hot in that kitchen.\"\n",
            "\u001b[94m5 - ['going', 'really', 'hot', 'kitchen']\n",
            "\n",
            "\u001b[92m6 - Speaking to Eddie Hearn's 'No Passion No Point podcast' on BBC Sounds, Tyson appeared light-hearted in his threats to Jones and the likelihood of any serious fight breaking out between the pair is diminishing as the event draws nearer.\n",
            "\u001b[94m6 - ['speaking', 'eddie', 'hearn', 'passion', 'point', 'podcast', 'bbc', 'sounds', 'tyson', 'appeared', 'light', 'hearted', 'threats', 'jones', 'likelihood', 'serious', 'fight', 'breaking', 'pair', 'diminishing', 'event', 'draws', 'nearer']\n",
            "\n",
            "\u001b[92m7 - The body sanctioning the exhibition has stated both fighters will wear 12oz gloves, the eight rounds will be two minutes in length rather than three and that the pair \"shouldn't be going for a knockout\".\n",
            "\u001b[94m7 - ['body', 'sanctioning', 'exhibition', 'stated', 'fighters', 'wear', 'oz', 'gloves', 'eight', 'rounds', 'two', 'minutes', 'length', 'rather', 'three', 'pair', 'going', 'knockout']\n",
            "\n",
            "\u001b[92m8 - It would appear the event is in place to satisfy the curiosity of seeing Tyson in the ring against former four-weight world champion Jones, 51, rather than to offer a platform for either to chase future fights in the sport.\n",
            "\u001b[94m8 - ['would', 'appear', 'event', 'place', 'satisfy', 'curiosity', 'seeing', 'tyson', 'ring', 'former', 'four', 'weight', 'world', 'champion', 'jones', 'rather', 'offer', 'platform', 'either', 'chase', 'future', 'fights', 'sport']\n",
            "\n",
            "\u001b[92m9 - It has provided scope for Tyson's past to be revisited, including his world-title win in 1986, his imprisonment for rape six years later and the financial and drug problems that became well documented later in his life.\n",
            "\u001b[94m9 - ['provided', 'scope', 'tyson', 'past', 'revisited', 'including', 'world', 'title', 'win', 'imprisonment', 'rape', 'six', 'years', 'later', 'financial', 'drug', 'problems', 'became', 'well', 'documented', 'later', 'life']\n",
            "\n",
            "\u001b[92m10 - \"The best time of my life was probably right before I won the title,\" Tyson told Hearn.\n",
            "\u001b[94m10 - ['best', 'time', 'life', 'probably', 'right', 'title', 'tyson', 'told', 'hearn']\n",
            "\n",
            "\u001b[92m11 - \"When I won the title it got tricky.\n",
            "\u001b[94m11 - ['title', 'got', 'tricky']\n",
            "\n",
            "\u001b[92m12 - It wasn't the right time for me.\n",
            "\u001b[94m12 - ['right', 'time']\n",
            "\n",
            "\u001b[92m13 - I had too many emotional vampires around me.\n",
            "\u001b[94m13 - ['many', 'emotional', 'vampires', 'around']\n",
            "\n",
            "\u001b[92m14 - \"'I can protect myself now'\n",
            "\n",
            "Hearn's podcast sees the boxing promoter speak to individuals from popular culture about the key qualities needed to achieve success.\n",
            "\u001b[94m14 - ['protect', 'hearn', 'podcast', 'sees', 'boxing', 'promoter', 'speak', 'individuals', 'popular', 'culture', 'key', 'qualities', 'needed', 'achieve', 'success']\n",
            "\n",
            "\u001b[92m15 - Tyson, who says he started fighting when a group of men tried to steal the pigeons he collected as a child, has long championed the guidance he received from Cus D'Amato.\n",
            "\u001b[94m15 - ['tyson', 'says', 'started', 'fighting', 'group', 'men', 'tried', 'steal', 'pigeons', 'collected', 'child', 'long', 'championed', 'guidance', 'received', 'cus', 'amato']\n",
            "\n",
            "\u001b[92m16 - He believes his late trainer offered him timely direction in life but says only in recent years has he learned how to truly control some of the behaviours formed while growing up in Brownsville, New York.\n",
            "\u001b[94m16 - ['believes', 'late', 'trainer', 'offered', 'timely', 'direction', 'life', 'says', 'recent', 'years', 'learned', 'truly', 'control', 'behaviours', 'formed', 'growing', 'brownsville', 'new', 'york']\n",
            "\n",
            "\u001b[92m17 - \"That kid is always in me,\" added Tyson.\n",
            "\u001b[94m17 - ['kid', 'always', 'added', 'tyson']\n",
            "\n",
            "\u001b[92m18 - \"Now I know how to treat him, how to protect him.\n",
            "\u001b[94m18 - ['know', 'treat', 'protect']\n",
            "\n",
            "\u001b[92m19 - I wasn't protecting him when I was going to jail and all this crazy stuff.\n",
            "\u001b[94m19 - ['protecting', 'going', 'jail', 'crazy', 'stuff']\n",
            "\n",
            "\u001b[92m20 - \"The best thing that can happen to any young man or woman is to have a diligent role model that cares about them.\n",
            "\u001b[94m20 - ['best', 'thing', 'happen', 'young', 'man', 'woman', 'diligent', 'role', 'model', 'cares']\n",
            "\n",
            "\u001b[92m21 - The feelings have to be mutual.\n",
            "\u001b[94m21 - ['feelings', 'mutual']\n",
            "\n",
            "\u001b[92m22 - Your objective has to be to make them happy - to be the man they need you to be.\n",
            "\u001b[94m22 - ['objective', 'make', 'happy', 'man', 'need']\n",
            "\n",
            "\u001b[92m23 - \"Just think where I would be without boxing.\n",
            "\u001b[94m23 - ['think', 'would', 'without', 'boxing']\n",
            "\n",
            "\u001b[92m24 - I don't even want to think about where I would be without this beautiful sport.\n",
            "\u001b[94m24 - ['even', 'want', 'think', 'would', 'without', 'beautiful', 'sport']\n",
            "\n",
            "\u001b[92m25 - \"I'm living responsibly, being present.\n",
            "\u001b[94m25 - ['living', 'responsibly', 'present']\n",
            "\n",
            "\u001b[92m26 - That's what it's about for me now.\"\n",
            "\u001b[94m26 - []\n",
            "\n"
          ]
        }
      ]
    },
    {
      "cell_type": "code",
      "source": [
        "model  = Word2Vec(sentences_w2v,min_count = 2)\n",
        "words = model.wv.vocab\n",
        "print(len(words))\n",
        "print(type(words))\n",
        "print(words)\n",
        "for i,j in enumerate(words):\n",
        "  print('{} - {}'.format(i,j))"
      ],
      "metadata": {
        "colab": {
          "base_uri": "https://localhost:8080/"
        },
        "id": "6IgpGRSy7KVF",
        "outputId": "64779773-2435-45b9-f67b-f050c8c952dd"
      },
      "execution_count": 64,
      "outputs": [
        {
          "output_type": "stream",
          "name": "stdout",
          "text": [
            "33\n",
            "<class 'dict'>\n",
            "{'tyson': <gensim.models.keyedvectors.Vocab object at 0x7f5683c74ad0>, 'says': <gensim.models.keyedvectors.Vocab object at 0x7f5683c8fd50>, 'breaking': <gensim.models.keyedvectors.Vocab object at 0x7f5683c8f8d0>, 'world': <gensim.models.keyedvectors.Vocab object at 0x7f5683c8ffd0>, 'heavyweight': <gensim.models.keyedvectors.Vocab object at 0x7f5683c8f310>, 'boxing': <gensim.models.keyedvectors.Vocab object at 0x7f56848f8e90>, 'life': <gensim.models.keyedvectors.Vocab object at 0x7f5684f5e4d0>, 'emotional': <gensim.models.keyedvectors.Vocab object at 0x7f5684f5efd0>, 'vampires': <gensim.models.keyedvectors.Vocab object at 0x7f5683c8f390>, 'exhibition': <gensim.models.keyedvectors.Vocab object at 0x7f5683c8fa50>, 'roy': <gensim.models.keyedvectors.Vocab object at 0x7f5684f5e150>, 'jones': <gensim.models.keyedvectors.Vocab object at 0x7f5684f5eb90>, 'man': <gensim.models.keyedvectors.Vocab object at 0x7f5684f5e950>, 'became': <gensim.models.keyedvectors.Vocab object at 0x7f5684f5eb10>, 'champion': <gensim.models.keyedvectors.Vocab object at 0x7f5684f5e390>, 'think': <gensim.models.keyedvectors.Vocab object at 0x7f5684f5e850>, 'around': <gensim.models.keyedvectors.Vocab object at 0x7f5683cf6b90>, 'going': <gensim.models.keyedvectors.Vocab object at 0x7f5683cf6350>, 'hearn': <gensim.models.keyedvectors.Vocab object at 0x7f5683cf66d0>, 'podcast': <gensim.models.keyedvectors.Vocab object at 0x7f5683cf6550>, 'pair': <gensim.models.keyedvectors.Vocab object at 0x7f5683cf6510>, 'event': <gensim.models.keyedvectors.Vocab object at 0x7f5683cf6c50>, 'rather': <gensim.models.keyedvectors.Vocab object at 0x7f5683cf6f10>, 'would': <gensim.models.keyedvectors.Vocab object at 0x7f5683cf67d0>, 'sport': <gensim.models.keyedvectors.Vocab object at 0x7f5683cf6d10>, 'title': <gensim.models.keyedvectors.Vocab object at 0x7f5683cf6650>, 'years': <gensim.models.keyedvectors.Vocab object at 0x7f5683cf6a50>, 'later': <gensim.models.keyedvectors.Vocab object at 0x7f5683cf6b50>, 'best': <gensim.models.keyedvectors.Vocab object at 0x7f5683cf6fd0>, 'time': <gensim.models.keyedvectors.Vocab object at 0x7f5683cf6d50>, 'right': <gensim.models.keyedvectors.Vocab object at 0x7f5683cf69d0>, 'protect': <gensim.models.keyedvectors.Vocab object at 0x7f5683cf6310>, 'without': <gensim.models.keyedvectors.Vocab object at 0x7f5683cf6790>}\n",
            "0 - tyson\n",
            "1 - says\n",
            "2 - breaking\n",
            "3 - world\n",
            "4 - heavyweight\n",
            "5 - boxing\n",
            "6 - life\n",
            "7 - emotional\n",
            "8 - vampires\n",
            "9 - exhibition\n",
            "10 - roy\n",
            "11 - jones\n",
            "12 - man\n",
            "13 - became\n",
            "14 - champion\n",
            "15 - think\n",
            "16 - around\n",
            "17 - going\n",
            "18 - hearn\n",
            "19 - podcast\n",
            "20 - pair\n",
            "21 - event\n",
            "22 - rather\n",
            "23 - would\n",
            "24 - sport\n",
            "25 - title\n",
            "26 - years\n",
            "27 - later\n",
            "28 - best\n",
            "29 - time\n",
            "30 - right\n",
            "31 - protect\n",
            "32 - without\n"
          ]
        }
      ]
    },
    {
      "cell_type": "code",
      "source": [
        "vectors = model.wv('time')\n",
        "vectors"
      ],
      "metadata": {
        "colab": {
          "base_uri": "https://localhost:8080/",
          "height": 185
        },
        "id": "1nE1QOS38FRx",
        "outputId": "0682276a-50ae-4cd6-a631-7c775836d04c"
      },
      "execution_count": 65,
      "outputs": [
        {
          "output_type": "error",
          "ename": "TypeError",
          "evalue": "ignored",
          "traceback": [
            "\u001b[0;31m---------------------------------------------------------------------------\u001b[0m",
            "\u001b[0;31mTypeError\u001b[0m                                 Traceback (most recent call last)",
            "\u001b[0;32m<ipython-input-65-fb7b8cea9263>\u001b[0m in \u001b[0;36m<module>\u001b[0;34m()\u001b[0m\n\u001b[0;32m----> 1\u001b[0;31m \u001b[0mvectors\u001b[0m \u001b[0;34m=\u001b[0m \u001b[0mmodel\u001b[0m\u001b[0;34m.\u001b[0m\u001b[0mwv\u001b[0m\u001b[0;34m(\u001b[0m\u001b[0;34m'time'\u001b[0m\u001b[0;34m)\u001b[0m\u001b[0;34m\u001b[0m\u001b[0;34m\u001b[0m\u001b[0m\n\u001b[0m\u001b[1;32m      2\u001b[0m \u001b[0mvectors\u001b[0m\u001b[0;34m\u001b[0m\u001b[0;34m\u001b[0m\u001b[0m\n",
            "\u001b[0;31mTypeError\u001b[0m: 'Word2VecKeyedVectors' object is not callable"
          ]
        }
      ]
    },
    {
      "cell_type": "code",
      "source": [
        "similar = model.wv.most_similar('tyson')\n",
        "print(type(similar))\n",
        "print(len(similar))\n",
        "for i,j in (similar):\n",
        "  print('{} - {:>}'.format(i,j))"
      ],
      "metadata": {
        "colab": {
          "base_uri": "https://localhost:8080/"
        },
        "id": "nbKa5yvf8olh",
        "outputId": "a2e4a52a-9bc4-4185-b8e4-492bc6d1293d"
      },
      "execution_count": 76,
      "outputs": [
        {
          "output_type": "stream",
          "name": "stdout",
          "text": [
            "<class 'list'>\n",
            "10\n",
            "pair - 0.21497702598571777\n",
            "title - 0.14266401529312134\n",
            "became - 0.1258716881275177\n",
            "around - 0.11667010188102722\n",
            "life - 0.11108814924955368\n",
            "right - 0.0882154032588005\n",
            "exhibition - 0.08791700005531311\n",
            "would - 0.08755450695753098\n",
            "podcast - 0.08246782422065735\n",
            "world - 0.08130467683076859\n"
          ]
        }
      ]
    },
    {
      "cell_type": "code",
      "source": [
        ""
      ],
      "metadata": {
        "id": "HggpMtcu82XT"
      },
      "execution_count": null,
      "outputs": []
    }
  ]
}