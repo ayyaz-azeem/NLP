{
  "nbformat": 4,
  "nbformat_minor": 0,
  "metadata": {
    "colab": {
      "name": "Lecture05-Lemmatization.ipynb",
      "provenance": [],
      "authorship_tag": "ABX9TyNj7IObXUKOb4yjanDwJRLH",
      "include_colab_link": true
    },
    "kernelspec": {
      "name": "python3",
      "display_name": "Python 3"
    },
    "language_info": {
      "name": "python"
    }
  },
  "cells": [
    {
      "cell_type": "markdown",
      "metadata": {
        "id": "view-in-github",
        "colab_type": "text"
      },
      "source": [
        "<a href=\"https://colab.research.google.com/github/ayyaz-azeem/NLP/blob/main/Lecture05_Lemmatization.ipynb\" target=\"_parent\"><img src=\"https://colab.research.google.com/assets/colab-badge.svg\" alt=\"Open In Colab\"/></a>"
      ]
    },
    {
      "cell_type": "code",
      "execution_count": 1,
      "metadata": {
        "id": "rZsEo4n_aHiq"
      },
      "outputs": [],
      "source": [
        "import nltk"
      ]
    },
    {
      "cell_type": "code",
      "source": [
        "nltk.download('all')"
      ],
      "metadata": {
        "colab": {
          "base_uri": "https://localhost:8080/"
        },
        "id": "0rj3WfUtaJk-",
        "outputId": "c6da213e-9a90-43fc-ee53-7032f340019b"
      },
      "execution_count": 2,
      "outputs": [
        {
          "output_type": "stream",
          "name": "stdout",
          "text": [
            "[nltk_data] Downloading collection 'all'\n",
            "[nltk_data]    | \n",
            "[nltk_data]    | Downloading package abc to /root/nltk_data...\n",
            "[nltk_data]    |   Unzipping corpora/abc.zip.\n",
            "[nltk_data]    | Downloading package alpino to /root/nltk_data...\n",
            "[nltk_data]    |   Unzipping corpora/alpino.zip.\n",
            "[nltk_data]    | Downloading package averaged_perceptron_tagger to\n",
            "[nltk_data]    |     /root/nltk_data...\n",
            "[nltk_data]    |   Unzipping taggers/averaged_perceptron_tagger.zip.\n",
            "[nltk_data]    | Downloading package averaged_perceptron_tagger_ru to\n",
            "[nltk_data]    |     /root/nltk_data...\n",
            "[nltk_data]    |   Unzipping\n",
            "[nltk_data]    |       taggers/averaged_perceptron_tagger_ru.zip.\n",
            "[nltk_data]    | Downloading package basque_grammars to\n",
            "[nltk_data]    |     /root/nltk_data...\n",
            "[nltk_data]    |   Unzipping grammars/basque_grammars.zip.\n",
            "[nltk_data]    | Downloading package biocreative_ppi to\n",
            "[nltk_data]    |     /root/nltk_data...\n",
            "[nltk_data]    |   Unzipping corpora/biocreative_ppi.zip.\n",
            "[nltk_data]    | Downloading package bllip_wsj_no_aux to\n",
            "[nltk_data]    |     /root/nltk_data...\n",
            "[nltk_data]    |   Unzipping models/bllip_wsj_no_aux.zip.\n",
            "[nltk_data]    | Downloading package book_grammars to\n",
            "[nltk_data]    |     /root/nltk_data...\n",
            "[nltk_data]    |   Unzipping grammars/book_grammars.zip.\n",
            "[nltk_data]    | Downloading package brown to /root/nltk_data...\n",
            "[nltk_data]    |   Unzipping corpora/brown.zip.\n",
            "[nltk_data]    | Downloading package brown_tei to /root/nltk_data...\n",
            "[nltk_data]    |   Unzipping corpora/brown_tei.zip.\n",
            "[nltk_data]    | Downloading package cess_cat to /root/nltk_data...\n",
            "[nltk_data]    |   Unzipping corpora/cess_cat.zip.\n",
            "[nltk_data]    | Downloading package cess_esp to /root/nltk_data...\n",
            "[nltk_data]    |   Unzipping corpora/cess_esp.zip.\n",
            "[nltk_data]    | Downloading package chat80 to /root/nltk_data...\n",
            "[nltk_data]    |   Unzipping corpora/chat80.zip.\n",
            "[nltk_data]    | Downloading package city_database to\n",
            "[nltk_data]    |     /root/nltk_data...\n",
            "[nltk_data]    |   Unzipping corpora/city_database.zip.\n",
            "[nltk_data]    | Downloading package cmudict to /root/nltk_data...\n",
            "[nltk_data]    |   Unzipping corpora/cmudict.zip.\n",
            "[nltk_data]    | Downloading package comparative_sentences to\n",
            "[nltk_data]    |     /root/nltk_data...\n",
            "[nltk_data]    |   Unzipping corpora/comparative_sentences.zip.\n",
            "[nltk_data]    | Downloading package comtrans to /root/nltk_data...\n",
            "[nltk_data]    | Downloading package conll2000 to /root/nltk_data...\n",
            "[nltk_data]    |   Unzipping corpora/conll2000.zip.\n",
            "[nltk_data]    | Downloading package conll2002 to /root/nltk_data...\n",
            "[nltk_data]    |   Unzipping corpora/conll2002.zip.\n",
            "[nltk_data]    | Downloading package conll2007 to /root/nltk_data...\n",
            "[nltk_data]    | Downloading package crubadan to /root/nltk_data...\n",
            "[nltk_data]    |   Unzipping corpora/crubadan.zip.\n",
            "[nltk_data]    | Downloading package dependency_treebank to\n",
            "[nltk_data]    |     /root/nltk_data...\n",
            "[nltk_data]    |   Unzipping corpora/dependency_treebank.zip.\n",
            "[nltk_data]    | Downloading package dolch to /root/nltk_data...\n",
            "[nltk_data]    |   Unzipping corpora/dolch.zip.\n",
            "[nltk_data]    | Downloading package europarl_raw to\n",
            "[nltk_data]    |     /root/nltk_data...\n",
            "[nltk_data]    |   Unzipping corpora/europarl_raw.zip.\n",
            "[nltk_data]    | Downloading package extended_omw to\n",
            "[nltk_data]    |     /root/nltk_data...\n",
            "[nltk_data]    |   Unzipping corpora/extended_omw.zip.\n",
            "[nltk_data]    | Downloading package floresta to /root/nltk_data...\n",
            "[nltk_data]    |   Unzipping corpora/floresta.zip.\n",
            "[nltk_data]    | Downloading package framenet_v15 to\n",
            "[nltk_data]    |     /root/nltk_data...\n",
            "[nltk_data]    |   Unzipping corpora/framenet_v15.zip.\n",
            "[nltk_data]    | Downloading package framenet_v17 to\n",
            "[nltk_data]    |     /root/nltk_data...\n",
            "[nltk_data]    |   Unzipping corpora/framenet_v17.zip.\n",
            "[nltk_data]    | Downloading package gazetteers to /root/nltk_data...\n",
            "[nltk_data]    |   Unzipping corpora/gazetteers.zip.\n",
            "[nltk_data]    | Downloading package genesis to /root/nltk_data...\n",
            "[nltk_data]    |   Unzipping corpora/genesis.zip.\n",
            "[nltk_data]    | Downloading package gutenberg to /root/nltk_data...\n",
            "[nltk_data]    |   Unzipping corpora/gutenberg.zip.\n",
            "[nltk_data]    | Downloading package ieer to /root/nltk_data...\n",
            "[nltk_data]    |   Unzipping corpora/ieer.zip.\n",
            "[nltk_data]    | Downloading package inaugural to /root/nltk_data...\n",
            "[nltk_data]    |   Unzipping corpora/inaugural.zip.\n",
            "[nltk_data]    | Downloading package indian to /root/nltk_data...\n",
            "[nltk_data]    |   Unzipping corpora/indian.zip.\n",
            "[nltk_data]    | Downloading package jeita to /root/nltk_data...\n",
            "[nltk_data]    | Downloading package kimmo to /root/nltk_data...\n",
            "[nltk_data]    |   Unzipping corpora/kimmo.zip.\n",
            "[nltk_data]    | Downloading package knbc to /root/nltk_data...\n",
            "[nltk_data]    | Downloading package large_grammars to\n",
            "[nltk_data]    |     /root/nltk_data...\n",
            "[nltk_data]    |   Unzipping grammars/large_grammars.zip.\n",
            "[nltk_data]    | Downloading package lin_thesaurus to\n",
            "[nltk_data]    |     /root/nltk_data...\n",
            "[nltk_data]    |   Unzipping corpora/lin_thesaurus.zip.\n",
            "[nltk_data]    | Downloading package mac_morpho to /root/nltk_data...\n",
            "[nltk_data]    |   Unzipping corpora/mac_morpho.zip.\n",
            "[nltk_data]    | Downloading package machado to /root/nltk_data...\n",
            "[nltk_data]    | Downloading package masc_tagged to /root/nltk_data...\n",
            "[nltk_data]    | Downloading package maxent_ne_chunker to\n",
            "[nltk_data]    |     /root/nltk_data...\n",
            "[nltk_data]    |   Unzipping chunkers/maxent_ne_chunker.zip.\n",
            "[nltk_data]    | Downloading package maxent_treebank_pos_tagger to\n",
            "[nltk_data]    |     /root/nltk_data...\n",
            "[nltk_data]    |   Unzipping taggers/maxent_treebank_pos_tagger.zip.\n",
            "[nltk_data]    | Downloading package moses_sample to\n",
            "[nltk_data]    |     /root/nltk_data...\n",
            "[nltk_data]    |   Unzipping models/moses_sample.zip.\n",
            "[nltk_data]    | Downloading package movie_reviews to\n",
            "[nltk_data]    |     /root/nltk_data...\n",
            "[nltk_data]    |   Unzipping corpora/movie_reviews.zip.\n",
            "[nltk_data]    | Downloading package mte_teip5 to /root/nltk_data...\n",
            "[nltk_data]    |   Unzipping corpora/mte_teip5.zip.\n",
            "[nltk_data]    | Downloading package mwa_ppdb to /root/nltk_data...\n",
            "[nltk_data]    |   Unzipping misc/mwa_ppdb.zip.\n",
            "[nltk_data]    | Downloading package names to /root/nltk_data...\n",
            "[nltk_data]    |   Unzipping corpora/names.zip.\n",
            "[nltk_data]    | Downloading package nombank.1.0 to /root/nltk_data...\n",
            "[nltk_data]    | Downloading package nonbreaking_prefixes to\n",
            "[nltk_data]    |     /root/nltk_data...\n",
            "[nltk_data]    |   Unzipping corpora/nonbreaking_prefixes.zip.\n",
            "[nltk_data]    | Downloading package nps_chat to /root/nltk_data...\n",
            "[nltk_data]    |   Unzipping corpora/nps_chat.zip.\n",
            "[nltk_data]    | Downloading package omw to /root/nltk_data...\n",
            "[nltk_data]    |   Unzipping corpora/omw.zip.\n",
            "[nltk_data]    | Downloading package omw-1.4 to /root/nltk_data...\n",
            "[nltk_data]    |   Unzipping corpora/omw-1.4.zip.\n",
            "[nltk_data]    | Downloading package opinion_lexicon to\n",
            "[nltk_data]    |     /root/nltk_data...\n",
            "[nltk_data]    |   Unzipping corpora/opinion_lexicon.zip.\n",
            "[nltk_data]    | Downloading package panlex_swadesh to\n",
            "[nltk_data]    |     /root/nltk_data...\n",
            "[nltk_data]    | Downloading package paradigms to /root/nltk_data...\n",
            "[nltk_data]    |   Unzipping corpora/paradigms.zip.\n",
            "[nltk_data]    | Downloading package pe08 to /root/nltk_data...\n",
            "[nltk_data]    |   Unzipping corpora/pe08.zip.\n",
            "[nltk_data]    | Downloading package perluniprops to\n",
            "[nltk_data]    |     /root/nltk_data...\n",
            "[nltk_data]    |   Unzipping misc/perluniprops.zip.\n",
            "[nltk_data]    | Downloading package pil to /root/nltk_data...\n",
            "[nltk_data]    |   Unzipping corpora/pil.zip.\n",
            "[nltk_data]    | Downloading package pl196x to /root/nltk_data...\n",
            "[nltk_data]    |   Unzipping corpora/pl196x.zip.\n",
            "[nltk_data]    | Downloading package porter_test to /root/nltk_data...\n",
            "[nltk_data]    |   Unzipping stemmers/porter_test.zip.\n",
            "[nltk_data]    | Downloading package ppattach to /root/nltk_data...\n",
            "[nltk_data]    |   Unzipping corpora/ppattach.zip.\n",
            "[nltk_data]    | Downloading package problem_reports to\n",
            "[nltk_data]    |     /root/nltk_data...\n",
            "[nltk_data]    |   Unzipping corpora/problem_reports.zip.\n",
            "[nltk_data]    | Downloading package product_reviews_1 to\n",
            "[nltk_data]    |     /root/nltk_data...\n",
            "[nltk_data]    |   Unzipping corpora/product_reviews_1.zip.\n",
            "[nltk_data]    | Downloading package product_reviews_2 to\n",
            "[nltk_data]    |     /root/nltk_data...\n",
            "[nltk_data]    |   Unzipping corpora/product_reviews_2.zip.\n",
            "[nltk_data]    | Downloading package propbank to /root/nltk_data...\n",
            "[nltk_data]    | Downloading package pros_cons to /root/nltk_data...\n",
            "[nltk_data]    |   Unzipping corpora/pros_cons.zip.\n",
            "[nltk_data]    | Downloading package ptb to /root/nltk_data...\n",
            "[nltk_data]    |   Unzipping corpora/ptb.zip.\n",
            "[nltk_data]    | Downloading package punkt to /root/nltk_data...\n",
            "[nltk_data]    |   Unzipping tokenizers/punkt.zip.\n",
            "[nltk_data]    | Downloading package qc to /root/nltk_data...\n",
            "[nltk_data]    |   Unzipping corpora/qc.zip.\n",
            "[nltk_data]    | Downloading package reuters to /root/nltk_data...\n",
            "[nltk_data]    | Downloading package rslp to /root/nltk_data...\n",
            "[nltk_data]    |   Unzipping stemmers/rslp.zip.\n",
            "[nltk_data]    | Downloading package rte to /root/nltk_data...\n",
            "[nltk_data]    |   Unzipping corpora/rte.zip.\n",
            "[nltk_data]    | Downloading package sample_grammars to\n",
            "[nltk_data]    |     /root/nltk_data...\n",
            "[nltk_data]    |   Unzipping grammars/sample_grammars.zip.\n",
            "[nltk_data]    | Downloading package semcor to /root/nltk_data...\n",
            "[nltk_data]    | Downloading package senseval to /root/nltk_data...\n",
            "[nltk_data]    |   Unzipping corpora/senseval.zip.\n",
            "[nltk_data]    | Downloading package sentence_polarity to\n",
            "[nltk_data]    |     /root/nltk_data...\n",
            "[nltk_data]    |   Unzipping corpora/sentence_polarity.zip.\n",
            "[nltk_data]    | Downloading package sentiwordnet to\n",
            "[nltk_data]    |     /root/nltk_data...\n",
            "[nltk_data]    |   Unzipping corpora/sentiwordnet.zip.\n",
            "[nltk_data]    | Downloading package shakespeare to /root/nltk_data...\n",
            "[nltk_data]    |   Unzipping corpora/shakespeare.zip.\n",
            "[nltk_data]    | Downloading package sinica_treebank to\n",
            "[nltk_data]    |     /root/nltk_data...\n",
            "[nltk_data]    |   Unzipping corpora/sinica_treebank.zip.\n",
            "[nltk_data]    | Downloading package smultron to /root/nltk_data...\n",
            "[nltk_data]    |   Unzipping corpora/smultron.zip.\n",
            "[nltk_data]    | Downloading package snowball_data to\n",
            "[nltk_data]    |     /root/nltk_data...\n",
            "[nltk_data]    | Downloading package spanish_grammars to\n",
            "[nltk_data]    |     /root/nltk_data...\n",
            "[nltk_data]    |   Unzipping grammars/spanish_grammars.zip.\n",
            "[nltk_data]    | Downloading package state_union to /root/nltk_data...\n",
            "[nltk_data]    |   Unzipping corpora/state_union.zip.\n",
            "[nltk_data]    | Downloading package stopwords to /root/nltk_data...\n",
            "[nltk_data]    |   Unzipping corpora/stopwords.zip.\n",
            "[nltk_data]    | Downloading package subjectivity to\n",
            "[nltk_data]    |     /root/nltk_data...\n",
            "[nltk_data]    |   Unzipping corpora/subjectivity.zip.\n",
            "[nltk_data]    | Downloading package swadesh to /root/nltk_data...\n",
            "[nltk_data]    |   Unzipping corpora/swadesh.zip.\n",
            "[nltk_data]    | Downloading package switchboard to /root/nltk_data...\n",
            "[nltk_data]    |   Unzipping corpora/switchboard.zip.\n",
            "[nltk_data]    | Downloading package tagsets to /root/nltk_data...\n",
            "[nltk_data]    |   Unzipping help/tagsets.zip.\n",
            "[nltk_data]    | Downloading package timit to /root/nltk_data...\n",
            "[nltk_data]    |   Unzipping corpora/timit.zip.\n",
            "[nltk_data]    | Downloading package toolbox to /root/nltk_data...\n",
            "[nltk_data]    |   Unzipping corpora/toolbox.zip.\n",
            "[nltk_data]    | Downloading package treebank to /root/nltk_data...\n",
            "[nltk_data]    |   Unzipping corpora/treebank.zip.\n",
            "[nltk_data]    | Downloading package twitter_samples to\n",
            "[nltk_data]    |     /root/nltk_data...\n",
            "[nltk_data]    |   Unzipping corpora/twitter_samples.zip.\n",
            "[nltk_data]    | Downloading package udhr to /root/nltk_data...\n",
            "[nltk_data]    |   Unzipping corpora/udhr.zip.\n",
            "[nltk_data]    | Downloading package udhr2 to /root/nltk_data...\n",
            "[nltk_data]    |   Unzipping corpora/udhr2.zip.\n",
            "[nltk_data]    | Downloading package unicode_samples to\n",
            "[nltk_data]    |     /root/nltk_data...\n",
            "[nltk_data]    |   Unzipping corpora/unicode_samples.zip.\n",
            "[nltk_data]    | Downloading package universal_tagset to\n",
            "[nltk_data]    |     /root/nltk_data...\n",
            "[nltk_data]    |   Unzipping taggers/universal_tagset.zip.\n",
            "[nltk_data]    | Downloading package universal_treebanks_v20 to\n",
            "[nltk_data]    |     /root/nltk_data...\n",
            "[nltk_data]    | Downloading package vader_lexicon to\n",
            "[nltk_data]    |     /root/nltk_data...\n",
            "[nltk_data]    | Downloading package verbnet to /root/nltk_data...\n",
            "[nltk_data]    |   Unzipping corpora/verbnet.zip.\n",
            "[nltk_data]    | Downloading package verbnet3 to /root/nltk_data...\n",
            "[nltk_data]    |   Unzipping corpora/verbnet3.zip.\n",
            "[nltk_data]    | Downloading package webtext to /root/nltk_data...\n",
            "[nltk_data]    |   Unzipping corpora/webtext.zip.\n",
            "[nltk_data]    | Downloading package wmt15_eval to /root/nltk_data...\n",
            "[nltk_data]    |   Unzipping models/wmt15_eval.zip.\n",
            "[nltk_data]    | Downloading package word2vec_sample to\n",
            "[nltk_data]    |     /root/nltk_data...\n",
            "[nltk_data]    |   Unzipping models/word2vec_sample.zip.\n",
            "[nltk_data]    | Downloading package wordnet to /root/nltk_data...\n",
            "[nltk_data]    |   Unzipping corpora/wordnet.zip.\n",
            "[nltk_data]    | Downloading package wordnet2021 to /root/nltk_data...\n",
            "[nltk_data]    |   Unzipping corpora/wordnet2021.zip.\n",
            "[nltk_data]    | Downloading package wordnet31 to /root/nltk_data...\n",
            "[nltk_data]    |   Unzipping corpora/wordnet31.zip.\n",
            "[nltk_data]    | Downloading package wordnet_ic to /root/nltk_data...\n",
            "[nltk_data]    |   Unzipping corpora/wordnet_ic.zip.\n",
            "[nltk_data]    | Downloading package words to /root/nltk_data...\n",
            "[nltk_data]    |   Unzipping corpora/words.zip.\n",
            "[nltk_data]    | Downloading package ycoe to /root/nltk_data...\n",
            "[nltk_data]    |   Unzipping corpora/ycoe.zip.\n",
            "[nltk_data]    | \n",
            "[nltk_data]  Done downloading collection all\n"
          ]
        },
        {
          "output_type": "execute_result",
          "data": {
            "text/plain": [
              "True"
            ]
          },
          "metadata": {},
          "execution_count": 2
        }
      ]
    },
    {
      "cell_type": "code",
      "source": [
        "# 11 aug 1947 Quaid e Azam speech\n",
        "paragraph = \"Mr. President (Quaid-e-Azam Mohammad Ali Jinnah): Ladies and Gentlemen, I cordially thank you, with the utmost sincerity, for the honour you have conferred upon me — the greatest honour that it is possible for this Sovereign Assembly to confer — by electing me as your first President. I also thank those leaders who have spoken in appreciation of my services and their personal references to me. I sincerely hope that with your support and your co-operation we shall make this Constituent Assembly an example to the world. The Constituent Assembly has got two main functions to perform. The first is the very onerous and responsible task of framing our future constitution of Pakistan and the second of functioning as a full and complete Sovereign body as the Federal Legislature of Pakistan. We have to do the best we can in adopting a provisional constitution for the Federal Legislature of Pakistan. You know really that not only we ourselves are wondering but, I think, the whole world is wondering at this unprecedented cyclonic revolution which has brought about the plan of creating and establishing two independent Sovereign Dominions in this sub-continent. As it is, it has been unprecedented; there is no parallel in the history of the world. This mighty sub-continent with all kinds of inhabitants has been brought under a plan which is titanic, unknown, unparalleled. And what is very important with regards to it is that we have achieved it peacefully and by means of a revolution of the greatest possible character.Dealing with our first function in this Assembly, I cannot make any well-considered pronouncement at this moment, but I shall say a few things as they occur to me. The first and the foremost thing that I would like to emphasise is this — remember that you are now a Sovereign legislative body and you have got all the powers. It, therefore, places on you the gravest responsibility as to how you should take your decisions. The first observation that I would like to make is this. You will no doubt agree with me that the first duty of a Government is to maintain law and order, so that the life, property and religious beliefs of its subjects are fully protected by the State. The second thing that occurs to me is this. One of the biggest curses from which India is suffering — I do not say that other countries are free from it, but, I think, our condition is much worse — is bribery and corruption. (Hear, hear.) That really is a poison. We must put that down with an iron hand and I hope that you will take adequate measures as soon as it is possible for this Assembly to do so. Black-marketing is another curse. Well, I know that black-marketers are frequently caught and punished. According to our judicial notions sentences are passed, and sometimes fines only are imposed. Now you have to tackle this monster which today is a colossal crime against society, in our distressed conditions, when we constantly face shortage of food and or the essential commodities of life. A citizen who does black-marketing commits, I think, a greater crime than the biggest and most grievous of crimes. These black-marketers are really knowing, intelligent and ordinarily responsible people, and when they indulge in black-marketing, I think they ought to be very severely punished, because they undermine the entire system of control and regulation of food-stuffs and essential commodities, and cause wholesale starvation and want and even death. The next thing that strikes me is this. Here again is a legacy which has been passed on to us. Along with many other things good and bad, has arrived this great evil -the evil of nepotism and jobbery. This evil must be crushed relentlessly. I want to make it quite clear that I shall never tolerate any kind of jobbery, nepotism or any influence directly or indirectly brought to bear upon me. Wherever I find that such a practice is in vogue, or is continuing anywhere, low or high, I shall certainly not countenance it. I know there are people who do not quite agree with the division of Indian and the partition of the Punjab and Bengal. Much has been said against it, but now that it has been accepted, it is the duty of every one of us to loyally abide by it and honourably act according to the agreement which is now final and binding on all. But you must remember, as I have said, that this mighty revolution that has taken place is unprecedented. One can quite understand the feeling that exists between the two communities wherever one community is in majority and the other is in minority. But the question is whether it was possible or practicable to act otherwise than has been done. A division had to take place. On both sides, in Hindustan and Pakistan, there are sections of people who may not agree with it, who may not like it, but in my judgment there was no other solution and I am sure future history will record its verdict in favour of it. And what is more it will be proved by actual experience as we go on that that was the only solution of India’s constitutional problem. Any idea of a United India could never have worked and in my judgment it would have led us to terrific disaster. May be that view is correct; may be it is not; that remains to be seen. All the same, in this division it was impossible to avoid the questions of minorities being in one Dominion or the other. Now that was unavoidable. There is no other solution. Now what shall we do? Now, if we want to make this great State of Pakistan happy and prosperous we should wholly and solely concentrate on the well-being of the people, and especially of the masses and the poor. If you will work in co-operation, forgetting the past, burying the hatchet, you are bound to succeed. If you change your past and work together in a spirit that every one of you, no matter to what community he belongs, no matter to what community he belongs, no matter what relations he had with you in the past, no matter what is his colour, caste or creed, is first, second and last a citizen of this State with equal rights, privileges and obligations there will be no end to the progress you will make.\"\n",
        "print(paragraph)"
      ],
      "metadata": {
        "colab": {
          "base_uri": "https://localhost:8080/"
        },
        "id": "mW9qyt2JaMDG",
        "outputId": "cd1a265a-c845-4d1f-a60e-add40375921b"
      },
      "execution_count": 3,
      "outputs": [
        {
          "output_type": "stream",
          "name": "stdout",
          "text": [
            "Mr. President (Quaid-e-Azam Mohammad Ali Jinnah): Ladies and Gentlemen, I cordially thank you, with the utmost sincerity, for the honour you have conferred upon me — the greatest honour that it is possible for this Sovereign Assembly to confer — by electing me as your first President. I also thank those leaders who have spoken in appreciation of my services and their personal references to me. I sincerely hope that with your support and your co-operation we shall make this Constituent Assembly an example to the world. The Constituent Assembly has got two main functions to perform. The first is the very onerous and responsible task of framing our future constitution of Pakistan and the second of functioning as a full and complete Sovereign body as the Federal Legislature of Pakistan. We have to do the best we can in adopting a provisional constitution for the Federal Legislature of Pakistan. You know really that not only we ourselves are wondering but, I think, the whole world is wondering at this unprecedented cyclonic revolution which has brought about the plan of creating and establishing two independent Sovereign Dominions in this sub-continent. As it is, it has been unprecedented; there is no parallel in the history of the world. This mighty sub-continent with all kinds of inhabitants has been brought under a plan which is titanic, unknown, unparalleled. And what is very important with regards to it is that we have achieved it peacefully and by means of a revolution of the greatest possible character.Dealing with our first function in this Assembly, I cannot make any well-considered pronouncement at this moment, but I shall say a few things as they occur to me. The first and the foremost thing that I would like to emphasise is this — remember that you are now a Sovereign legislative body and you have got all the powers. It, therefore, places on you the gravest responsibility as to how you should take your decisions. The first observation that I would like to make is this. You will no doubt agree with me that the first duty of a Government is to maintain law and order, so that the life, property and religious beliefs of its subjects are fully protected by the State. The second thing that occurs to me is this. One of the biggest curses from which India is suffering — I do not say that other countries are free from it, but, I think, our condition is much worse — is bribery and corruption. (Hear, hear.) That really is a poison. We must put that down with an iron hand and I hope that you will take adequate measures as soon as it is possible for this Assembly to do so. Black-marketing is another curse. Well, I know that black-marketers are frequently caught and punished. According to our judicial notions sentences are passed, and sometimes fines only are imposed. Now you have to tackle this monster which today is a colossal crime against society, in our distressed conditions, when we constantly face shortage of food and or the essential commodities of life. A citizen who does black-marketing commits, I think, a greater crime than the biggest and most grievous of crimes. These black-marketers are really knowing, intelligent and ordinarily responsible people, and when they indulge in black-marketing, I think they ought to be very severely punished, because they undermine the entire system of control and regulation of food-stuffs and essential commodities, and cause wholesale starvation and want and even death. The next thing that strikes me is this. Here again is a legacy which has been passed on to us. Along with many other things good and bad, has arrived this great evil -the evil of nepotism and jobbery. This evil must be crushed relentlessly. I want to make it quite clear that I shall never tolerate any kind of jobbery, nepotism or any influence directly or indirectly brought to bear upon me. Wherever I find that such a practice is in vogue, or is continuing anywhere, low or high, I shall certainly not countenance it. I know there are people who do not quite agree with the division of Indian and the partition of the Punjab and Bengal. Much has been said against it, but now that it has been accepted, it is the duty of every one of us to loyally abide by it and honourably act according to the agreement which is now final and binding on all. But you must remember, as I have said, that this mighty revolution that has taken place is unprecedented. One can quite understand the feeling that exists between the two communities wherever one community is in majority and the other is in minority. But the question is whether it was possible or practicable to act otherwise than has been done. A division had to take place. On both sides, in Hindustan and Pakistan, there are sections of people who may not agree with it, who may not like it, but in my judgment there was no other solution and I am sure future history will record its verdict in favour of it. And what is more it will be proved by actual experience as we go on that that was the only solution of India’s constitutional problem. Any idea of a United India could never have worked and in my judgment it would have led us to terrific disaster. May be that view is correct; may be it is not; that remains to be seen. All the same, in this division it was impossible to avoid the questions of minorities being in one Dominion or the other. Now that was unavoidable. There is no other solution. Now what shall we do? Now, if we want to make this great State of Pakistan happy and prosperous we should wholly and solely concentrate on the well-being of the people, and especially of the masses and the poor. If you will work in co-operation, forgetting the past, burying the hatchet, you are bound to succeed. If you change your past and work together in a spirit that every one of you, no matter to what community he belongs, no matter to what community he belongs, no matter what relations he had with you in the past, no matter what is his colour, caste or creed, is first, second and last a citizen of this State with equal rights, privileges and obligations there will be no end to the progress you will make.\n"
          ]
        }
      ]
    },
    {
      "cell_type": "code",
      "source": [
        "from nltk.stem import WordNetLemmatizer\n",
        "from nltk.corpus import stopwords"
      ],
      "metadata": {
        "id": "3eFtBCgmaVid"
      },
      "execution_count": 4,
      "outputs": []
    },
    {
      "cell_type": "code",
      "source": [
        "sentences = nltk.sent_tokenize(paragraph)\n",
        "original_sentences = sentences.copy()\n",
        "lemmatizer = WordNetLemmatizer()\n",
        "print(len(sentences))"
      ],
      "metadata": {
        "colab": {
          "base_uri": "https://localhost:8080/"
        },
        "id": "5PmL3sx8al4t",
        "outputId": "1f0f2264-bc17-4e51-b2d2-921fee334f8b"
      },
      "execution_count": 13,
      "outputs": [
        {
          "output_type": "stream",
          "name": "stdout",
          "text": [
            "48\n"
          ]
        }
      ]
    },
    {
      "cell_type": "code",
      "source": [
        "for i in range(len(sentences)):\n",
        "  words = nltk.word_tokenize(sentences[i])\n",
        "  #words = [lemmatizer.lemmatize(j) for j in words if j not in set(stopwords.words('english'))]\n",
        "  words = [lemmatizer.lemmatize(j) for j in words if j not in set(stopwords.words('english'))]\n",
        "  sentences[i] = ' '.join(words)"
      ],
      "metadata": {
        "id": "J57AsfcGaxTd"
      },
      "execution_count": 14,
      "outputs": []
    },
    {
      "cell_type": "code",
      "source": [
        "for i in range(10):\n",
        "  print('sentence number {}'.format(i))\n",
        "  print(sentences[i])\n",
        "  print( original_sentences[i])\n",
        "  print()"
      ],
      "metadata": {
        "colab": {
          "base_uri": "https://localhost:8080/"
        },
        "id": "vVExCNqdbOUu",
        "outputId": "4f0196f4-8555-47cf-8200-5a65b30ed07f"
      },
      "execution_count": 15,
      "outputs": [
        {
          "output_type": "stream",
          "name": "stdout",
          "text": [
            "sentence number 0\n",
            "Mr. President ( Quaid-e-Azam Mohammad Ali Jinnah ) : Ladies Gentlemen , I cordially thank , utmost sincerity , honour conferred upon — greatest honour possible Sovereign Assembly confer — electing first President .\n",
            "Mr. President (Quaid-e-Azam Mohammad Ali Jinnah): Ladies and Gentlemen, I cordially thank you, with the utmost sincerity, for the honour you have conferred upon me — the greatest honour that it is possible for this Sovereign Assembly to confer — by electing me as your first President.\n",
            "\n",
            "sentence number 1\n",
            "I also thank leader spoken appreciation service personal reference .\n",
            "I also thank those leaders who have spoken in appreciation of my services and their personal references to me.\n",
            "\n",
            "sentence number 2\n",
            "I sincerely hope support co-operation shall make Constituent Assembly example world .\n",
            "I sincerely hope that with your support and your co-operation we shall make this Constituent Assembly an example to the world.\n",
            "\n",
            "sentence number 3\n",
            "The Constituent Assembly got two main function perform .\n",
            "The Constituent Assembly has got two main functions to perform.\n",
            "\n",
            "sentence number 4\n",
            "The first onerous responsible task framing future constitution Pakistan second functioning full complete Sovereign body Federal Legislature Pakistan .\n",
            "The first is the very onerous and responsible task of framing our future constitution of Pakistan and the second of functioning as a full and complete Sovereign body as the Federal Legislature of Pakistan.\n",
            "\n",
            "sentence number 5\n",
            "We best adopting provisional constitution Federal Legislature Pakistan .\n",
            "We have to do the best we can in adopting a provisional constitution for the Federal Legislature of Pakistan.\n",
            "\n",
            "sentence number 6\n",
            "You know really wondering , I think , whole world wondering unprecedented cyclonic revolution brought plan creating establishing two independent Sovereign Dominions sub-continent .\n",
            "You know really that not only we ourselves are wondering but, I think, the whole world is wondering at this unprecedented cyclonic revolution which has brought about the plan of creating and establishing two independent Sovereign Dominions in this sub-continent.\n",
            "\n",
            "sentence number 7\n",
            "As , unprecedented ; parallel history world .\n",
            "As it is, it has been unprecedented; there is no parallel in the history of the world.\n",
            "\n",
            "sentence number 8\n",
            "This mighty sub-continent kind inhabitant brought plan titanic , unknown , unparalleled .\n",
            "This mighty sub-continent with all kinds of inhabitants has been brought under a plan which is titanic, unknown, unparalleled.\n",
            "\n",
            "sentence number 9\n",
            "And important regard achieved peacefully mean revolution greatest possible character.Dealing first function Assembly , I make well-considered pronouncement moment , I shall say thing occur .\n",
            "And what is very important with regards to it is that we have achieved it peacefully and by means of a revolution of the greatest possible character.Dealing with our first function in this Assembly, I cannot make any well-considered pronouncement at this moment, but I shall say a few things as they occur to me.\n",
            "\n"
          ]
        }
      ]
    }
  ]
}