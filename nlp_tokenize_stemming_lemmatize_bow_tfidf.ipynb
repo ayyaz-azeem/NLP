{
  "nbformat": 4,
  "nbformat_minor": 0,
  "metadata": {
    "colab": {
      "name": "nlp-tokenize-stemming-lemmatize-bow-tfidf.ipynb",
      "provenance": [],
      "authorship_tag": "ABX9TyNOTu95OtDWTNrAEy3WLIfo",
      "include_colab_link": true
    },
    "kernelspec": {
      "name": "python3",
      "display_name": "Python 3"
    },
    "language_info": {
      "name": "python"
    }
  },
  "cells": [
    {
      "cell_type": "markdown",
      "metadata": {
        "id": "view-in-github",
        "colab_type": "text"
      },
      "source": [
        "<a href=\"https://colab.research.google.com/github/ayyaz-azeem/NLP/blob/main/nlp_tokenize_stemming_lemmatize_bow_tfidf.ipynb\" target=\"_parent\"><img src=\"https://colab.research.google.com/assets/colab-badge.svg\" alt=\"Open In Colab\"/></a>"
      ]
    },
    {
      "cell_type": "code",
      "execution_count": 1,
      "metadata": {
        "colab": {
          "base_uri": "https://localhost:8080/"
        },
        "id": "Tve3VL1ALHwp",
        "outputId": "bcc846c4-8fc3-4772-8160-219cf17054c3"
      },
      "outputs": [
        {
          "output_type": "stream",
          "name": "stdout",
          "text": [
            "[nltk_data] Downloading collection 'all'\n",
            "[nltk_data]    | \n",
            "[nltk_data]    | Downloading package abc to /root/nltk_data...\n",
            "[nltk_data]    |   Unzipping corpora/abc.zip.\n",
            "[nltk_data]    | Downloading package alpino to /root/nltk_data...\n",
            "[nltk_data]    |   Unzipping corpora/alpino.zip.\n",
            "[nltk_data]    | Downloading package averaged_perceptron_tagger to\n",
            "[nltk_data]    |     /root/nltk_data...\n",
            "[nltk_data]    |   Unzipping taggers/averaged_perceptron_tagger.zip.\n",
            "[nltk_data]    | Downloading package averaged_perceptron_tagger_ru to\n",
            "[nltk_data]    |     /root/nltk_data...\n",
            "[nltk_data]    |   Unzipping\n",
            "[nltk_data]    |       taggers/averaged_perceptron_tagger_ru.zip.\n",
            "[nltk_data]    | Downloading package basque_grammars to\n",
            "[nltk_data]    |     /root/nltk_data...\n",
            "[nltk_data]    |   Unzipping grammars/basque_grammars.zip.\n",
            "[nltk_data]    | Downloading package biocreative_ppi to\n",
            "[nltk_data]    |     /root/nltk_data...\n",
            "[nltk_data]    |   Unzipping corpora/biocreative_ppi.zip.\n",
            "[nltk_data]    | Downloading package bllip_wsj_no_aux to\n",
            "[nltk_data]    |     /root/nltk_data...\n",
            "[nltk_data]    |   Unzipping models/bllip_wsj_no_aux.zip.\n",
            "[nltk_data]    | Downloading package book_grammars to\n",
            "[nltk_data]    |     /root/nltk_data...\n",
            "[nltk_data]    |   Unzipping grammars/book_grammars.zip.\n",
            "[nltk_data]    | Downloading package brown to /root/nltk_data...\n",
            "[nltk_data]    |   Unzipping corpora/brown.zip.\n",
            "[nltk_data]    | Downloading package brown_tei to /root/nltk_data...\n",
            "[nltk_data]    |   Unzipping corpora/brown_tei.zip.\n",
            "[nltk_data]    | Downloading package cess_cat to /root/nltk_data...\n",
            "[nltk_data]    |   Unzipping corpora/cess_cat.zip.\n",
            "[nltk_data]    | Downloading package cess_esp to /root/nltk_data...\n",
            "[nltk_data]    |   Unzipping corpora/cess_esp.zip.\n",
            "[nltk_data]    | Downloading package chat80 to /root/nltk_data...\n",
            "[nltk_data]    |   Unzipping corpora/chat80.zip.\n",
            "[nltk_data]    | Downloading package city_database to\n",
            "[nltk_data]    |     /root/nltk_data...\n",
            "[nltk_data]    |   Unzipping corpora/city_database.zip.\n",
            "[nltk_data]    | Downloading package cmudict to /root/nltk_data...\n",
            "[nltk_data]    |   Unzipping corpora/cmudict.zip.\n",
            "[nltk_data]    | Downloading package comparative_sentences to\n",
            "[nltk_data]    |     /root/nltk_data...\n",
            "[nltk_data]    |   Unzipping corpora/comparative_sentences.zip.\n",
            "[nltk_data]    | Downloading package comtrans to /root/nltk_data...\n",
            "[nltk_data]    | Downloading package conll2000 to /root/nltk_data...\n",
            "[nltk_data]    |   Unzipping corpora/conll2000.zip.\n",
            "[nltk_data]    | Downloading package conll2002 to /root/nltk_data...\n",
            "[nltk_data]    |   Unzipping corpora/conll2002.zip.\n",
            "[nltk_data]    | Downloading package conll2007 to /root/nltk_data...\n",
            "[nltk_data]    | Downloading package crubadan to /root/nltk_data...\n",
            "[nltk_data]    |   Unzipping corpora/crubadan.zip.\n",
            "[nltk_data]    | Downloading package dependency_treebank to\n",
            "[nltk_data]    |     /root/nltk_data...\n",
            "[nltk_data]    |   Unzipping corpora/dependency_treebank.zip.\n",
            "[nltk_data]    | Downloading package dolch to /root/nltk_data...\n",
            "[nltk_data]    |   Unzipping corpora/dolch.zip.\n",
            "[nltk_data]    | Downloading package europarl_raw to\n",
            "[nltk_data]    |     /root/nltk_data...\n",
            "[nltk_data]    |   Unzipping corpora/europarl_raw.zip.\n",
            "[nltk_data]    | Downloading package extended_omw to\n",
            "[nltk_data]    |     /root/nltk_data...\n",
            "[nltk_data]    |   Unzipping corpora/extended_omw.zip.\n",
            "[nltk_data]    | Downloading package floresta to /root/nltk_data...\n",
            "[nltk_data]    |   Unzipping corpora/floresta.zip.\n",
            "[nltk_data]    | Downloading package framenet_v15 to\n",
            "[nltk_data]    |     /root/nltk_data...\n",
            "[nltk_data]    |   Unzipping corpora/framenet_v15.zip.\n",
            "[nltk_data]    | Downloading package framenet_v17 to\n",
            "[nltk_data]    |     /root/nltk_data...\n",
            "[nltk_data]    |   Unzipping corpora/framenet_v17.zip.\n",
            "[nltk_data]    | Downloading package gazetteers to /root/nltk_data...\n",
            "[nltk_data]    |   Unzipping corpora/gazetteers.zip.\n",
            "[nltk_data]    | Downloading package genesis to /root/nltk_data...\n",
            "[nltk_data]    |   Unzipping corpora/genesis.zip.\n",
            "[nltk_data]    | Downloading package gutenberg to /root/nltk_data...\n",
            "[nltk_data]    |   Unzipping corpora/gutenberg.zip.\n",
            "[nltk_data]    | Downloading package ieer to /root/nltk_data...\n",
            "[nltk_data]    |   Unzipping corpora/ieer.zip.\n",
            "[nltk_data]    | Downloading package inaugural to /root/nltk_data...\n",
            "[nltk_data]    |   Unzipping corpora/inaugural.zip.\n",
            "[nltk_data]    | Downloading package indian to /root/nltk_data...\n",
            "[nltk_data]    |   Unzipping corpora/indian.zip.\n",
            "[nltk_data]    | Downloading package jeita to /root/nltk_data...\n",
            "[nltk_data]    | Downloading package kimmo to /root/nltk_data...\n",
            "[nltk_data]    |   Unzipping corpora/kimmo.zip.\n",
            "[nltk_data]    | Downloading package knbc to /root/nltk_data...\n",
            "[nltk_data]    | Downloading package large_grammars to\n",
            "[nltk_data]    |     /root/nltk_data...\n",
            "[nltk_data]    |   Unzipping grammars/large_grammars.zip.\n",
            "[nltk_data]    | Downloading package lin_thesaurus to\n",
            "[nltk_data]    |     /root/nltk_data...\n",
            "[nltk_data]    |   Unzipping corpora/lin_thesaurus.zip.\n",
            "[nltk_data]    | Downloading package mac_morpho to /root/nltk_data...\n",
            "[nltk_data]    |   Unzipping corpora/mac_morpho.zip.\n",
            "[nltk_data]    | Downloading package machado to /root/nltk_data...\n",
            "[nltk_data]    | Downloading package masc_tagged to /root/nltk_data...\n",
            "[nltk_data]    | Downloading package maxent_ne_chunker to\n",
            "[nltk_data]    |     /root/nltk_data...\n",
            "[nltk_data]    |   Unzipping chunkers/maxent_ne_chunker.zip.\n",
            "[nltk_data]    | Downloading package maxent_treebank_pos_tagger to\n",
            "[nltk_data]    |     /root/nltk_data...\n",
            "[nltk_data]    |   Unzipping taggers/maxent_treebank_pos_tagger.zip.\n",
            "[nltk_data]    | Downloading package moses_sample to\n",
            "[nltk_data]    |     /root/nltk_data...\n",
            "[nltk_data]    |   Unzipping models/moses_sample.zip.\n",
            "[nltk_data]    | Downloading package movie_reviews to\n",
            "[nltk_data]    |     /root/nltk_data...\n",
            "[nltk_data]    |   Unzipping corpora/movie_reviews.zip.\n",
            "[nltk_data]    | Downloading package mte_teip5 to /root/nltk_data...\n",
            "[nltk_data]    |   Unzipping corpora/mte_teip5.zip.\n",
            "[nltk_data]    | Downloading package mwa_ppdb to /root/nltk_data...\n",
            "[nltk_data]    |   Unzipping misc/mwa_ppdb.zip.\n",
            "[nltk_data]    | Downloading package names to /root/nltk_data...\n",
            "[nltk_data]    |   Unzipping corpora/names.zip.\n",
            "[nltk_data]    | Downloading package nombank.1.0 to /root/nltk_data...\n",
            "[nltk_data]    | Downloading package nonbreaking_prefixes to\n",
            "[nltk_data]    |     /root/nltk_data...\n",
            "[nltk_data]    |   Unzipping corpora/nonbreaking_prefixes.zip.\n",
            "[nltk_data]    | Downloading package nps_chat to /root/nltk_data...\n",
            "[nltk_data]    |   Unzipping corpora/nps_chat.zip.\n",
            "[nltk_data]    | Downloading package omw to /root/nltk_data...\n",
            "[nltk_data]    |   Unzipping corpora/omw.zip.\n",
            "[nltk_data]    | Downloading package omw-1.4 to /root/nltk_data...\n",
            "[nltk_data]    |   Unzipping corpora/omw-1.4.zip.\n",
            "[nltk_data]    | Downloading package opinion_lexicon to\n",
            "[nltk_data]    |     /root/nltk_data...\n",
            "[nltk_data]    |   Unzipping corpora/opinion_lexicon.zip.\n",
            "[nltk_data]    | Downloading package panlex_swadesh to\n",
            "[nltk_data]    |     /root/nltk_data...\n",
            "[nltk_data]    | Downloading package paradigms to /root/nltk_data...\n",
            "[nltk_data]    |   Unzipping corpora/paradigms.zip.\n",
            "[nltk_data]    | Downloading package pe08 to /root/nltk_data...\n",
            "[nltk_data]    |   Unzipping corpora/pe08.zip.\n",
            "[nltk_data]    | Downloading package perluniprops to\n",
            "[nltk_data]    |     /root/nltk_data...\n",
            "[nltk_data]    |   Unzipping misc/perluniprops.zip.\n",
            "[nltk_data]    | Downloading package pil to /root/nltk_data...\n",
            "[nltk_data]    |   Unzipping corpora/pil.zip.\n",
            "[nltk_data]    | Downloading package pl196x to /root/nltk_data...\n",
            "[nltk_data]    |   Unzipping corpora/pl196x.zip.\n",
            "[nltk_data]    | Downloading package porter_test to /root/nltk_data...\n",
            "[nltk_data]    |   Unzipping stemmers/porter_test.zip.\n",
            "[nltk_data]    | Downloading package ppattach to /root/nltk_data...\n",
            "[nltk_data]    |   Unzipping corpora/ppattach.zip.\n",
            "[nltk_data]    | Downloading package problem_reports to\n",
            "[nltk_data]    |     /root/nltk_data...\n",
            "[nltk_data]    |   Unzipping corpora/problem_reports.zip.\n",
            "[nltk_data]    | Downloading package product_reviews_1 to\n",
            "[nltk_data]    |     /root/nltk_data...\n",
            "[nltk_data]    |   Unzipping corpora/product_reviews_1.zip.\n",
            "[nltk_data]    | Downloading package product_reviews_2 to\n",
            "[nltk_data]    |     /root/nltk_data...\n",
            "[nltk_data]    |   Unzipping corpora/product_reviews_2.zip.\n",
            "[nltk_data]    | Downloading package propbank to /root/nltk_data...\n",
            "[nltk_data]    | Downloading package pros_cons to /root/nltk_data...\n",
            "[nltk_data]    |   Unzipping corpora/pros_cons.zip.\n",
            "[nltk_data]    | Downloading package ptb to /root/nltk_data...\n",
            "[nltk_data]    |   Unzipping corpora/ptb.zip.\n",
            "[nltk_data]    | Downloading package punkt to /root/nltk_data...\n",
            "[nltk_data]    |   Unzipping tokenizers/punkt.zip.\n",
            "[nltk_data]    | Downloading package qc to /root/nltk_data...\n",
            "[nltk_data]    |   Unzipping corpora/qc.zip.\n",
            "[nltk_data]    | Downloading package reuters to /root/nltk_data...\n",
            "[nltk_data]    | Downloading package rslp to /root/nltk_data...\n",
            "[nltk_data]    |   Unzipping stemmers/rslp.zip.\n",
            "[nltk_data]    | Downloading package rte to /root/nltk_data...\n",
            "[nltk_data]    |   Unzipping corpora/rte.zip.\n",
            "[nltk_data]    | Downloading package sample_grammars to\n",
            "[nltk_data]    |     /root/nltk_data...\n",
            "[nltk_data]    |   Unzipping grammars/sample_grammars.zip.\n",
            "[nltk_data]    | Downloading package semcor to /root/nltk_data...\n",
            "[nltk_data]    | Downloading package senseval to /root/nltk_data...\n",
            "[nltk_data]    |   Unzipping corpora/senseval.zip.\n",
            "[nltk_data]    | Downloading package sentence_polarity to\n",
            "[nltk_data]    |     /root/nltk_data...\n",
            "[nltk_data]    |   Unzipping corpora/sentence_polarity.zip.\n",
            "[nltk_data]    | Downloading package sentiwordnet to\n",
            "[nltk_data]    |     /root/nltk_data...\n",
            "[nltk_data]    |   Unzipping corpora/sentiwordnet.zip.\n",
            "[nltk_data]    | Downloading package shakespeare to /root/nltk_data...\n",
            "[nltk_data]    |   Unzipping corpora/shakespeare.zip.\n",
            "[nltk_data]    | Downloading package sinica_treebank to\n",
            "[nltk_data]    |     /root/nltk_data...\n",
            "[nltk_data]    |   Unzipping corpora/sinica_treebank.zip.\n",
            "[nltk_data]    | Downloading package smultron to /root/nltk_data...\n",
            "[nltk_data]    |   Unzipping corpora/smultron.zip.\n",
            "[nltk_data]    | Downloading package snowball_data to\n",
            "[nltk_data]    |     /root/nltk_data...\n",
            "[nltk_data]    | Downloading package spanish_grammars to\n",
            "[nltk_data]    |     /root/nltk_data...\n",
            "[nltk_data]    |   Unzipping grammars/spanish_grammars.zip.\n",
            "[nltk_data]    | Downloading package state_union to /root/nltk_data...\n",
            "[nltk_data]    |   Unzipping corpora/state_union.zip.\n",
            "[nltk_data]    | Downloading package stopwords to /root/nltk_data...\n",
            "[nltk_data]    |   Unzipping corpora/stopwords.zip.\n",
            "[nltk_data]    | Downloading package subjectivity to\n",
            "[nltk_data]    |     /root/nltk_data...\n",
            "[nltk_data]    |   Unzipping corpora/subjectivity.zip.\n",
            "[nltk_data]    | Downloading package swadesh to /root/nltk_data...\n",
            "[nltk_data]    |   Unzipping corpora/swadesh.zip.\n",
            "[nltk_data]    | Downloading package switchboard to /root/nltk_data...\n",
            "[nltk_data]    |   Unzipping corpora/switchboard.zip.\n",
            "[nltk_data]    | Downloading package tagsets to /root/nltk_data...\n",
            "[nltk_data]    |   Unzipping help/tagsets.zip.\n",
            "[nltk_data]    | Downloading package timit to /root/nltk_data...\n",
            "[nltk_data]    |   Unzipping corpora/timit.zip.\n",
            "[nltk_data]    | Downloading package toolbox to /root/nltk_data...\n",
            "[nltk_data]    |   Unzipping corpora/toolbox.zip.\n",
            "[nltk_data]    | Downloading package treebank to /root/nltk_data...\n",
            "[nltk_data]    |   Unzipping corpora/treebank.zip.\n",
            "[nltk_data]    | Downloading package twitter_samples to\n",
            "[nltk_data]    |     /root/nltk_data...\n",
            "[nltk_data]    |   Unzipping corpora/twitter_samples.zip.\n",
            "[nltk_data]    | Downloading package udhr to /root/nltk_data...\n",
            "[nltk_data]    |   Unzipping corpora/udhr.zip.\n",
            "[nltk_data]    | Downloading package udhr2 to /root/nltk_data...\n",
            "[nltk_data]    |   Unzipping corpora/udhr2.zip.\n",
            "[nltk_data]    | Downloading package unicode_samples to\n",
            "[nltk_data]    |     /root/nltk_data...\n",
            "[nltk_data]    |   Unzipping corpora/unicode_samples.zip.\n",
            "[nltk_data]    | Downloading package universal_tagset to\n",
            "[nltk_data]    |     /root/nltk_data...\n",
            "[nltk_data]    |   Unzipping taggers/universal_tagset.zip.\n",
            "[nltk_data]    | Downloading package universal_treebanks_v20 to\n",
            "[nltk_data]    |     /root/nltk_data...\n",
            "[nltk_data]    | Downloading package vader_lexicon to\n",
            "[nltk_data]    |     /root/nltk_data...\n",
            "[nltk_data]    | Downloading package verbnet to /root/nltk_data...\n",
            "[nltk_data]    |   Unzipping corpora/verbnet.zip.\n",
            "[nltk_data]    | Downloading package verbnet3 to /root/nltk_data...\n",
            "[nltk_data]    |   Unzipping corpora/verbnet3.zip.\n",
            "[nltk_data]    | Downloading package webtext to /root/nltk_data...\n",
            "[nltk_data]    |   Unzipping corpora/webtext.zip.\n",
            "[nltk_data]    | Downloading package wmt15_eval to /root/nltk_data...\n",
            "[nltk_data]    |   Unzipping models/wmt15_eval.zip.\n",
            "[nltk_data]    | Downloading package word2vec_sample to\n",
            "[nltk_data]    |     /root/nltk_data...\n",
            "[nltk_data]    |   Unzipping models/word2vec_sample.zip.\n",
            "[nltk_data]    | Downloading package wordnet to /root/nltk_data...\n",
            "[nltk_data]    |   Unzipping corpora/wordnet.zip.\n",
            "[nltk_data]    | Downloading package wordnet2021 to /root/nltk_data...\n",
            "[nltk_data]    |   Unzipping corpora/wordnet2021.zip.\n",
            "[nltk_data]    | Downloading package wordnet31 to /root/nltk_data...\n",
            "[nltk_data]    |   Unzipping corpora/wordnet31.zip.\n",
            "[nltk_data]    | Downloading package wordnet_ic to /root/nltk_data...\n",
            "[nltk_data]    |   Unzipping corpora/wordnet_ic.zip.\n",
            "[nltk_data]    | Downloading package words to /root/nltk_data...\n",
            "[nltk_data]    |   Unzipping corpora/words.zip.\n",
            "[nltk_data]    | Downloading package ycoe to /root/nltk_data...\n",
            "[nltk_data]    |   Unzipping corpora/ycoe.zip.\n",
            "[nltk_data]    | \n",
            "[nltk_data]  Done downloading collection all\n"
          ]
        },
        {
          "output_type": "execute_result",
          "data": {
            "text/plain": [
              "True"
            ]
          },
          "metadata": {},
          "execution_count": 1
        }
      ],
      "source": [
        "import nltk\n",
        "nltk.download('all')"
      ]
    },
    {
      "cell_type": "code",
      "source": [
        "para = \"\"\"The World Bank (WB) has warned that Pakistan and Sri Lanka are the highest on account of external debt repayment ratio to exports and remittances in the South Asian region.\n",
        "\n",
        "The WB also improved Pakistan’s GDP growth prospects up to 4.3 per cent from the earlier projection of 3.4 for the current fiscal year and 4 per cent for the next fiscal year 2022-23.\n",
        "\n",
        "“Indicators of ability to pay, such as the ratio of public external debt service to exports and remittances, is highest in Pakistan and Sri Lanka. The situation is especially worrisome in Sri Lanka, where heightened fiscal and external risks led to a series of sovereign credit rating downgrades, preventing market-based refinancing” the WB’s report titled “The South Asia Economic Focus, Reshaping Norms: A New Way Forward” stated which was launched on Wednesday.\"\"\"\n"
      ],
      "metadata": {
        "id": "Xz2JvvkBLcmo"
      },
      "execution_count": 9,
      "outputs": []
    },
    {
      "cell_type": "code",
      "source": [
        "sentences = nltk.sent_tokenize(para)"
      ],
      "metadata": {
        "id": "jSEJwH2mL1Mq"
      },
      "execution_count": 10,
      "outputs": []
    },
    {
      "cell_type": "code",
      "source": [
        "for i in range(len(sentences)):\n",
        "  print('{} - {}'.format(i+1,sentences[i]))"
      ],
      "metadata": {
        "colab": {
          "base_uri": "https://localhost:8080/"
        },
        "id": "OqVuZV8cL1PR",
        "outputId": "4298208e-b14f-4803-9f71-5b9b8a0bc573"
      },
      "execution_count": 11,
      "outputs": [
        {
          "output_type": "stream",
          "name": "stdout",
          "text": [
            "1 - The World Bank (WB) has warned that Pakistan and Sri Lanka are the highest on account of external debt repayment ratio to exports and remittances in the South Asian region.\n",
            "2 - The WB also improved Pakistan’s GDP growth prospects up to 4.3 per cent from the earlier projection of 3.4 for the current fiscal year and 4 per cent for the next fiscal year 2022-23.\n",
            "3 - “Indicators of ability to pay, such as the ratio of public external debt service to exports and remittances, is highest in Pakistan and Sri Lanka.\n",
            "4 - The situation is especially worrisome in Sri Lanka, where heightened fiscal and external risks led to a series of sovereign credit rating downgrades, preventing market-based refinancing” the WB’s report titled “The South Asia Economic Focus, Reshaping Norms: A New Way Forward” stated which was launched on Wednesday.\n"
          ]
        }
      ]
    },
    {
      "cell_type": "code",
      "source": [
        "word = nltk.word_tokenize(para)"
      ],
      "metadata": {
        "id": "zQ78PmRuL1SR"
      },
      "execution_count": 12,
      "outputs": []
    },
    {
      "cell_type": "code",
      "source": [
        "from nltk.stem import PorterStemmer\n",
        "PS = PorterStemmer()\n",
        "from nltk.corpus import stopwords\n",
        "sentences_PS = sentences.copy()"
      ],
      "metadata": {
        "id": "_Ic1ZV7YL1Xk"
      },
      "execution_count": 13,
      "outputs": []
    },
    {
      "cell_type": "code",
      "source": [
        "for i in range(len(sentences_PS)):\n",
        "  words = nltk.word_tokenize(sentences_PS[i])\n",
        "  words = [j.lower() for j in words]\n",
        "  words = [PS.stem(j) for j in words if j not in set(stopwords.words('english'))]\n",
        "  sentences_PS[i] = ' '.join(words)"
      ],
      "metadata": {
        "id": "wDCZrXrML1aq"
      },
      "execution_count": 14,
      "outputs": []
    },
    {
      "cell_type": "code",
      "source": [
        "for i in range(len(sentences)):\n",
        "  print('\\033[92m{} - {}'.format(i+1,sentences[i]))\n",
        "print()\n",
        "for i in range(len(sentences_PS)):\n",
        "  print('\\033[94m{} - {}'.format(i+1,sentences_PS[i]))"
      ],
      "metadata": {
        "colab": {
          "base_uri": "https://localhost:8080/"
        },
        "id": "60s1mzFpMu6g",
        "outputId": "7c2f6de0-9dc6-4003-b81a-e4421da99d25"
      },
      "execution_count": 15,
      "outputs": [
        {
          "output_type": "stream",
          "name": "stdout",
          "text": [
            "\u001b[92m1 - The World Bank (WB) has warned that Pakistan and Sri Lanka are the highest on account of external debt repayment ratio to exports and remittances in the South Asian region.\n",
            "\u001b[92m2 - The WB also improved Pakistan’s GDP growth prospects up to 4.3 per cent from the earlier projection of 3.4 for the current fiscal year and 4 per cent for the next fiscal year 2022-23.\n",
            "\u001b[92m3 - “Indicators of ability to pay, such as the ratio of public external debt service to exports and remittances, is highest in Pakistan and Sri Lanka.\n",
            "\u001b[92m4 - The situation is especially worrisome in Sri Lanka, where heightened fiscal and external risks led to a series of sovereign credit rating downgrades, preventing market-based refinancing” the WB’s report titled “The South Asia Economic Focus, Reshaping Norms: A New Way Forward” stated which was launched on Wednesday.\n",
            "\n",
            "\u001b[94m1 - world bank ( wb ) warn pakistan sri lanka highest account extern debt repay ratio export remitt south asian region .\n",
            "\u001b[94m2 - wb also improv pakistan ’ gdp growth prospect 4.3 per cent earlier project 3.4 current fiscal year 4 per cent next fiscal year 2022-23 .\n",
            "\u001b[94m3 - “ indic abil pay , ratio public extern debt servic export remitt , highest pakistan sri lanka .\n",
            "\u001b[94m4 - situat especi worrisom sri lanka , heighten fiscal extern risk led seri sovereign credit rate downgrad , prevent market-bas refinanc ” wb ’ report titl “ south asia econom focu , reshap norm : new way forward ” state launch wednesday .\n"
          ]
        }
      ]
    },
    {
      "cell_type": "code",
      "source": [
        "from nltk.stem import WordNetLemmatizer\n",
        "WN = WordNetLemmatizer()\n",
        "sentences_WN = sentences.copy()"
      ],
      "metadata": {
        "id": "jUa8mytlNJ9p"
      },
      "execution_count": 16,
      "outputs": []
    },
    {
      "cell_type": "code",
      "source": [
        "for i in range(len(sentences_WN)):\n",
        "  words = nltk.word_tokenize(sentences_WN[i])\n",
        "  words = [j.lower() for j in words]\n",
        "  words = [WN.lemmatize(j) for j in words if j not in set(stopwords.words('english'))]\n",
        "  sentences_WN[i] = ' '.join(words)"
      ],
      "metadata": {
        "id": "6T-GJVSLNWsE"
      },
      "execution_count": 17,
      "outputs": []
    },
    {
      "cell_type": "code",
      "source": [
        "for i in range(len(sentences)):\n",
        "  print('\\033[92m{} - {}'.format(i+1,sentences[i]))\n",
        "print()\n",
        "for i in range(len(sentences_PS)):\n",
        "  print('\\033[94m{} - {}'.format(i+1,sentences_PS[i]))\n",
        "print()\n",
        "for i in range(len(sentences_WN)):\n",
        "  print('\\033[95m{} - {}'.format(i+1,sentences_WN[i]))"
      ],
      "metadata": {
        "colab": {
          "base_uri": "https://localhost:8080/"
        },
        "id": "kHdxejAfNuKl",
        "outputId": "9717c206-67a3-4537-ca97-659c601ca5d3"
      },
      "execution_count": 19,
      "outputs": [
        {
          "output_type": "stream",
          "name": "stdout",
          "text": [
            "\u001b[92m1 - The World Bank (WB) has warned that Pakistan and Sri Lanka are the highest on account of external debt repayment ratio to exports and remittances in the South Asian region.\n",
            "\u001b[92m2 - The WB also improved Pakistan’s GDP growth prospects up to 4.3 per cent from the earlier projection of 3.4 for the current fiscal year and 4 per cent for the next fiscal year 2022-23.\n",
            "\u001b[92m3 - “Indicators of ability to pay, such as the ratio of public external debt service to exports and remittances, is highest in Pakistan and Sri Lanka.\n",
            "\u001b[92m4 - The situation is especially worrisome in Sri Lanka, where heightened fiscal and external risks led to a series of sovereign credit rating downgrades, preventing market-based refinancing” the WB’s report titled “The South Asia Economic Focus, Reshaping Norms: A New Way Forward” stated which was launched on Wednesday.\n",
            "\n",
            "\u001b[94m1 - world bank ( wb ) warn pakistan sri lanka highest account extern debt repay ratio export remitt south asian region .\n",
            "\u001b[94m2 - wb also improv pakistan ’ gdp growth prospect 4.3 per cent earlier project 3.4 current fiscal year 4 per cent next fiscal year 2022-23 .\n",
            "\u001b[94m3 - “ indic abil pay , ratio public extern debt servic export remitt , highest pakistan sri lanka .\n",
            "\u001b[94m4 - situat especi worrisom sri lanka , heighten fiscal extern risk led seri sovereign credit rate downgrad , prevent market-bas refinanc ” wb ’ report titl “ south asia econom focu , reshap norm : new way forward ” state launch wednesday .\n",
            "\n",
            "\u001b[95m1 - world bank ( wb ) warned pakistan sri lanka highest account external debt repayment ratio export remittance south asian region .\n",
            "\u001b[95m2 - wb also improved pakistan ’ gdp growth prospect 4.3 per cent earlier projection 3.4 current fiscal year 4 per cent next fiscal year 2022-23 .\n",
            "\u001b[95m3 - “ indicator ability pay , ratio public external debt service export remittance , highest pakistan sri lanka .\n",
            "\u001b[95m4 - situation especially worrisome sri lanka , heightened fiscal external risk led series sovereign credit rating downgrade , preventing market-based refinancing ” wb ’ report titled “ south asia economic focus , reshaping norm : new way forward ” stated launched wednesday .\n"
          ]
        }
      ]
    },
    {
      "cell_type": "code",
      "source": [
        "print(WN.lemmatize('warned'))\n",
        "print(PS.stem('warned'))"
      ],
      "metadata": {
        "colab": {
          "base_uri": "https://localhost:8080/"
        },
        "id": "ii0o-9k3Ot8P",
        "outputId": "19ad2547-7c5a-4e63-f41c-82bf8524d372"
      },
      "execution_count": 21,
      "outputs": [
        {
          "output_type": "stream",
          "name": "stdout",
          "text": [
            "warned\n",
            "warn\n"
          ]
        }
      ]
    },
    {
      "cell_type": "code",
      "source": [
        "import re\n",
        "corpus_PS = []\n",
        "corpus_WN = []\n",
        "sentences_bow = sentences.copy()\n",
        "for i in range(len(sentences_bow)):\n",
        "  #review = nltk.word_tokenize(sentences_bow[i])\n",
        "  review = re.sub('[^a-zA-Z]',' ',sentences_bow[i])\n",
        "  review = review.lower()\n",
        "  review = review.split()\n",
        "  review_PS = [PS.stem(j) for j in review if j not in set(stopwords.words('english'))]\n",
        "  review_WN = [WN.lemmatize(j) for j in review if j not in set(stopwords.words('english'))]\n",
        "  review_PS = ' '.join(review_PS)\n",
        "  review_WN = ' '.join(review_WN)\n",
        "  corpus_PS.append(review_PS)\n",
        "  corpus_WN.append(review_WN)\n"
      ],
      "metadata": {
        "id": "vnRhWpozOzbi"
      },
      "execution_count": 23,
      "outputs": []
    },
    {
      "cell_type": "code",
      "source": [
        "# creating bag of words model\n",
        "from sklearn.feature_extraction.text import CountVectorizer\n",
        "CV = CountVectorizer()\n",
        "X = CV.fit_transform(corpus_WN).toarray()\n",
        "CV.get_feature_names_out()"
      ],
      "metadata": {
        "colab": {
          "base_uri": "https://localhost:8080/"
        },
        "id": "pYBNpTRGYUmb",
        "outputId": "30e73646-9b54-453c-874b-a0326aa7a7b9"
      },
      "execution_count": 25,
      "outputs": [
        {
          "output_type": "execute_result",
          "data": {
            "text/plain": [
              "array(['ability', 'account', 'also', 'asia', 'asian', 'bank', 'based',\n",
              "       'cent', 'credit', 'current', 'debt', 'downgrade', 'earlier',\n",
              "       'economic', 'especially', 'export', 'external', 'fiscal', 'focus',\n",
              "       'forward', 'gdp', 'growth', 'heightened', 'highest', 'improved',\n",
              "       'indicator', 'lanka', 'launched', 'led', 'market', 'new', 'next',\n",
              "       'norm', 'pakistan', 'pay', 'per', 'preventing', 'projection',\n",
              "       'prospect', 'public', 'rating', 'ratio', 'refinancing', 'region',\n",
              "       'remittance', 'repayment', 'report', 'reshaping', 'risk', 'series',\n",
              "       'service', 'situation', 'south', 'sovereign', 'sri', 'stated',\n",
              "       'titled', 'warned', 'way', 'wb', 'wednesday', 'world', 'worrisome',\n",
              "       'year'], dtype=object)"
            ]
          },
          "metadata": {},
          "execution_count": 25
        }
      ]
    },
    {
      "cell_type": "code",
      "source": [
        "len(CV.get_feature_names_out())"
      ],
      "metadata": {
        "colab": {
          "base_uri": "https://localhost:8080/"
        },
        "id": "8V1c9AvWYoX_",
        "outputId": "a24dc7f1-9630-4f9c-dbfd-95f0a2df4e6f"
      },
      "execution_count": 26,
      "outputs": [
        {
          "output_type": "execute_result",
          "data": {
            "text/plain": [
              "64"
            ]
          },
          "metadata": {},
          "execution_count": 26
        }
      ]
    },
    {
      "cell_type": "code",
      "source": [
        "from sklearn.feature_extraction.text import TfidfVectorizer\n",
        "CV2 = TfidfVectorizer()\n",
        "X = CV2.fit_transform(corpus_WN).toarray()\n",
        "CV2.get_feature_names_out()"
      ],
      "metadata": {
        "colab": {
          "base_uri": "https://localhost:8080/"
        },
        "id": "E_rMW5PdYuST",
        "outputId": "d5f81653-ecc1-4910-bb6a-02dfce65baf2"
      },
      "execution_count": 28,
      "outputs": [
        {
          "output_type": "execute_result",
          "data": {
            "text/plain": [
              "array(['ability', 'account', 'also', 'asia', 'asian', 'bank', 'based',\n",
              "       'cent', 'credit', 'current', 'debt', 'downgrade', 'earlier',\n",
              "       'economic', 'especially', 'export', 'external', 'fiscal', 'focus',\n",
              "       'forward', 'gdp', 'growth', 'heightened', 'highest', 'improved',\n",
              "       'indicator', 'lanka', 'launched', 'led', 'market', 'new', 'next',\n",
              "       'norm', 'pakistan', 'pay', 'per', 'preventing', 'projection',\n",
              "       'prospect', 'public', 'rating', 'ratio', 'refinancing', 'region',\n",
              "       'remittance', 'repayment', 'report', 'reshaping', 'risk', 'series',\n",
              "       'service', 'situation', 'south', 'sovereign', 'sri', 'stated',\n",
              "       'titled', 'warned', 'way', 'wb', 'wednesday', 'world', 'worrisome',\n",
              "       'year'], dtype=object)"
            ]
          },
          "metadata": {},
          "execution_count": 28
        }
      ]
    },
    {
      "cell_type": "code",
      "source": [
        "len(CV2.get_feature_names_out())"
      ],
      "metadata": {
        "colab": {
          "base_uri": "https://localhost:8080/"
        },
        "id": "rOc-dPidcJLe",
        "outputId": "8a87c1c7-834b-4b12-c934-e057b3c511e4"
      },
      "execution_count": 29,
      "outputs": [
        {
          "output_type": "execute_result",
          "data": {
            "text/plain": [
              "64"
            ]
          },
          "metadata": {},
          "execution_count": 29
        }
      ]
    },
    {
      "cell_type": "code",
      "source": [
        ""
      ],
      "metadata": {
        "id": "_Za8mMXjcNoO"
      },
      "execution_count": null,
      "outputs": []
    }
  ]
}