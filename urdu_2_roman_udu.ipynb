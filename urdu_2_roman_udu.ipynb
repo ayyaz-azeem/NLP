{
  "nbformat": 4,
  "nbformat_minor": 0,
  "metadata": {
    "colab": {
      "name": "urdu_2_roman_udu.ipynb",
      "provenance": [],
      "authorship_tag": "ABX9TyNB6fFrw6uK2dD+IH71SJ1x",
      "include_colab_link": true
    },
    "kernelspec": {
      "name": "python3",
      "display_name": "Python 3"
    },
    "language_info": {
      "name": "python"
    }
  },
  "cells": [
    {
      "cell_type": "markdown",
      "metadata": {
        "id": "view-in-github",
        "colab_type": "text"
      },
      "source": [
        "<a href=\"https://colab.research.google.com/github/ayyaz-azeem/NLP/blob/main/urdu_2_roman_udu.ipynb\" target=\"_parent\"><img src=\"https://colab.research.google.com/assets/colab-badge.svg\" alt=\"Open In Colab\"/></a>"
      ]
    },
    {
      "cell_type": "code",
      "execution_count": 3,
      "metadata": {
        "id": "rCKKwp937khe"
      },
      "outputs": [],
      "source": [
        "buck2uni = {\n",
        "            u\"\\u0627\":\"A\",\n",
        "            u\"\\u0627\":\"A\", \n",
        "            u\"\\u0675\":\"A\", \n",
        "            u\"\\u0673\":\"A\", \n",
        "            u\"\\u0630\":\"A\", \n",
        "            u\"\\u0622\":\"AA\", \n",
        "            u\"\\u0628\":\"B\", \n",
        "            u\"\\u067E\":\"P\", \n",
        "            u\"\\u062A\":\"T\", \n",
        "            u\"\\u0637\":\"T\", \n",
        "            u\"\\u0679\":\"T\", \n",
        "            u\"\\u062C\":\"J\", \n",
        "            u\"\\u0633\":\"S\", \n",
        "            u\"\\u062B\":\"S\", \n",
        "            u\"\\u0635\":\"S\", \n",
        "            u\"\\u0686\":\"CH\", \n",
        "            u\"\\u062D\":\"H\", \n",
        "            u\"\\u0647\":\"H\", \n",
        "            u\"\\u0629\":\"H\", \n",
        "            u\"\\u06DF\":\"H\", \n",
        "            u\"\\u062E\":\"KH\", \n",
        "            u\"\\u062F\":\"D\", \n",
        "            u\"\\u0688\":\"D\", \n",
        "            u\"\\u0630\":\"Z\", \n",
        "            u\"\\u0632\":\"Z\", \n",
        "            u\"\\u0636\":\"Z\", \n",
        "            u\"\\u0638\":\"Z\", \n",
        "            u\"\\u068E\":\"Z\", \n",
        "            u\"\\u0631\":\"R\", \n",
        "            u\"\\u0691\":\"R\", \n",
        "            u\"\\u0634\":\"SH\", \n",
        "            u\"\\u063A\":\"GH\", \n",
        "            u\"\\u0641\":\"F\", \n",
        "            u\"\\u06A9\":\"K\", \n",
        "            u\"\\u0642\":\"K\", \n",
        "            u\"\\u06AF\":\"G\", \n",
        "            u\"\\u0644\":\"L\", \n",
        "            u\"\\u0645\":\"M\", \n",
        "            u\"\\u0646\":\"N\", \n",
        "            u\"\\u06BA\":\"N\", \n",
        "            u\"\\u0648\":\"O\", \n",
        "            u\"\\u0649\":\"Y\", \n",
        "            u\"\\u0626\":\"Y\", \n",
        "            u\"\\u06CC\":\"Y\", \n",
        "\n",
        "            u\"\\u06D2\":\"E\", \n",
        "            u\"\\u06C1\":\"H\",\n",
        "            u\"\\u064A\":\"E\"  ,\n",
        "            u\"\\u06C2\":\"AH\"  ,\n",
        "            u\"\\u06BE\":\"H\"  ,\n",
        "            u\"\\u0639\":\"A\"  ,\n",
        "            u\"\\u0643\":\"K\" ,\n",
        "            u\"\\u0621\":\"A\",\n",
        "            u\"\\u0624\":\"O\",\n",
        "            u\"\\u060C\":\"\" #seperator ulta comma\n",
        "}\n"
      ]
    },
    {
      "cell_type": "code",
      "source": [
        "\n",
        "def transString(string, reverse=0):\n",
        "    '''Given a Unicode string, transliterate into Buckwalter. To go from\n",
        "    Buckwalter back to Unicode, set reverse=1'''\n",
        "\n",
        "    for k, v in buck2uni.items():\n",
        "      if not reverse:\n",
        "            string = string.replace(k, v)\n",
        "      else:\n",
        "            string = string.replace(v, k)\n",
        "\n",
        "    return string\n"
      ],
      "metadata": {
        "id": "kc1H8RRi7_JV"
      },
      "execution_count": 4,
      "outputs": []
    },
    {
      "cell_type": "code",
      "source": [
        "#word = 'قانونی'\n",
        "word = \"\"\"پاکستان کی نئی اتحادی جماعتوں کی حکومت نے 30 وزراء، چار وزرائے مملکت اور تین مشیران پر مشتمل کابینہ کے ناموں کو حتمی شکل دے دی ہے۔ ابتدائی کابینہ میں پیپلز پارٹی کے بلاول بھٹو زرداری شامل نہیں تاہم وہ جلد ہی بیرون ملک سے واپسی پر حلف اٹھا کر وزیر خارجہ بنیں گے۔ \n",
        "اردو نیوز کو دستیاب ایک خفیہ فہرست جو وزیراعظم کے سیکرٹری ڈاکٹر سید توقیر شاہ کی جانب سے کابینہ سیکرٹریٹ کو بھجوائی گئی ہے میں بتایا گیا ہے کہ یہ وزراء حلف اٹھائیں گے جبکہ تین مشیر بھی کابینہ کا حصہ ہوں گے۔ \n",
        "فہرست کے مطابق مسلم لیگ ن کے 12 وفاقی وزراء، دو وزرائے مملکت اور دو مشیر جبکہ پیپلز پارٹی کے 9 وزراء، دو وزرائے مملکت اور ایک مشیر کابینہ میں شامل ہوں گے۔\"\"\"\n",
        "print(word)\n",
        "print(type(word))\n"
      ],
      "metadata": {
        "colab": {
          "base_uri": "https://localhost:8080/"
        },
        "id": "722V7CrT8Dez",
        "outputId": "1f463bbb-d7ce-4da5-d6b5-4ef1fc754753"
      },
      "execution_count": 9,
      "outputs": [
        {
          "output_type": "stream",
          "name": "stdout",
          "text": [
            "پاکستان کی نئی اتحادی جماعتوں کی حکومت نے 30 وزراء، چار وزرائے مملکت اور تین مشیران پر مشتمل کابینہ کے ناموں کو حتمی شکل دے دی ہے۔ ابتدائی کابینہ میں پیپلز پارٹی کے بلاول بھٹو زرداری شامل نہیں تاہم وہ جلد ہی بیرون ملک سے واپسی پر حلف اٹھا کر وزیر خارجہ بنیں گے۔ \n",
            "اردو نیوز کو دستیاب ایک خفیہ فہرست جو وزیراعظم کے سیکرٹری ڈاکٹر سید توقیر شاہ کی جانب سے کابینہ سیکرٹریٹ کو بھجوائی گئی ہے میں بتایا گیا ہے کہ یہ وزراء حلف اٹھائیں گے جبکہ تین مشیر بھی کابینہ کا حصہ ہوں گے۔ \n",
            "فہرست کے مطابق مسلم لیگ ن کے 12 وفاقی وزراء، دو وزرائے مملکت اور دو مشیر جبکہ پیپلز پارٹی کے 9 وزراء، دو وزرائے مملکت اور ایک مشیر کابینہ میں شامل ہوں گے۔\n",
            "<class 'str'>\n"
          ]
        }
      ]
    },
    {
      "cell_type": "code",
      "source": [
        "word.encode().decode('utf-8', 'ignore')"
      ],
      "metadata": {
        "colab": {
          "base_uri": "https://localhost:8080/",
          "height": 87
        },
        "id": "irFy042o8Dhd",
        "outputId": "5e1fba6c-bf58-4f29-8c7f-08a4a79c2710"
      },
      "execution_count": 10,
      "outputs": [
        {
          "output_type": "execute_result",
          "data": {
            "text/plain": [
              "'پاکستان کی نئی اتحادی جماعتوں کی حکومت نے 30 وزراء، چار وزرائے مملکت اور تین مشیران پر مشتمل کابینہ کے ناموں کو حتمی شکل دے دی ہے۔ ابتدائی کابینہ میں پیپلز پارٹی کے بلاول بھٹو زرداری شامل نہیں تاہم وہ جلد ہی بیرون ملک سے واپسی پر حلف اٹھا کر وزیر خارجہ بنیں گے۔ \\nاردو نیوز کو دستیاب ایک خفیہ فہرست جو وزیراعظم کے سیکرٹری ڈاکٹر سید توقیر شاہ کی جانب سے کابینہ سیکرٹریٹ کو بھجوائی گئی ہے میں بتایا گیا ہے کہ یہ وزراء حلف اٹھائیں گے جبکہ تین مشیر بھی کابینہ کا حصہ ہوں گے۔ \\nفہرست کے مطابق مسلم لیگ ن کے 12 وفاقی وزراء، دو وزرائے مملکت اور دو مشیر جبکہ پیپلز پارٹی کے 9 وزراء، دو وزرائے مملکت اور ایک مشیر کابینہ میں شامل ہوں گے۔'"
            ],
            "application/vnd.google.colaboratory.intrinsic+json": {
              "type": "string"
            }
          },
          "metadata": {},
          "execution_count": 10
        }
      ]
    },
    {
      "cell_type": "code",
      "source": [
        "#print(unicode(word, \"utf-8\"))\n",
        "print(transString(word))"
      ],
      "metadata": {
        "colab": {
          "base_uri": "https://localhost:8080/"
        },
        "id": "O2FncwuF8NRe",
        "outputId": "cfb1d366-ef59-4686-9cc6-188f2e29c156"
      },
      "execution_count": 11,
      "outputs": [
        {
          "output_type": "stream",
          "name": "stdout",
          "text": [
            "PAKSTAN KY NYY ATHADY JMAATON KY HKOMT NE 30 OZRAA CHAR OZRAYE MMLKT AOR TYN MSHYRAN PR MSHTML KABYNH KE NAMON KO HTMY SHKL DE DY HE۔ ABTDAYY KABYNH MYN PYPLZ PARTY KE BLAOL BHTO ZRDARY SHAML NHYN TAHM OH JLD HY BYRON MLK SE OAPSY PR HLF ATHA KR OZYR KHARJH BNYN GE۔ \n",
            "ARDO NYOZ KO DSTYAB AYK KHFYH FHRST JO OZYRAAZM KE SYKRTRY DAKTR SYD TOKYR SHAH KY JANB SE KABYNH SYKRTRYT KO BHJOAYY GYY HE MYN BTAYA GYA HE KH YH OZRAA HLF ATHAYYN GE JBKH TYN MSHYR BHY KABYNH KA HSH HON GE۔ \n",
            "FHRST KE MTABK MSLM LYG N KE 12 OFAKY OZRAA DO OZRAYE MMLKT AOR DO MSHYR JBKH PYPLZ PARTY KE 9 OZRAA DO OZRAYE MMLKT AOR AYK MSHYR KABYNH MYN SHAML HON GE۔\n"
          ]
        }
      ]
    },
    {
      "cell_type": "code",
      "source": [
        ""
      ],
      "metadata": {
        "id": "4r0ku_FE8NTn"
      },
      "execution_count": null,
      "outputs": []
    }
  ]
}