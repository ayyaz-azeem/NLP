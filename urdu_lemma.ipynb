{
  "nbformat": 4,
  "nbformat_minor": 0,
  "metadata": {
    "colab": {
      "name": "urdu-lemma.ipynb",
      "provenance": [],
      "include_colab_link": true
    },
    "kernelspec": {
      "name": "python3",
      "display_name": "Python 3"
    },
    "language_info": {
      "name": "python"
    }
  },
  "cells": [
    {
      "cell_type": "markdown",
      "metadata": {
        "id": "view-in-github",
        "colab_type": "text"
      },
      "source": [
        "<a href=\"https://colab.research.google.com/github/ayyaz-azeem/NLP/blob/main/urdu_lemma.ipynb\" target=\"_parent\"><img src=\"https://colab.research.google.com/assets/colab-badge.svg\" alt=\"Open In Colab\"/></a>"
      ]
    },
    {
      "cell_type": "code",
      "execution_count": 1,
      "metadata": {
        "colab": {
          "base_uri": "https://localhost:8080/"
        },
        "id": "rf9g20dbdYyL",
        "outputId": "d6f1afd6-2a1f-49c4-e0fa-eb9a332d1115"
      },
      "outputs": [
        {
          "output_type": "stream",
          "name": "stdout",
          "text": [
            "[nltk_data] Downloading collection 'all'\n",
            "[nltk_data]    | \n",
            "[nltk_data]    | Downloading package abc to /root/nltk_data...\n",
            "[nltk_data]    |   Unzipping corpora/abc.zip.\n",
            "[nltk_data]    | Downloading package alpino to /root/nltk_data...\n",
            "[nltk_data]    |   Unzipping corpora/alpino.zip.\n",
            "[nltk_data]    | Downloading package averaged_perceptron_tagger to\n",
            "[nltk_data]    |     /root/nltk_data...\n",
            "[nltk_data]    |   Unzipping taggers/averaged_perceptron_tagger.zip.\n",
            "[nltk_data]    | Downloading package averaged_perceptron_tagger_ru to\n",
            "[nltk_data]    |     /root/nltk_data...\n",
            "[nltk_data]    |   Unzipping\n",
            "[nltk_data]    |       taggers/averaged_perceptron_tagger_ru.zip.\n",
            "[nltk_data]    | Downloading package basque_grammars to\n",
            "[nltk_data]    |     /root/nltk_data...\n",
            "[nltk_data]    |   Unzipping grammars/basque_grammars.zip.\n",
            "[nltk_data]    | Downloading package biocreative_ppi to\n",
            "[nltk_data]    |     /root/nltk_data...\n",
            "[nltk_data]    |   Unzipping corpora/biocreative_ppi.zip.\n",
            "[nltk_data]    | Downloading package bllip_wsj_no_aux to\n",
            "[nltk_data]    |     /root/nltk_data...\n",
            "[nltk_data]    |   Unzipping models/bllip_wsj_no_aux.zip.\n",
            "[nltk_data]    | Downloading package book_grammars to\n",
            "[nltk_data]    |     /root/nltk_data...\n",
            "[nltk_data]    |   Unzipping grammars/book_grammars.zip.\n",
            "[nltk_data]    | Downloading package brown to /root/nltk_data...\n",
            "[nltk_data]    |   Unzipping corpora/brown.zip.\n",
            "[nltk_data]    | Downloading package brown_tei to /root/nltk_data...\n",
            "[nltk_data]    |   Unzipping corpora/brown_tei.zip.\n",
            "[nltk_data]    | Downloading package cess_cat to /root/nltk_data...\n",
            "[nltk_data]    |   Unzipping corpora/cess_cat.zip.\n",
            "[nltk_data]    | Downloading package cess_esp to /root/nltk_data...\n",
            "[nltk_data]    |   Unzipping corpora/cess_esp.zip.\n",
            "[nltk_data]    | Downloading package chat80 to /root/nltk_data...\n",
            "[nltk_data]    |   Unzipping corpora/chat80.zip.\n",
            "[nltk_data]    | Downloading package city_database to\n",
            "[nltk_data]    |     /root/nltk_data...\n",
            "[nltk_data]    |   Unzipping corpora/city_database.zip.\n",
            "[nltk_data]    | Downloading package cmudict to /root/nltk_data...\n",
            "[nltk_data]    |   Unzipping corpora/cmudict.zip.\n",
            "[nltk_data]    | Downloading package comparative_sentences to\n",
            "[nltk_data]    |     /root/nltk_data...\n",
            "[nltk_data]    |   Unzipping corpora/comparative_sentences.zip.\n",
            "[nltk_data]    | Downloading package comtrans to /root/nltk_data...\n",
            "[nltk_data]    | Downloading package conll2000 to /root/nltk_data...\n",
            "[nltk_data]    |   Unzipping corpora/conll2000.zip.\n",
            "[nltk_data]    | Downloading package conll2002 to /root/nltk_data...\n",
            "[nltk_data]    |   Unzipping corpora/conll2002.zip.\n",
            "[nltk_data]    | Downloading package conll2007 to /root/nltk_data...\n",
            "[nltk_data]    | Downloading package crubadan to /root/nltk_data...\n",
            "[nltk_data]    |   Unzipping corpora/crubadan.zip.\n",
            "[nltk_data]    | Downloading package dependency_treebank to\n",
            "[nltk_data]    |     /root/nltk_data...\n",
            "[nltk_data]    |   Unzipping corpora/dependency_treebank.zip.\n",
            "[nltk_data]    | Downloading package dolch to /root/nltk_data...\n",
            "[nltk_data]    |   Unzipping corpora/dolch.zip.\n",
            "[nltk_data]    | Downloading package europarl_raw to\n",
            "[nltk_data]    |     /root/nltk_data...\n",
            "[nltk_data]    |   Unzipping corpora/europarl_raw.zip.\n",
            "[nltk_data]    | Downloading package extended_omw to\n",
            "[nltk_data]    |     /root/nltk_data...\n",
            "[nltk_data]    |   Unzipping corpora/extended_omw.zip.\n",
            "[nltk_data]    | Downloading package floresta to /root/nltk_data...\n",
            "[nltk_data]    |   Unzipping corpora/floresta.zip.\n",
            "[nltk_data]    | Downloading package framenet_v15 to\n",
            "[nltk_data]    |     /root/nltk_data...\n",
            "[nltk_data]    |   Unzipping corpora/framenet_v15.zip.\n",
            "[nltk_data]    | Downloading package framenet_v17 to\n",
            "[nltk_data]    |     /root/nltk_data...\n",
            "[nltk_data]    |   Unzipping corpora/framenet_v17.zip.\n",
            "[nltk_data]    | Downloading package gazetteers to /root/nltk_data...\n",
            "[nltk_data]    |   Unzipping corpora/gazetteers.zip.\n",
            "[nltk_data]    | Downloading package genesis to /root/nltk_data...\n",
            "[nltk_data]    |   Unzipping corpora/genesis.zip.\n",
            "[nltk_data]    | Downloading package gutenberg to /root/nltk_data...\n",
            "[nltk_data]    |   Unzipping corpora/gutenberg.zip.\n",
            "[nltk_data]    | Downloading package ieer to /root/nltk_data...\n",
            "[nltk_data]    |   Unzipping corpora/ieer.zip.\n",
            "[nltk_data]    | Downloading package inaugural to /root/nltk_data...\n",
            "[nltk_data]    |   Unzipping corpora/inaugural.zip.\n",
            "[nltk_data]    | Downloading package indian to /root/nltk_data...\n",
            "[nltk_data]    |   Unzipping corpora/indian.zip.\n",
            "[nltk_data]    | Downloading package jeita to /root/nltk_data...\n",
            "[nltk_data]    | Downloading package kimmo to /root/nltk_data...\n",
            "[nltk_data]    |   Unzipping corpora/kimmo.zip.\n",
            "[nltk_data]    | Downloading package knbc to /root/nltk_data...\n",
            "[nltk_data]    | Downloading package large_grammars to\n",
            "[nltk_data]    |     /root/nltk_data...\n",
            "[nltk_data]    |   Unzipping grammars/large_grammars.zip.\n",
            "[nltk_data]    | Downloading package lin_thesaurus to\n",
            "[nltk_data]    |     /root/nltk_data...\n",
            "[nltk_data]    |   Unzipping corpora/lin_thesaurus.zip.\n",
            "[nltk_data]    | Downloading package mac_morpho to /root/nltk_data...\n",
            "[nltk_data]    |   Unzipping corpora/mac_morpho.zip.\n",
            "[nltk_data]    | Downloading package machado to /root/nltk_data...\n",
            "[nltk_data]    | Downloading package masc_tagged to /root/nltk_data...\n",
            "[nltk_data]    | Downloading package maxent_ne_chunker to\n",
            "[nltk_data]    |     /root/nltk_data...\n",
            "[nltk_data]    |   Unzipping chunkers/maxent_ne_chunker.zip.\n",
            "[nltk_data]    | Downloading package maxent_treebank_pos_tagger to\n",
            "[nltk_data]    |     /root/nltk_data...\n",
            "[nltk_data]    |   Unzipping taggers/maxent_treebank_pos_tagger.zip.\n",
            "[nltk_data]    | Downloading package moses_sample to\n",
            "[nltk_data]    |     /root/nltk_data...\n",
            "[nltk_data]    |   Unzipping models/moses_sample.zip.\n",
            "[nltk_data]    | Downloading package movie_reviews to\n",
            "[nltk_data]    |     /root/nltk_data...\n",
            "[nltk_data]    |   Unzipping corpora/movie_reviews.zip.\n",
            "[nltk_data]    | Downloading package mte_teip5 to /root/nltk_data...\n",
            "[nltk_data]    |   Unzipping corpora/mte_teip5.zip.\n",
            "[nltk_data]    | Downloading package mwa_ppdb to /root/nltk_data...\n",
            "[nltk_data]    |   Unzipping misc/mwa_ppdb.zip.\n",
            "[nltk_data]    | Downloading package names to /root/nltk_data...\n",
            "[nltk_data]    |   Unzipping corpora/names.zip.\n",
            "[nltk_data]    | Downloading package nombank.1.0 to /root/nltk_data...\n",
            "[nltk_data]    | Downloading package nonbreaking_prefixes to\n",
            "[nltk_data]    |     /root/nltk_data...\n",
            "[nltk_data]    |   Unzipping corpora/nonbreaking_prefixes.zip.\n",
            "[nltk_data]    | Downloading package nps_chat to /root/nltk_data...\n",
            "[nltk_data]    |   Unzipping corpora/nps_chat.zip.\n",
            "[nltk_data]    | Downloading package omw to /root/nltk_data...\n",
            "[nltk_data]    |   Unzipping corpora/omw.zip.\n",
            "[nltk_data]    | Downloading package omw-1.4 to /root/nltk_data...\n",
            "[nltk_data]    |   Unzipping corpora/omw-1.4.zip.\n",
            "[nltk_data]    | Downloading package opinion_lexicon to\n",
            "[nltk_data]    |     /root/nltk_data...\n",
            "[nltk_data]    |   Unzipping corpora/opinion_lexicon.zip.\n",
            "[nltk_data]    | Downloading package panlex_swadesh to\n",
            "[nltk_data]    |     /root/nltk_data...\n",
            "[nltk_data]    | Downloading package paradigms to /root/nltk_data...\n",
            "[nltk_data]    |   Unzipping corpora/paradigms.zip.\n",
            "[nltk_data]    | Downloading package pe08 to /root/nltk_data...\n",
            "[nltk_data]    |   Unzipping corpora/pe08.zip.\n",
            "[nltk_data]    | Downloading package perluniprops to\n",
            "[nltk_data]    |     /root/nltk_data...\n",
            "[nltk_data]    |   Unzipping misc/perluniprops.zip.\n",
            "[nltk_data]    | Downloading package pil to /root/nltk_data...\n",
            "[nltk_data]    |   Unzipping corpora/pil.zip.\n",
            "[nltk_data]    | Downloading package pl196x to /root/nltk_data...\n",
            "[nltk_data]    |   Unzipping corpora/pl196x.zip.\n",
            "[nltk_data]    | Downloading package porter_test to /root/nltk_data...\n",
            "[nltk_data]    |   Unzipping stemmers/porter_test.zip.\n",
            "[nltk_data]    | Downloading package ppattach to /root/nltk_data...\n",
            "[nltk_data]    |   Unzipping corpora/ppattach.zip.\n",
            "[nltk_data]    | Downloading package problem_reports to\n",
            "[nltk_data]    |     /root/nltk_data...\n",
            "[nltk_data]    |   Unzipping corpora/problem_reports.zip.\n",
            "[nltk_data]    | Downloading package product_reviews_1 to\n",
            "[nltk_data]    |     /root/nltk_data...\n",
            "[nltk_data]    |   Unzipping corpora/product_reviews_1.zip.\n",
            "[nltk_data]    | Downloading package product_reviews_2 to\n",
            "[nltk_data]    |     /root/nltk_data...\n",
            "[nltk_data]    |   Unzipping corpora/product_reviews_2.zip.\n",
            "[nltk_data]    | Downloading package propbank to /root/nltk_data...\n",
            "[nltk_data]    | Downloading package pros_cons to /root/nltk_data...\n",
            "[nltk_data]    |   Unzipping corpora/pros_cons.zip.\n",
            "[nltk_data]    | Downloading package ptb to /root/nltk_data...\n",
            "[nltk_data]    |   Unzipping corpora/ptb.zip.\n",
            "[nltk_data]    | Downloading package punkt to /root/nltk_data...\n",
            "[nltk_data]    |   Unzipping tokenizers/punkt.zip.\n",
            "[nltk_data]    | Downloading package qc to /root/nltk_data...\n",
            "[nltk_data]    |   Unzipping corpora/qc.zip.\n",
            "[nltk_data]    | Downloading package reuters to /root/nltk_data...\n",
            "[nltk_data]    | Downloading package rslp to /root/nltk_data...\n",
            "[nltk_data]    |   Unzipping stemmers/rslp.zip.\n",
            "[nltk_data]    | Downloading package rte to /root/nltk_data...\n",
            "[nltk_data]    |   Unzipping corpora/rte.zip.\n",
            "[nltk_data]    | Downloading package sample_grammars to\n",
            "[nltk_data]    |     /root/nltk_data...\n",
            "[nltk_data]    |   Unzipping grammars/sample_grammars.zip.\n",
            "[nltk_data]    | Downloading package semcor to /root/nltk_data...\n",
            "[nltk_data]    | Downloading package senseval to /root/nltk_data...\n",
            "[nltk_data]    |   Unzipping corpora/senseval.zip.\n",
            "[nltk_data]    | Downloading package sentence_polarity to\n",
            "[nltk_data]    |     /root/nltk_data...\n",
            "[nltk_data]    |   Unzipping corpora/sentence_polarity.zip.\n",
            "[nltk_data]    | Downloading package sentiwordnet to\n",
            "[nltk_data]    |     /root/nltk_data...\n",
            "[nltk_data]    |   Unzipping corpora/sentiwordnet.zip.\n",
            "[nltk_data]    | Downloading package shakespeare to /root/nltk_data...\n",
            "[nltk_data]    |   Unzipping corpora/shakespeare.zip.\n",
            "[nltk_data]    | Downloading package sinica_treebank to\n",
            "[nltk_data]    |     /root/nltk_data...\n",
            "[nltk_data]    |   Unzipping corpora/sinica_treebank.zip.\n",
            "[nltk_data]    | Downloading package smultron to /root/nltk_data...\n",
            "[nltk_data]    |   Unzipping corpora/smultron.zip.\n",
            "[nltk_data]    | Downloading package snowball_data to\n",
            "[nltk_data]    |     /root/nltk_data...\n",
            "[nltk_data]    | Downloading package spanish_grammars to\n",
            "[nltk_data]    |     /root/nltk_data...\n",
            "[nltk_data]    |   Unzipping grammars/spanish_grammars.zip.\n",
            "[nltk_data]    | Downloading package state_union to /root/nltk_data...\n",
            "[nltk_data]    |   Unzipping corpora/state_union.zip.\n",
            "[nltk_data]    | Downloading package stopwords to /root/nltk_data...\n",
            "[nltk_data]    |   Unzipping corpora/stopwords.zip.\n",
            "[nltk_data]    | Downloading package subjectivity to\n",
            "[nltk_data]    |     /root/nltk_data...\n",
            "[nltk_data]    |   Unzipping corpora/subjectivity.zip.\n",
            "[nltk_data]    | Downloading package swadesh to /root/nltk_data...\n",
            "[nltk_data]    |   Unzipping corpora/swadesh.zip.\n",
            "[nltk_data]    | Downloading package switchboard to /root/nltk_data...\n",
            "[nltk_data]    |   Unzipping corpora/switchboard.zip.\n",
            "[nltk_data]    | Downloading package tagsets to /root/nltk_data...\n",
            "[nltk_data]    |   Unzipping help/tagsets.zip.\n",
            "[nltk_data]    | Downloading package timit to /root/nltk_data...\n",
            "[nltk_data]    |   Unzipping corpora/timit.zip.\n",
            "[nltk_data]    | Downloading package toolbox to /root/nltk_data...\n",
            "[nltk_data]    |   Unzipping corpora/toolbox.zip.\n",
            "[nltk_data]    | Downloading package treebank to /root/nltk_data...\n",
            "[nltk_data]    |   Unzipping corpora/treebank.zip.\n",
            "[nltk_data]    | Downloading package twitter_samples to\n",
            "[nltk_data]    |     /root/nltk_data...\n",
            "[nltk_data]    |   Unzipping corpora/twitter_samples.zip.\n",
            "[nltk_data]    | Downloading package udhr to /root/nltk_data...\n",
            "[nltk_data]    |   Unzipping corpora/udhr.zip.\n",
            "[nltk_data]    | Downloading package udhr2 to /root/nltk_data...\n",
            "[nltk_data]    |   Unzipping corpora/udhr2.zip.\n",
            "[nltk_data]    | Downloading package unicode_samples to\n",
            "[nltk_data]    |     /root/nltk_data...\n",
            "[nltk_data]    |   Unzipping corpora/unicode_samples.zip.\n",
            "[nltk_data]    | Downloading package universal_tagset to\n",
            "[nltk_data]    |     /root/nltk_data...\n",
            "[nltk_data]    |   Unzipping taggers/universal_tagset.zip.\n",
            "[nltk_data]    | Downloading package universal_treebanks_v20 to\n",
            "[nltk_data]    |     /root/nltk_data...\n",
            "[nltk_data]    | Downloading package vader_lexicon to\n",
            "[nltk_data]    |     /root/nltk_data...\n",
            "[nltk_data]    | Downloading package verbnet to /root/nltk_data...\n",
            "[nltk_data]    |   Unzipping corpora/verbnet.zip.\n",
            "[nltk_data]    | Downloading package verbnet3 to /root/nltk_data...\n",
            "[nltk_data]    |   Unzipping corpora/verbnet3.zip.\n",
            "[nltk_data]    | Downloading package webtext to /root/nltk_data...\n",
            "[nltk_data]    |   Unzipping corpora/webtext.zip.\n",
            "[nltk_data]    | Downloading package wmt15_eval to /root/nltk_data...\n",
            "[nltk_data]    |   Unzipping models/wmt15_eval.zip.\n",
            "[nltk_data]    | Downloading package word2vec_sample to\n",
            "[nltk_data]    |     /root/nltk_data...\n",
            "[nltk_data]    |   Unzipping models/word2vec_sample.zip.\n",
            "[nltk_data]    | Downloading package wordnet to /root/nltk_data...\n",
            "[nltk_data]    |   Unzipping corpora/wordnet.zip.\n",
            "[nltk_data]    | Downloading package wordnet2021 to /root/nltk_data...\n",
            "[nltk_data]    |   Unzipping corpora/wordnet2021.zip.\n",
            "[nltk_data]    | Downloading package wordnet31 to /root/nltk_data...\n",
            "[nltk_data]    |   Unzipping corpora/wordnet31.zip.\n",
            "[nltk_data]    | Downloading package wordnet_ic to /root/nltk_data...\n",
            "[nltk_data]    |   Unzipping corpora/wordnet_ic.zip.\n",
            "[nltk_data]    | Downloading package words to /root/nltk_data...\n",
            "[nltk_data]    |   Unzipping corpora/words.zip.\n",
            "[nltk_data]    | Downloading package ycoe to /root/nltk_data...\n",
            "[nltk_data]    |   Unzipping corpora/ycoe.zip.\n",
            "[nltk_data]    | \n",
            "[nltk_data]  Done downloading collection all\n"
          ]
        },
        {
          "output_type": "execute_result",
          "data": {
            "text/plain": [
              "True"
            ]
          },
          "metadata": {},
          "execution_count": 1
        }
      ],
      "source": [
        "import nltk\n",
        "nltk.download('all')"
      ]
    },
    {
      "cell_type": "code",
      "source": [
        "para = para = \"To be or not to be. Because thats the bottom line stone cold said so. You are at the wrong time, at the wrong place, with the wrong guy. I have got the whole world in my hand. What goes around really goes around\""
      ],
      "metadata": {
        "id": "0MjKyDrbdntR"
      },
      "execution_count": 2,
      "outputs": []
    },
    {
      "cell_type": "code",
      "source": [
        "sentences = nltk.sent_tokenize(para)"
      ],
      "metadata": {
        "id": "NRu3wyZTeL4m"
      },
      "execution_count": 3,
      "outputs": []
    },
    {
      "cell_type": "code",
      "source": [
        "for i in range(len(sentences)):\n",
        "  print('\\033[92m{} - {}'.format(i,sentences[i]))\n",
        "         #\\033[92m"
      ],
      "metadata": {
        "colab": {
          "base_uri": "https://localhost:8080/"
        },
        "id": "UAlGJVxseL7P",
        "outputId": "6df4e95c-46c4-49c1-a66e-a77f37e9c69f"
      },
      "execution_count": 4,
      "outputs": [
        {
          "output_type": "stream",
          "name": "stdout",
          "text": [
            "\u001b[92m0 - To be or not to be.\n",
            "\u001b[92m1 - Because thats the bottom line stone cold said so.\n",
            "\u001b[92m2 - You are at the wrong time, at the wrong place, with the wrong guy.\n",
            "\u001b[92m3 - I have got the whole world in my hand.\n",
            "\u001b[92m4 - What goes around really goes around\n"
          ]
        }
      ]
    },
    {
      "cell_type": "code",
      "source": [
        "words = nltk.word_tokenize(para)"
      ],
      "metadata": {
        "id": "FLMJO83leL-F"
      },
      "execution_count": 5,
      "outputs": []
    },
    {
      "cell_type": "code",
      "source": [
        "for i in range(len(words)):\n",
        "  print('\\033[94m{} - {}'.format(i,words[i]))"
      ],
      "metadata": {
        "colab": {
          "base_uri": "https://localhost:8080/"
        },
        "id": "z_-YtSNBeMAh",
        "outputId": "8c4d74a5-b00b-412c-d811-8a1bbb833dcc"
      },
      "execution_count": 6,
      "outputs": [
        {
          "output_type": "stream",
          "name": "stdout",
          "text": [
            "\u001b[94m0 - To\n",
            "\u001b[94m1 - be\n",
            "\u001b[94m2 - or\n",
            "\u001b[94m3 - not\n",
            "\u001b[94m4 - to\n",
            "\u001b[94m5 - be\n",
            "\u001b[94m6 - .\n",
            "\u001b[94m7 - Because\n",
            "\u001b[94m8 - thats\n",
            "\u001b[94m9 - the\n",
            "\u001b[94m10 - bottom\n",
            "\u001b[94m11 - line\n",
            "\u001b[94m12 - stone\n",
            "\u001b[94m13 - cold\n",
            "\u001b[94m14 - said\n",
            "\u001b[94m15 - so\n",
            "\u001b[94m16 - .\n",
            "\u001b[94m17 - You\n",
            "\u001b[94m18 - are\n",
            "\u001b[94m19 - at\n",
            "\u001b[94m20 - the\n",
            "\u001b[94m21 - wrong\n",
            "\u001b[94m22 - time\n",
            "\u001b[94m23 - ,\n",
            "\u001b[94m24 - at\n",
            "\u001b[94m25 - the\n",
            "\u001b[94m26 - wrong\n",
            "\u001b[94m27 - place\n",
            "\u001b[94m28 - ,\n",
            "\u001b[94m29 - with\n",
            "\u001b[94m30 - the\n",
            "\u001b[94m31 - wrong\n",
            "\u001b[94m32 - guy\n",
            "\u001b[94m33 - .\n",
            "\u001b[94m34 - I\n",
            "\u001b[94m35 - have\n",
            "\u001b[94m36 - got\n",
            "\u001b[94m37 - the\n",
            "\u001b[94m38 - whole\n",
            "\u001b[94m39 - world\n",
            "\u001b[94m40 - in\n",
            "\u001b[94m41 - my\n",
            "\u001b[94m42 - hand\n",
            "\u001b[94m43 - .\n",
            "\u001b[94m44 - What\n",
            "\u001b[94m45 - goes\n",
            "\u001b[94m46 - around\n",
            "\u001b[94m47 - really\n",
            "\u001b[94m48 - goes\n",
            "\u001b[94m49 - around\n"
          ]
        }
      ]
    },
    {
      "cell_type": "code",
      "source": [
        "from nltk.stem import PorterStemmer\n",
        "PS = PorterStemmer()\n",
        "sentences_PS = sentences.copy()"
      ],
      "metadata": {
        "id": "l_uUHGAyeMCj"
      },
      "execution_count": 7,
      "outputs": []
    },
    {
      "cell_type": "code",
      "source": [
        "from nltk.corpus import stopwords"
      ],
      "metadata": {
        "id": "Yma37dFZf_04"
      },
      "execution_count": 8,
      "outputs": []
    },
    {
      "cell_type": "code",
      "source": [
        "for i in range(len(sentences_PS)):\n",
        "  words = nltk.word_tokenize(sentences_PS[i])\n",
        "  words = [j.lower() for j in words]\n",
        "  words = [PS.stem(j) for j in words if j not in set(stopwords.words('english'))]\n",
        "  sentences_PS[i] = ' '.join(words)"
      ],
      "metadata": {
        "id": "QjxDhrRAeMFj"
      },
      "execution_count": 9,
      "outputs": []
    },
    {
      "cell_type": "code",
      "source": [
        "for i in range(len(sentences)):\n",
        "  print('\\033[92m{} - {}'.format(i,sentences[i]))\n",
        "print()\n",
        "for i in range(len(sentences_PS)):\n",
        "  print('\\033[94m{} - {}'.format(i,sentences_PS[i]))"
      ],
      "metadata": {
        "colab": {
          "base_uri": "https://localhost:8080/"
        },
        "id": "0pogJbIYgGw_",
        "outputId": "ffe79eff-bf0c-46af-c432-a88dedfd7c62"
      },
      "execution_count": 10,
      "outputs": [
        {
          "output_type": "stream",
          "name": "stdout",
          "text": [
            "\u001b[92m0 - To be or not to be.\n",
            "\u001b[92m1 - Because thats the bottom line stone cold said so.\n",
            "\u001b[92m2 - You are at the wrong time, at the wrong place, with the wrong guy.\n",
            "\u001b[92m3 - I have got the whole world in my hand.\n",
            "\u001b[92m4 - What goes around really goes around\n",
            "\n",
            "\u001b[94m0 - .\n",
            "\u001b[94m1 - that bottom line stone cold said .\n",
            "\u001b[94m2 - wrong time , wrong place , wrong guy .\n",
            "\u001b[94m3 - got whole world hand .\n",
            "\u001b[94m4 - goe around realli goe around\n"
          ]
        }
      ]
    },
    {
      "cell_type": "code",
      "source": [
        "from nltk.stem import WordNetLemmatizer\n",
        "WN = WordNetLemmatizer()\n",
        "sentences_WN = sentences.copy()"
      ],
      "metadata": {
        "id": "_MIQOgHIgWcH"
      },
      "execution_count": 11,
      "outputs": []
    },
    {
      "cell_type": "code",
      "source": [
        "for i in range(len(sentences_WN)):\n",
        "  words = nltk.word_tokenize(sentences_WN[i])\n",
        "  words = [j.lower() for j in words]\n",
        "  words = [WN.lemmatize(j) for j in words if j not in set(stopwords.words('english'))]\n",
        "  sentences_WN[i] = ' '.join(words)"
      ],
      "metadata": {
        "id": "ltBjIntBgfaw"
      },
      "execution_count": 12,
      "outputs": []
    },
    {
      "cell_type": "code",
      "source": [
        "print(WN.lemmatize('warned'))\n",
        "print(PS.stem('warned'))"
      ],
      "metadata": {
        "colab": {
          "base_uri": "https://localhost:8080/"
        },
        "id": "_N5WarcmP_AV",
        "outputId": "266c75ee-8cef-44b4-fe11-b9f564471c84"
      },
      "execution_count": 22,
      "outputs": [
        {
          "output_type": "stream",
          "name": "stdout",
          "text": [
            "warned\n",
            "warn\n"
          ]
        }
      ]
    },
    {
      "cell_type": "code",
      "source": [
        "for i in range(len(sentences)):\n",
        "  print('\\033[92m{} - {}'.format(i,sentences[i]))\n",
        "print()\n",
        "for i in range(len(sentences_PS)):\n",
        "  print('\\033[94m{} - {}'.format(i,sentences_PS[i]))\n",
        "print()\n",
        "for i in range(len(sentences_WN)):\n",
        "  print('\\033[95m{} - {}'.format(i,sentences_WN[i]))"
      ],
      "metadata": {
        "colab": {
          "base_uri": "https://localhost:8080/"
        },
        "id": "MuegZUD6gxOC",
        "outputId": "42f07ec1-9793-400e-b2b2-00bac6a6b611"
      },
      "execution_count": 13,
      "outputs": [
        {
          "output_type": "stream",
          "name": "stdout",
          "text": [
            "\u001b[92m0 - To be or not to be.\n",
            "\u001b[92m1 - Because thats the bottom line stone cold said so.\n",
            "\u001b[92m2 - You are at the wrong time, at the wrong place, with the wrong guy.\n",
            "\u001b[92m3 - I have got the whole world in my hand.\n",
            "\u001b[92m4 - What goes around really goes around\n",
            "\n",
            "\u001b[94m0 - .\n",
            "\u001b[94m1 - that bottom line stone cold said .\n",
            "\u001b[94m2 - wrong time , wrong place , wrong guy .\n",
            "\u001b[94m3 - got whole world hand .\n",
            "\u001b[94m4 - goe around realli goe around\n",
            "\n",
            "\u001b[95m0 - .\n",
            "\u001b[95m1 - thats bottom line stone cold said .\n",
            "\u001b[95m2 - wrong time , wrong place , wrong guy .\n",
            "\u001b[95m3 - got whole world hand .\n",
            "\u001b[95m4 - go around really go around\n"
          ]
        }
      ]
    },
    {
      "cell_type": "code",
      "source": [
        "import re\n",
        "sentences_bow = sentences.copy()\n",
        "corpus_ps = []\n",
        "corpus_wn = []"
      ],
      "metadata": {
        "id": "yH58F2cchAQ4"
      },
      "execution_count": 14,
      "outputs": []
    },
    {
      "cell_type": "code",
      "source": [
        "for i in range(len(sentences_bow)):\n",
        "  review = re.sub('[^a-zA-Z]', ' ',sentences_bow[i])\n",
        "  review = review.lower()\n",
        "  review = review.split()\n",
        "  review_ps = [PS.stem(j) for j in review if j not in set(stopwords.words('english'))]\n",
        "  review_wn = [WN.lemmatize(j) for j in review if j not in set(stopwords.words('english'))]\n",
        "  review_ps = ' '.join(review_ps)\n",
        "  review_wn = ' '.join(review_wn)\n",
        "  corpus_ps.append(review_ps)\n",
        "  corpus_wn.append(review_wn)"
      ],
      "metadata": {
        "id": "1Z9e3HXziD9I"
      },
      "execution_count": 15,
      "outputs": []
    },
    {
      "cell_type": "code",
      "source": [
        "from sklearn.feature_extraction.text import CountVectorizer\n",
        "CV= CountVectorizer()\n",
        "X = CV.fit_transform(corpus_wn).toarray()\n",
        "CV.get_feature_names_out()"
      ],
      "metadata": {
        "colab": {
          "base_uri": "https://localhost:8080/"
        },
        "id": "UclviXUGi1fG",
        "outputId": "917cb56f-34f7-435c-8caa-702f604d1170"
      },
      "execution_count": 16,
      "outputs": [
        {
          "output_type": "execute_result",
          "data": {
            "text/plain": [
              "array(['around', 'bottom', 'cold', 'go', 'got', 'guy', 'hand', 'line',\n",
              "       'place', 'really', 'said', 'stone', 'thats', 'time', 'whole',\n",
              "       'world', 'wrong'], dtype=object)"
            ]
          },
          "metadata": {},
          "execution_count": 16
        }
      ]
    },
    {
      "cell_type": "code",
      "source": [
        "len(CV.get_feature_names_out())"
      ],
      "metadata": {
        "colab": {
          "base_uri": "https://localhost:8080/"
        },
        "id": "Ij4w5nLKjHae",
        "outputId": "da73785f-5669-472a-a2d6-764ec7c87c85"
      },
      "execution_count": 17,
      "outputs": [
        {
          "output_type": "execute_result",
          "data": {
            "text/plain": [
              "17"
            ]
          },
          "metadata": {},
          "execution_count": 17
        }
      ]
    },
    {
      "cell_type": "code",
      "source": [
        "from sklearn.feature_extraction.text import TfidfVectorizer\n",
        "CV2 = TfidfVectorizer()\n",
        "X2 = CV2.fit_transform(corpus_wn).toarray()\n",
        "CV2.get_feature_names_out()"
      ],
      "metadata": {
        "colab": {
          "base_uri": "https://localhost:8080/"
        },
        "id": "IK2v9FGz7_r4",
        "outputId": "ad1690c7-9358-40ad-bb71-e8d62fbcad9f"
      },
      "execution_count": 18,
      "outputs": [
        {
          "output_type": "execute_result",
          "data": {
            "text/plain": [
              "array(['around', 'bottom', 'cold', 'go', 'got', 'guy', 'hand', 'line',\n",
              "       'place', 'really', 'said', 'stone', 'thats', 'time', 'whole',\n",
              "       'world', 'wrong'], dtype=object)"
            ]
          },
          "metadata": {},
          "execution_count": 18
        }
      ]
    },
    {
      "cell_type": "code",
      "source": [
        "len(CV2.get_feature_names_out())"
      ],
      "metadata": {
        "colab": {
          "base_uri": "https://localhost:8080/"
        },
        "id": "uywSHJFQ7_ut",
        "outputId": "0372eb6d-bc94-413f-832e-70f5a3111989"
      },
      "execution_count": 19,
      "outputs": [
        {
          "output_type": "execute_result",
          "data": {
            "text/plain": [
              "17"
            ]
          },
          "metadata": {},
          "execution_count": 19
        }
      ]
    },
    {
      "cell_type": "code",
      "source": [
        ""
      ],
      "metadata": {
        "id": "xEgoPuIN7_xY"
      },
      "execution_count": 19,
      "outputs": []
    },
    {
      "cell_type": "code",
      "source": [
        ""
      ],
      "metadata": {
        "id": "Vvg7iDs57_0c"
      },
      "execution_count": 19,
      "outputs": []
    },
    {
      "cell_type": "code",
      "source": [
        "\n"
      ],
      "metadata": {
        "id": "V7ZBlBDqjIMu"
      },
      "execution_count": 19,
      "outputs": []
    },
    {
      "cell_type": "code",
      "source": [
        "print(text)"
      ],
      "metadata": {
        "colab": {
          "base_uri": "https://localhost:8080/",
          "height": 169
        },
        "id": "z144dtNSmkkY",
        "outputId": "8c5f5e25-2702-435b-eb27-6760ce1ec92b"
      },
      "execution_count": 20,
      "outputs": [
        {
          "output_type": "error",
          "ename": "NameError",
          "evalue": "ignored",
          "traceback": [
            "\u001b[0;31m---------------------------------------------------------------------------\u001b[0m",
            "\u001b[0;31mNameError\u001b[0m                                 Traceback (most recent call last)",
            "\u001b[0;32m<ipython-input-20-e0211cbce30a>\u001b[0m in \u001b[0;36m<module>\u001b[0;34m()\u001b[0m\n\u001b[0;32m----> 1\u001b[0;31m \u001b[0mprint\u001b[0m\u001b[0;34m(\u001b[0m\u001b[0mtext\u001b[0m\u001b[0;34m)\u001b[0m\u001b[0;34m\u001b[0m\u001b[0;34m\u001b[0m\u001b[0m\n\u001b[0m",
            "\u001b[0;31mNameError\u001b[0m: name 'text' is not defined"
          ]
        }
      ]
    },
    {
      "cell_type": "code",
      "source": [
        "print(type(text))"
      ],
      "metadata": {
        "id": "NOG2rzG4mlld"
      },
      "execution_count": null,
      "outputs": []
    },
    {
      "cell_type": "code",
      "source": [
        "!pip install urduhack\n",
        "#urduhack.download()"
      ],
      "metadata": {
        "id": "RuewdHptmm3p"
      },
      "execution_count": null,
      "outputs": []
    },
    {
      "cell_type": "code",
      "source": [
        "import urduhack\n",
        "urduhack.download()"
      ],
      "metadata": {
        "id": "OCuGmEVkmv_A"
      },
      "execution_count": null,
      "outputs": []
    },
    {
      "cell_type": "code",
      "source": [
        "from urduhack import normalize\n",
        "text_normalize = normalize(text)"
      ],
      "metadata": {
        "id": "-pvAHwF_nfIo"
      },
      "execution_count": null,
      "outputs": []
    },
    {
      "cell_type": "code",
      "source": [
        "print(text_normalize)\n",
        "print(type(text_normalize))"
      ],
      "metadata": {
        "id": "yTWwucRtnt16"
      },
      "execution_count": null,
      "outputs": []
    },
    {
      "cell_type": "code",
      "source": [
        "from urduhack.stop_words import STOP_WORDS, remove_stopwords\n",
        "print(STOP_WORDS)\n",
        "text_removed_stopwords = remove_stopwords(text_normalize)"
      ],
      "metadata": {
        "id": "_3c5DMCznxuc"
      },
      "execution_count": null,
      "outputs": []
    },
    {
      "cell_type": "code",
      "source": [
        "nlp = urduhack.Pipeline()\n",
        "doc = nlp(text_normalize)\n",
        "\n",
        "for sentence in doc.sentences:\n",
        "    print(sentence.text)\n",
        "    for word in sentence.words:\n",
        "        print(f\"{word.text}\\t{word.pos}\")\n",
        "\n",
        "    for token in sentence.tokens:\n",
        "        print(f\"{token.text}\\t{token.ner}\")"
      ],
      "metadata": {
        "id": "2egtGURcn-vd"
      },
      "execution_count": null,
      "outputs": []
    },
    {
      "cell_type": "code",
      "source": [
        ""
      ],
      "metadata": {
        "id": "M8OdPX5HpfXF"
      },
      "execution_count": null,
      "outputs": []
    },
    {
      "cell_type": "code",
      "source": [
        "text_normalize"
      ],
      "metadata": {
        "id": "ofroqz8Hn-x1"
      },
      "execution_count": null,
      "outputs": []
    },
    {
      "cell_type": "code",
      "source": [
        "from urduhack.normalization import punctuations_space\n",
        "normalized_text = punctuations_space(text2)\n",
        "normalized_text"
      ],
      "metadata": {
        "id": "86j-jm91n-23"
      },
      "execution_count": null,
      "outputs": []
    },
    {
      "cell_type": "code",
      "source": [
        "text = \"\"\"\n",
        "گزشتہ ایک روز کے دوران کورونا کے سبب 118 اموات ہوئیں جس کے بعد اموات کا مجموعہ 3 ہزار 93 ہوگیا ہے۔\n",
        "سب سے زیادہ اموات بھی پنجاب میں ہوئی ہیں جہاں ایک ہزار 202 افراد جان کی بازی ہار چکے ہیں۔\n",
        "سندھ میں 916، خیبر پختونخوا میں 755، اسلام آباد میں 94، گلگت بلتستان میں 18، بلوچستان میں 93 اور ا?زاد کشمیر میں 15 افراد کورونا وائرس سے جاں بحق ہو چکے ہیں۔\n",
        "\"\"\"\n",
        "from urduhack.normalization import normalize_characters\n",
        "text5 = normalize_characters(text)\n",
        "#from urduhack.normalization import english_characters_space\n",
        "#text3 = english_characters_space(text2)\n",
        "#from urduhack.normalization import punctuations_space\n",
        "#text4 = urduhack.normalization.punctuations_space(text3)\n",
        "#from urduhack.normalization import digits_space\n",
        "#text5 = urduhack.normalization.digits_space(text4)\n",
        "from urduhack.normalization import remove_diacritics\n",
        "text6 = remove_diacritics(text5)\n",
        "\n",
        "from urduhack.tokenization import sentence_tokenizer\n",
        "from urduhack.preprocessing import normalize_whitespace\n",
        "from urduhack.preprocessing import remove_punctuation\n",
        "from urduhack.preprocessing import remove_accents\n",
        "from urduhack.preprocessing import replace_urls\n",
        "from urduhack.preprocessing import replace_emails\n",
        "from urduhack.preprocessing import replace_numbers\n",
        "from urduhack.preprocessing import replace_currency_symbols\n",
        "urdu_sentences = sentence_tokenizer(text6)\n",
        "for i in range(len(urdu_sentences)):\n",
        "  print('\\033[92m{} - {}'.format(i,urdu_sentences[i]))\n",
        "  urdu_sentences[i] = normalize_whitespace(urdu_sentences[i])\n",
        "  urdu_sentences[i] = remove_punctuation(urdu_sentences[i])\n",
        "  urdu_sentences[i] = remove_accents(urdu_sentences[i])\n",
        "  urdu_sentences[i] = replace_urls(urdu_sentences[i])\n",
        "  urdu_sentences[i] = replace_emails(urdu_sentences[i])\n",
        "  urdu_sentences[i] = replace_numbers(urdu_sentences[i])\n",
        "  urdu_sentences[i] = replace_currency_symbols(urdu_sentences[i])\n",
        "  print('\\033[94m{} - {}'.format(i,urdu_sentences[i]))\n",
        "\n",
        "\n",
        "\n",
        "\n",
        "\n",
        "\n",
        "\n",
        "\n"
      ],
      "metadata": {
        "id": "_m8ido6qt7ce"
      },
      "execution_count": null,
      "outputs": []
    },
    {
      "cell_type": "code",
      "source": [
        "\n",
        "#from urduhack.tokenization import word_tokenizer\n",
        "#for i in range(len(urdu_sentences)):\n",
        "#  words = word_tokenizer(urdu_sentences[i])\n",
        "  #words = []\n",
        "#  urdu_sentences[i] = ' '.join(words)"
      ],
      "metadata": {
        "id": "-ZTpSQb1uf4g"
      },
      "execution_count": null,
      "outputs": []
    },
    {
      "cell_type": "code",
      "source": [
        ""
      ],
      "metadata": {
        "id": "O96BA7lP1nR6"
      },
      "execution_count": null,
      "outputs": []
    },
    {
      "cell_type": "code",
      "source": [
        "import json\n",
        "from urduhack.config import LEMMA_LOOKUP_TABLE_PATH\n",
        "\n",
        "_WORD2LEMMA = None\n",
        "\n",
        "def lemma_lookup(text,lookup_path: str = LEMMA_LOOKUP_TABLE_PATH) -> list:\n",
        "  tokens = text\n",
        "  global _WORD2LEMMA\n",
        "  if _WORD2LEMMA is None:\n",
        "    with open(lookup_path, \"r\", encoding=\"utf-8\") as file:\n",
        "      _WORD2LEMMA = json.load(file)\n",
        "  print('done')\n",
        "  return [_WORD2LEMMA[word] if word in _WORD2LEMMA else word for word in tokens]"
      ],
      "metadata": {
        "id": "pjkuf_VO1nZj"
      },
      "execution_count": null,
      "outputs": []
    },
    {
      "cell_type": "code",
      "source": [
        "#print(lemma_lookup(urdu_sentences[1]))"
      ],
      "metadata": {
        "id": "Y3R0yKXE2TAj"
      },
      "execution_count": null,
      "outputs": []
    },
    {
      "cell_type": "code",
      "source": [
        ""
      ],
      "metadata": {
        "id": "k9ZITC9h3U-i"
      },
      "execution_count": null,
      "outputs": []
    },
    {
      "cell_type": "code",
      "source": [
        "copy_urdu_sentences = urdu_sentences.copy()\n",
        "from urduhack.tokenization import word_tokenizer\n",
        "for i in range(len(urdu_sentences)):\n",
        "  words = word_tokenizer(urdu_sentences[i])\n",
        "  words = lemma_lookup(words)\n",
        "  urdu_sentences[i] = ' '.join(words)"
      ],
      "metadata": {
        "id": "J_h2efXO3XTL"
      },
      "execution_count": null,
      "outputs": []
    },
    {
      "cell_type": "code",
      "source": [
        "for i in range(len(urdu_sentences)):\n",
        "  print('\\033[92m{} - {}'.format(i,urdu_sentences[i]))\n",
        "  print('\\033[94m{} - {}'.format(i,copy_urdu_sentences[i]))"
      ],
      "metadata": {
        "id": "BBaZcW90zpm6"
      },
      "execution_count": null,
      "outputs": []
    },
    {
      "cell_type": "code",
      "source": [
        ""
      ],
      "metadata": {
        "id": "Wg42nqiR0lzX"
      },
      "execution_count": null,
      "outputs": []
    },
    {
      "cell_type": "code",
      "source": [
        ""
      ],
      "metadata": {
        "id": "JTX3swrfMFXz"
      },
      "execution_count": null,
      "outputs": []
    },
    {
      "cell_type": "markdown",
      "source": [
        "**Stanza**"
      ],
      "metadata": {
        "id": "Ubvx-jzkMEkQ"
      }
    },
    {
      "cell_type": "code",
      "source": [
        "\n",
        "!pip install stanza"
      ],
      "metadata": {
        "id": "Fg1Lx3qY0l19"
      },
      "execution_count": null,
      "outputs": []
    },
    {
      "cell_type": "code",
      "source": [
        "print(text6)"
      ],
      "metadata": {
        "id": "d0bi5sEPKXj_"
      },
      "execution_count": null,
      "outputs": []
    },
    {
      "cell_type": "code",
      "source": [
        "import stanza\n",
        "stanza.download('ur')# urdu language download\n",
        "stanzanlp = stanza.Pipeline('ur') # hi for hindi, en for english\n",
        "doc = stanzanlp(text6)"
      ],
      "metadata": {
        "id": "asdboYHNK3Jp"
      },
      "execution_count": null,
      "outputs": []
    },
    {
      "cell_type": "code",
      "source": [
        "print(doc)"
      ],
      "metadata": {
        "id": "l5N0qr1ZL-ta"
      },
      "execution_count": null,
      "outputs": []
    },
    {
      "cell_type": "code",
      "source": [
        "# tokenization and sentence segmentation\n",
        "nlp = stanza.Pipeline(lang='ur',processors='tokenize')\n",
        "for i,sentence in enumerate(doc.sentences):\n",
        "  print(f'===========Sentence{ i+1} tokens ================')\n",
        "  print(*[f'id:{token.id}\\ttext: {token.text}' for token in sentence.tokens],sep='\\n')"
      ],
      "metadata": {
        "id": "rTsmhKjEMJdU"
      },
      "execution_count": null,
      "outputs": []
    },
    {
      "cell_type": "code",
      "source": [
        "# sentence\n",
        "print([i.text for i in doc.sentences])"
      ],
      "metadata": {
        "id": "tOsKar4jNey9"
      },
      "execution_count": null,
      "outputs": []
    },
    {
      "cell_type": "code",
      "source": [
        "#tokenize_pretokenized=True ----------> using pre trained tokenized forms\n",
        "nlp = stanza.Pipeline(lang='ur',processors='tokenize',tokenize_pretokenized=True)\n",
        "for i,sentence in enumerate(doc.sentences):\n",
        "  print(f'===========Sentence{ i+1} tokens ================')\n",
        "  print(*[f'id:{token.id}\\ttext: {token.text}' for token in sentence.tokens],sep='\\n')"
      ],
      "metadata": {
        "id": "1K-HtIsvN_kK"
      },
      "execution_count": null,
      "outputs": []
    },
    {
      "cell_type": "code",
      "source": [
        "#nlp = stanza.Pipeline(lang='ur', preprocessors='tokenize')\n",
        "for i in range(len(doc.sentences)):\n",
        "  print('===============sentence: {}================='.format(i))\n",
        "  for token in doc.sentences[i].tokens:\n",
        "    print(f'token: {token.text}\\twords: {\", \".join([word.text for word in token.words])}')"
      ],
      "metadata": {
        "id": "A9HZNSd4OeOR"
      },
      "execution_count": null,
      "outputs": []
    },
    {
      "cell_type": "code",
      "source": [
        "nlp = stanza.Pipeline(lang='ur', preprocessor='tokenize,pos,lemma')\n",
        "print(*[f'word: {word.text}\\tlemma: {word.lemma}' for sent in doc.sentences for word in sent.words],sep='\\n')"
      ],
      "metadata": {
        "id": "kkybdsQASOui"
      },
      "execution_count": null,
      "outputs": []
    },
    {
      "cell_type": "code",
      "source": [
        ""
      ],
      "metadata": {
        "id": "oQ-X18LpWXCb"
      },
      "execution_count": null,
      "outputs": []
    },
    {
      "cell_type": "code",
      "source": [
        ""
      ],
      "metadata": {
        "id": "8YIPkycMWXZJ"
      },
      "execution_count": null,
      "outputs": []
    },
    {
      "cell_type": "code",
      "source": [
        "from urduhack import Pipeline\n",
        "urduhack_nlp = Pipeline()"
      ],
      "metadata": {
        "id": "WiSwO6t1WXcJ"
      },
      "execution_count": null,
      "outputs": []
    },
    {
      "cell_type": "code",
      "source": [
        "urduhac_doc=urduhack_nlp(urdu_sentences[0])"
      ],
      "metadata": {
        "id": "hpOG5fI9WXfQ"
      },
      "execution_count": null,
      "outputs": []
    },
    {
      "cell_type": "code",
      "source": [
        "print(urduhac_doc)"
      ],
      "metadata": {
        "id": "LNZ9nDV_WXho"
      },
      "execution_count": null,
      "outputs": []
    },
    {
      "cell_type": "code",
      "source": [
        ""
      ],
      "metadata": {
        "id": "U2gf62KTWnMy"
      },
      "execution_count": null,
      "outputs": []
    },
    {
      "cell_type": "code",
      "source": [
        ""
      ],
      "metadata": {
        "id": "hQ-ogjkVWnP1"
      },
      "execution_count": null,
      "outputs": []
    }
  ]
}