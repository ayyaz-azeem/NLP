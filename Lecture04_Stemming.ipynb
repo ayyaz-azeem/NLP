{
  "nbformat": 4,
  "nbformat_minor": 0,
  "metadata": {
    "colab": {
      "name": "Lecture04-Stemming.ipynb",
      "provenance": [],
      "authorship_tag": "ABX9TyOcPNoOje1T1A25oBqohB6Q",
      "include_colab_link": true
    },
    "kernelspec": {
      "name": "python3",
      "display_name": "Python 3"
    },
    "language_info": {
      "name": "python"
    }
  },
  "cells": [
    {
      "cell_type": "markdown",
      "metadata": {
        "id": "view-in-github",
        "colab_type": "text"
      },
      "source": [
        "<a href=\"https://colab.research.google.com/github/ayyaz-azeem/NLP/blob/main/Lecture04_Stemming.ipynb\" target=\"_parent\"><img src=\"https://colab.research.google.com/assets/colab-badge.svg\" alt=\"Open In Colab\"/></a>"
      ]
    },
    {
      "cell_type": "code",
      "execution_count": 5,
      "metadata": {
        "id": "8v7Z0qLNUQ--"
      },
      "outputs": [],
      "source": [
        ""
      ]
    },
    {
      "cell_type": "code",
      "execution_count": 1,
      "metadata": {
        "id": "0pkIHgZ6N0OT"
      },
      "outputs": [],
      "source": [
        "import nltk"
      ]
    },
    {
      "cell_type": "code",
      "source": [
        "nltk.download('all')\n"
      ],
      "metadata": {
        "colab": {
          "base_uri": "https://localhost:8080/"
        },
        "id": "8ICm24ehN13d",
        "outputId": "96e3d452-5018-4aaf-cb96-ca09e82f21a0"
      },
      "execution_count": 2,
      "outputs": [
        {
          "output_type": "stream",
          "name": "stdout",
          "text": [
            "[nltk_data] Downloading collection 'all'\n",
            "[nltk_data]    | \n",
            "[nltk_data]    | Downloading package abc to /root/nltk_data...\n",
            "[nltk_data]    |   Package abc is already up-to-date!\n",
            "[nltk_data]    | Downloading package alpino to /root/nltk_data...\n",
            "[nltk_data]    |   Package alpino is already up-to-date!\n",
            "[nltk_data]    | Downloading package averaged_perceptron_tagger to\n",
            "[nltk_data]    |     /root/nltk_data...\n",
            "[nltk_data]    |   Package averaged_perceptron_tagger is already up-\n",
            "[nltk_data]    |       to-date!\n",
            "[nltk_data]    | Downloading package averaged_perceptron_tagger_ru to\n",
            "[nltk_data]    |     /root/nltk_data...\n",
            "[nltk_data]    |   Package averaged_perceptron_tagger_ru is already\n",
            "[nltk_data]    |       up-to-date!\n",
            "[nltk_data]    | Downloading package basque_grammars to\n",
            "[nltk_data]    |     /root/nltk_data...\n",
            "[nltk_data]    |   Package basque_grammars is already up-to-date!\n",
            "[nltk_data]    | Downloading package biocreative_ppi to\n",
            "[nltk_data]    |     /root/nltk_data...\n",
            "[nltk_data]    |   Package biocreative_ppi is already up-to-date!\n",
            "[nltk_data]    | Downloading package bllip_wsj_no_aux to\n",
            "[nltk_data]    |     /root/nltk_data...\n",
            "[nltk_data]    |   Package bllip_wsj_no_aux is already up-to-date!\n",
            "[nltk_data]    | Downloading package book_grammars to\n",
            "[nltk_data]    |     /root/nltk_data...\n",
            "[nltk_data]    |   Package book_grammars is already up-to-date!\n",
            "[nltk_data]    | Downloading package brown to /root/nltk_data...\n",
            "[nltk_data]    |   Package brown is already up-to-date!\n",
            "[nltk_data]    | Downloading package brown_tei to /root/nltk_data...\n",
            "[nltk_data]    |   Package brown_tei is already up-to-date!\n",
            "[nltk_data]    | Downloading package cess_cat to /root/nltk_data...\n",
            "[nltk_data]    |   Package cess_cat is already up-to-date!\n",
            "[nltk_data]    | Downloading package cess_esp to /root/nltk_data...\n",
            "[nltk_data]    |   Package cess_esp is already up-to-date!\n",
            "[nltk_data]    | Downloading package chat80 to /root/nltk_data...\n",
            "[nltk_data]    |   Package chat80 is already up-to-date!\n",
            "[nltk_data]    | Downloading package city_database to\n",
            "[nltk_data]    |     /root/nltk_data...\n",
            "[nltk_data]    |   Package city_database is already up-to-date!\n",
            "[nltk_data]    | Downloading package cmudict to /root/nltk_data...\n",
            "[nltk_data]    |   Package cmudict is already up-to-date!\n",
            "[nltk_data]    | Downloading package comparative_sentences to\n",
            "[nltk_data]    |     /root/nltk_data...\n",
            "[nltk_data]    |   Package comparative_sentences is already up-to-\n",
            "[nltk_data]    |       date!\n",
            "[nltk_data]    | Downloading package comtrans to /root/nltk_data...\n",
            "[nltk_data]    |   Package comtrans is already up-to-date!\n",
            "[nltk_data]    | Downloading package conll2000 to /root/nltk_data...\n",
            "[nltk_data]    |   Package conll2000 is already up-to-date!\n",
            "[nltk_data]    | Downloading package conll2002 to /root/nltk_data...\n",
            "[nltk_data]    |   Package conll2002 is already up-to-date!\n",
            "[nltk_data]    | Downloading package conll2007 to /root/nltk_data...\n",
            "[nltk_data]    |   Package conll2007 is already up-to-date!\n",
            "[nltk_data]    | Downloading package crubadan to /root/nltk_data...\n",
            "[nltk_data]    |   Package crubadan is already up-to-date!\n",
            "[nltk_data]    | Downloading package dependency_treebank to\n",
            "[nltk_data]    |     /root/nltk_data...\n",
            "[nltk_data]    |   Package dependency_treebank is already up-to-date!\n",
            "[nltk_data]    | Downloading package dolch to /root/nltk_data...\n",
            "[nltk_data]    |   Package dolch is already up-to-date!\n",
            "[nltk_data]    | Downloading package europarl_raw to\n",
            "[nltk_data]    |     /root/nltk_data...\n",
            "[nltk_data]    |   Package europarl_raw is already up-to-date!\n",
            "[nltk_data]    | Downloading package extended_omw to\n",
            "[nltk_data]    |     /root/nltk_data...\n",
            "[nltk_data]    |   Package extended_omw is already up-to-date!\n",
            "[nltk_data]    | Downloading package floresta to /root/nltk_data...\n",
            "[nltk_data]    |   Package floresta is already up-to-date!\n",
            "[nltk_data]    | Downloading package framenet_v15 to\n",
            "[nltk_data]    |     /root/nltk_data...\n",
            "[nltk_data]    |   Package framenet_v15 is already up-to-date!\n",
            "[nltk_data]    | Downloading package framenet_v17 to\n",
            "[nltk_data]    |     /root/nltk_data...\n",
            "[nltk_data]    |   Package framenet_v17 is already up-to-date!\n",
            "[nltk_data]    | Downloading package gazetteers to /root/nltk_data...\n",
            "[nltk_data]    |   Package gazetteers is already up-to-date!\n",
            "[nltk_data]    | Downloading package genesis to /root/nltk_data...\n",
            "[nltk_data]    |   Package genesis is already up-to-date!\n",
            "[nltk_data]    | Downloading package gutenberg to /root/nltk_data...\n",
            "[nltk_data]    |   Package gutenberg is already up-to-date!\n",
            "[nltk_data]    | Downloading package ieer to /root/nltk_data...\n",
            "[nltk_data]    |   Package ieer is already up-to-date!\n",
            "[nltk_data]    | Downloading package inaugural to /root/nltk_data...\n",
            "[nltk_data]    |   Package inaugural is already up-to-date!\n",
            "[nltk_data]    | Downloading package indian to /root/nltk_data...\n",
            "[nltk_data]    |   Package indian is already up-to-date!\n",
            "[nltk_data]    | Downloading package jeita to /root/nltk_data...\n",
            "[nltk_data]    |   Package jeita is already up-to-date!\n",
            "[nltk_data]    | Downloading package kimmo to /root/nltk_data...\n",
            "[nltk_data]    |   Package kimmo is already up-to-date!\n",
            "[nltk_data]    | Downloading package knbc to /root/nltk_data...\n",
            "[nltk_data]    |   Package knbc is already up-to-date!\n",
            "[nltk_data]    | Downloading package large_grammars to\n",
            "[nltk_data]    |     /root/nltk_data...\n",
            "[nltk_data]    |   Package large_grammars is already up-to-date!\n",
            "[nltk_data]    | Downloading package lin_thesaurus to\n",
            "[nltk_data]    |     /root/nltk_data...\n",
            "[nltk_data]    |   Package lin_thesaurus is already up-to-date!\n",
            "[nltk_data]    | Downloading package mac_morpho to /root/nltk_data...\n",
            "[nltk_data]    |   Package mac_morpho is already up-to-date!\n",
            "[nltk_data]    | Downloading package machado to /root/nltk_data...\n",
            "[nltk_data]    |   Package machado is already up-to-date!\n",
            "[nltk_data]    | Downloading package masc_tagged to /root/nltk_data...\n",
            "[nltk_data]    |   Package masc_tagged is already up-to-date!\n",
            "[nltk_data]    | Downloading package maxent_ne_chunker to\n",
            "[nltk_data]    |     /root/nltk_data...\n",
            "[nltk_data]    |   Package maxent_ne_chunker is already up-to-date!\n",
            "[nltk_data]    | Downloading package maxent_treebank_pos_tagger to\n",
            "[nltk_data]    |     /root/nltk_data...\n",
            "[nltk_data]    |   Package maxent_treebank_pos_tagger is already up-\n",
            "[nltk_data]    |       to-date!\n",
            "[nltk_data]    | Downloading package moses_sample to\n",
            "[nltk_data]    |     /root/nltk_data...\n",
            "[nltk_data]    |   Package moses_sample is already up-to-date!\n",
            "[nltk_data]    | Downloading package movie_reviews to\n",
            "[nltk_data]    |     /root/nltk_data...\n",
            "[nltk_data]    |   Package movie_reviews is already up-to-date!\n",
            "[nltk_data]    | Downloading package mte_teip5 to /root/nltk_data...\n",
            "[nltk_data]    |   Package mte_teip5 is already up-to-date!\n",
            "[nltk_data]    | Downloading package mwa_ppdb to /root/nltk_data...\n",
            "[nltk_data]    |   Package mwa_ppdb is already up-to-date!\n",
            "[nltk_data]    | Downloading package names to /root/nltk_data...\n",
            "[nltk_data]    |   Package names is already up-to-date!\n",
            "[nltk_data]    | Downloading package nombank.1.0 to /root/nltk_data...\n",
            "[nltk_data]    |   Package nombank.1.0 is already up-to-date!\n",
            "[nltk_data]    | Downloading package nonbreaking_prefixes to\n",
            "[nltk_data]    |     /root/nltk_data...\n",
            "[nltk_data]    |   Package nonbreaking_prefixes is already up-to-date!\n",
            "[nltk_data]    | Downloading package nps_chat to /root/nltk_data...\n",
            "[nltk_data]    |   Package nps_chat is already up-to-date!\n",
            "[nltk_data]    | Downloading package omw to /root/nltk_data...\n",
            "[nltk_data]    |   Package omw is already up-to-date!\n",
            "[nltk_data]    | Downloading package omw-1.4 to /root/nltk_data...\n",
            "[nltk_data]    |   Package omw-1.4 is already up-to-date!\n",
            "[nltk_data]    | Downloading package opinion_lexicon to\n",
            "[nltk_data]    |     /root/nltk_data...\n",
            "[nltk_data]    |   Package opinion_lexicon is already up-to-date!\n",
            "[nltk_data]    | Downloading package panlex_swadesh to\n",
            "[nltk_data]    |     /root/nltk_data...\n",
            "[nltk_data]    |   Package panlex_swadesh is already up-to-date!\n",
            "[nltk_data]    | Downloading package paradigms to /root/nltk_data...\n",
            "[nltk_data]    |   Package paradigms is already up-to-date!\n",
            "[nltk_data]    | Downloading package pe08 to /root/nltk_data...\n",
            "[nltk_data]    |   Package pe08 is already up-to-date!\n",
            "[nltk_data]    | Downloading package perluniprops to\n",
            "[nltk_data]    |     /root/nltk_data...\n",
            "[nltk_data]    |   Package perluniprops is already up-to-date!\n",
            "[nltk_data]    | Downloading package pil to /root/nltk_data...\n",
            "[nltk_data]    |   Package pil is already up-to-date!\n",
            "[nltk_data]    | Downloading package pl196x to /root/nltk_data...\n",
            "[nltk_data]    |   Package pl196x is already up-to-date!\n",
            "[nltk_data]    | Downloading package porter_test to /root/nltk_data...\n",
            "[nltk_data]    |   Package porter_test is already up-to-date!\n",
            "[nltk_data]    | Downloading package ppattach to /root/nltk_data...\n",
            "[nltk_data]    |   Package ppattach is already up-to-date!\n",
            "[nltk_data]    | Downloading package problem_reports to\n",
            "[nltk_data]    |     /root/nltk_data...\n",
            "[nltk_data]    |   Package problem_reports is already up-to-date!\n",
            "[nltk_data]    | Downloading package product_reviews_1 to\n",
            "[nltk_data]    |     /root/nltk_data...\n",
            "[nltk_data]    |   Package product_reviews_1 is already up-to-date!\n",
            "[nltk_data]    | Downloading package product_reviews_2 to\n",
            "[nltk_data]    |     /root/nltk_data...\n",
            "[nltk_data]    |   Package product_reviews_2 is already up-to-date!\n",
            "[nltk_data]    | Downloading package propbank to /root/nltk_data...\n",
            "[nltk_data]    |   Package propbank is already up-to-date!\n",
            "[nltk_data]    | Downloading package pros_cons to /root/nltk_data...\n",
            "[nltk_data]    |   Package pros_cons is already up-to-date!\n",
            "[nltk_data]    | Downloading package ptb to /root/nltk_data...\n",
            "[nltk_data]    |   Package ptb is already up-to-date!\n",
            "[nltk_data]    | Downloading package punkt to /root/nltk_data...\n",
            "[nltk_data]    |   Package punkt is already up-to-date!\n",
            "[nltk_data]    | Downloading package qc to /root/nltk_data...\n",
            "[nltk_data]    |   Package qc is already up-to-date!\n",
            "[nltk_data]    | Downloading package reuters to /root/nltk_data...\n",
            "[nltk_data]    |   Package reuters is already up-to-date!\n",
            "[nltk_data]    | Downloading package rslp to /root/nltk_data...\n",
            "[nltk_data]    |   Package rslp is already up-to-date!\n",
            "[nltk_data]    | Downloading package rte to /root/nltk_data...\n",
            "[nltk_data]    |   Package rte is already up-to-date!\n",
            "[nltk_data]    | Downloading package sample_grammars to\n",
            "[nltk_data]    |     /root/nltk_data...\n",
            "[nltk_data]    |   Package sample_grammars is already up-to-date!\n",
            "[nltk_data]    | Downloading package semcor to /root/nltk_data...\n",
            "[nltk_data]    |   Package semcor is already up-to-date!\n",
            "[nltk_data]    | Downloading package senseval to /root/nltk_data...\n",
            "[nltk_data]    |   Package senseval is already up-to-date!\n",
            "[nltk_data]    | Downloading package sentence_polarity to\n",
            "[nltk_data]    |     /root/nltk_data...\n",
            "[nltk_data]    |   Package sentence_polarity is already up-to-date!\n",
            "[nltk_data]    | Downloading package sentiwordnet to\n",
            "[nltk_data]    |     /root/nltk_data...\n",
            "[nltk_data]    |   Package sentiwordnet is already up-to-date!\n",
            "[nltk_data]    | Downloading package shakespeare to /root/nltk_data...\n",
            "[nltk_data]    |   Package shakespeare is already up-to-date!\n",
            "[nltk_data]    | Downloading package sinica_treebank to\n",
            "[nltk_data]    |     /root/nltk_data...\n",
            "[nltk_data]    |   Package sinica_treebank is already up-to-date!\n",
            "[nltk_data]    | Downloading package smultron to /root/nltk_data...\n",
            "[nltk_data]    |   Package smultron is already up-to-date!\n",
            "[nltk_data]    | Downloading package snowball_data to\n",
            "[nltk_data]    |     /root/nltk_data...\n",
            "[nltk_data]    |   Package snowball_data is already up-to-date!\n",
            "[nltk_data]    | Downloading package spanish_grammars to\n",
            "[nltk_data]    |     /root/nltk_data...\n",
            "[nltk_data]    |   Package spanish_grammars is already up-to-date!\n",
            "[nltk_data]    | Downloading package state_union to /root/nltk_data...\n",
            "[nltk_data]    |   Package state_union is already up-to-date!\n",
            "[nltk_data]    | Downloading package stopwords to /root/nltk_data...\n",
            "[nltk_data]    |   Package stopwords is already up-to-date!\n",
            "[nltk_data]    | Downloading package subjectivity to\n",
            "[nltk_data]    |     /root/nltk_data...\n",
            "[nltk_data]    |   Package subjectivity is already up-to-date!\n",
            "[nltk_data]    | Downloading package swadesh to /root/nltk_data...\n",
            "[nltk_data]    |   Package swadesh is already up-to-date!\n",
            "[nltk_data]    | Downloading package switchboard to /root/nltk_data...\n",
            "[nltk_data]    |   Package switchboard is already up-to-date!\n",
            "[nltk_data]    | Downloading package tagsets to /root/nltk_data...\n",
            "[nltk_data]    |   Package tagsets is already up-to-date!\n",
            "[nltk_data]    | Downloading package timit to /root/nltk_data...\n",
            "[nltk_data]    |   Package timit is already up-to-date!\n",
            "[nltk_data]    | Downloading package toolbox to /root/nltk_data...\n",
            "[nltk_data]    |   Package toolbox is already up-to-date!\n",
            "[nltk_data]    | Downloading package treebank to /root/nltk_data...\n",
            "[nltk_data]    |   Package treebank is already up-to-date!\n",
            "[nltk_data]    | Downloading package twitter_samples to\n",
            "[nltk_data]    |     /root/nltk_data...\n",
            "[nltk_data]    |   Package twitter_samples is already up-to-date!\n",
            "[nltk_data]    | Downloading package udhr to /root/nltk_data...\n",
            "[nltk_data]    |   Package udhr is already up-to-date!\n",
            "[nltk_data]    | Downloading package udhr2 to /root/nltk_data...\n",
            "[nltk_data]    |   Package udhr2 is already up-to-date!\n",
            "[nltk_data]    | Downloading package unicode_samples to\n",
            "[nltk_data]    |     /root/nltk_data...\n",
            "[nltk_data]    |   Package unicode_samples is already up-to-date!\n",
            "[nltk_data]    | Downloading package universal_tagset to\n",
            "[nltk_data]    |     /root/nltk_data...\n",
            "[nltk_data]    |   Package universal_tagset is already up-to-date!\n",
            "[nltk_data]    | Downloading package universal_treebanks_v20 to\n",
            "[nltk_data]    |     /root/nltk_data...\n",
            "[nltk_data]    |   Package universal_treebanks_v20 is already up-to-\n",
            "[nltk_data]    |       date!\n",
            "[nltk_data]    | Downloading package vader_lexicon to\n",
            "[nltk_data]    |     /root/nltk_data...\n",
            "[nltk_data]    |   Package vader_lexicon is already up-to-date!\n",
            "[nltk_data]    | Downloading package verbnet to /root/nltk_data...\n",
            "[nltk_data]    |   Package verbnet is already up-to-date!\n",
            "[nltk_data]    | Downloading package verbnet3 to /root/nltk_data...\n",
            "[nltk_data]    |   Package verbnet3 is already up-to-date!\n",
            "[nltk_data]    | Downloading package webtext to /root/nltk_data...\n",
            "[nltk_data]    |   Package webtext is already up-to-date!\n",
            "[nltk_data]    | Downloading package wmt15_eval to /root/nltk_data...\n",
            "[nltk_data]    |   Package wmt15_eval is already up-to-date!\n",
            "[nltk_data]    | Downloading package word2vec_sample to\n",
            "[nltk_data]    |     /root/nltk_data...\n",
            "[nltk_data]    |   Package word2vec_sample is already up-to-date!\n",
            "[nltk_data]    | Downloading package wordnet to /root/nltk_data...\n",
            "[nltk_data]    |   Package wordnet is already up-to-date!\n",
            "[nltk_data]    | Downloading package wordnet2021 to /root/nltk_data...\n",
            "[nltk_data]    |   Package wordnet2021 is already up-to-date!\n",
            "[nltk_data]    | Downloading package wordnet31 to /root/nltk_data...\n",
            "[nltk_data]    |   Package wordnet31 is already up-to-date!\n",
            "[nltk_data]    | Downloading package wordnet_ic to /root/nltk_data...\n",
            "[nltk_data]    |   Package wordnet_ic is already up-to-date!\n",
            "[nltk_data]    | Downloading package words to /root/nltk_data...\n",
            "[nltk_data]    |   Package words is already up-to-date!\n",
            "[nltk_data]    | Downloading package ycoe to /root/nltk_data...\n",
            "[nltk_data]    |   Package ycoe is already up-to-date!\n",
            "[nltk_data]    | \n",
            "[nltk_data]  Done downloading collection all\n"
          ]
        },
        {
          "output_type": "execute_result",
          "data": {
            "text/plain": [
              "True"
            ]
          },
          "metadata": {},
          "execution_count": 2
        }
      ]
    },
    {
      "cell_type": "code",
      "source": [
        "# 11 aug 1947 Quaid e Azam speech\n",
        "paragraph = \"Mr. President (Quaid-e-Azam Mohammad Ali Jinnah): Ladies and Gentlemen, I cordially thank you, with the utmost sincerity, for the honour you have conferred upon me — the greatest honour that it is possible for this Sovereign Assembly to confer — by electing me as your first President. I also thank those leaders who have spoken in appreciation of my services and their personal references to me. I sincerely hope that with your support and your co-operation we shall make this Constituent Assembly an example to the world. The Constituent Assembly has got two main functions to perform. The first is the very onerous and responsible task of framing our future constitution of Pakistan and the second of functioning as a full and complete Sovereign body as the Federal Legislature of Pakistan. We have to do the best we can in adopting a provisional constitution for the Federal Legislature of Pakistan. You know really that not only we ourselves are wondering but, I think, the whole world is wondering at this unprecedented cyclonic revolution which has brought about the plan of creating and establishing two independent Sovereign Dominions in this sub-continent. As it is, it has been unprecedented; there is no parallel in the history of the world. This mighty sub-continent with all kinds of inhabitants has been brought under a plan which is titanic, unknown, unparalleled. And what is very important with regards to it is that we have achieved it peacefully and by means of a revolution of the greatest possible character.Dealing with our first function in this Assembly, I cannot make any well-considered pronouncement at this moment, but I shall say a few things as they occur to me. The first and the foremost thing that I would like to emphasise is this — remember that you are now a Sovereign legislative body and you have got all the powers. It, therefore, places on you the gravest responsibility as to how you should take your decisions. The first observation that I would like to make is this. You will no doubt agree with me that the first duty of a Government is to maintain law and order, so that the life, property and religious beliefs of its subjects are fully protected by the State. The second thing that occurs to me is this. One of the biggest curses from which India is suffering — I do not say that other countries are free from it, but, I think, our condition is much worse — is bribery and corruption. (Hear, hear.) That really is a poison. We must put that down with an iron hand and I hope that you will take adequate measures as soon as it is possible for this Assembly to do so. Black-marketing is another curse. Well, I know that black-marketers are frequently caught and punished. According to our judicial notions sentences are passed, and sometimes fines only are imposed. Now you have to tackle this monster which today is a colossal crime against society, in our distressed conditions, when we constantly face shortage of food and or the essential commodities of life. A citizen who does black-marketing commits, I think, a greater crime than the biggest and most grievous of crimes. These black-marketers are really knowing, intelligent and ordinarily responsible people, and when they indulge in black-marketing, I think they ought to be very severely punished, because they undermine the entire system of control and regulation of food-stuffs and essential commodities, and cause wholesale starvation and want and even death. The next thing that strikes me is this. Here again is a legacy which has been passed on to us. Along with many other things good and bad, has arrived this great evil -the evil of nepotism and jobbery. This evil must be crushed relentlessly. I want to make it quite clear that I shall never tolerate any kind of jobbery, nepotism or any influence directly or indirectly brought to bear upon me. Wherever I find that such a practice is in vogue, or is continuing anywhere, low or high, I shall certainly not countenance it. I know there are people who do not quite agree with the division of Indian and the partition of the Punjab and Bengal. Much has been said against it, but now that it has been accepted, it is the duty of every one of us to loyally abide by it and honourably act according to the agreement which is now final and binding on all. But you must remember, as I have said, that this mighty revolution that has taken place is unprecedented. One can quite understand the feeling that exists between the two communities wherever one community is in majority and the other is in minority. But the question is whether it was possible or practicable to act otherwise than has been done. A division had to take place. On both sides, in Hindustan and Pakistan, there are sections of people who may not agree with it, who may not like it, but in my judgment there was no other solution and I am sure future history will record its verdict in favour of it. And what is more it will be proved by actual experience as we go on that that was the only solution of India’s constitutional problem. Any idea of a United India could never have worked and in my judgment it would have led us to terrific disaster. May be that view is correct; may be it is not; that remains to be seen. All the same, in this division it was impossible to avoid the questions of minorities being in one Dominion or the other. Now that was unavoidable. There is no other solution. Now what shall we do? Now, if we want to make this great State of Pakistan happy and prosperous we should wholly and solely concentrate on the well-being of the people, and especially of the masses and the poor. If you will work in co-operation, forgetting the past, burying the hatchet, you are bound to succeed. If you change your past and work together in a spirit that every one of you, no matter to what community he belongs, no matter to what community he belongs, no matter what relations he had with you in the past, no matter what is his colour, caste or creed, is first, second and last a citizen of this State with equal rights, privileges and obligations there will be no end to the progress you will make.\""
      ],
      "metadata": {
        "id": "hGSrJ80-N3E3"
      },
      "execution_count": 3,
      "outputs": []
    },
    {
      "cell_type": "code",
      "source": [
        "sentences = nltk.sent_tokenize(paragraph)\n",
        "original_sentences = sentences.copy()\n",
        "print('number of sentences: ',len(sentences))\n",
        "print(sentences[0:10])\n",
        "print(original_sentences[0:10])\n",
        "print()\n",
        "words = nltk.word_tokenize(paragraph)\n",
        "print('number of words: ',len(words))\n",
        "print(words[0:10])"
      ],
      "metadata": {
        "id": "XS8B21jmP62Z",
        "colab": {
          "base_uri": "https://localhost:8080/"
        },
        "outputId": "9a782cca-2960-45e9-a652-65a75852ae9a"
      },
      "execution_count": 13,
      "outputs": [
        {
          "output_type": "stream",
          "name": "stdout",
          "text": [
            "number of sentences:  48\n",
            "['Mr. President (Quaid-e-Azam Mohammad Ali Jinnah): Ladies and Gentlemen, I cordially thank you, with the utmost sincerity, for the honour you have conferred upon me — the greatest honour that it is possible for this Sovereign Assembly to confer — by electing me as your first President.', 'I also thank those leaders who have spoken in appreciation of my services and their personal references to me.', 'I sincerely hope that with your support and your co-operation we shall make this Constituent Assembly an example to the world.', 'The Constituent Assembly has got two main functions to perform.', 'The first is the very onerous and responsible task of framing our future constitution of Pakistan and the second of functioning as a full and complete Sovereign body as the Federal Legislature of Pakistan.', 'We have to do the best we can in adopting a provisional constitution for the Federal Legislature of Pakistan.', 'You know really that not only we ourselves are wondering but, I think, the whole world is wondering at this unprecedented cyclonic revolution which has brought about the plan of creating and establishing two independent Sovereign Dominions in this sub-continent.', 'As it is, it has been unprecedented; there is no parallel in the history of the world.', 'This mighty sub-continent with all kinds of inhabitants has been brought under a plan which is titanic, unknown, unparalleled.', 'And what is very important with regards to it is that we have achieved it peacefully and by means of a revolution of the greatest possible character.Dealing with our first function in this Assembly, I cannot make any well-considered pronouncement at this moment, but I shall say a few things as they occur to me.']\n",
            "['Mr. President (Quaid-e-Azam Mohammad Ali Jinnah): Ladies and Gentlemen, I cordially thank you, with the utmost sincerity, for the honour you have conferred upon me — the greatest honour that it is possible for this Sovereign Assembly to confer — by electing me as your first President.', 'I also thank those leaders who have spoken in appreciation of my services and their personal references to me.', 'I sincerely hope that with your support and your co-operation we shall make this Constituent Assembly an example to the world.', 'The Constituent Assembly has got two main functions to perform.', 'The first is the very onerous and responsible task of framing our future constitution of Pakistan and the second of functioning as a full and complete Sovereign body as the Federal Legislature of Pakistan.', 'We have to do the best we can in adopting a provisional constitution for the Federal Legislature of Pakistan.', 'You know really that not only we ourselves are wondering but, I think, the whole world is wondering at this unprecedented cyclonic revolution which has brought about the plan of creating and establishing two independent Sovereign Dominions in this sub-continent.', 'As it is, it has been unprecedented; there is no parallel in the history of the world.', 'This mighty sub-continent with all kinds of inhabitants has been brought under a plan which is titanic, unknown, unparalleled.', 'And what is very important with regards to it is that we have achieved it peacefully and by means of a revolution of the greatest possible character.Dealing with our first function in this Assembly, I cannot make any well-considered pronouncement at this moment, but I shall say a few things as they occur to me.']\n",
            "\n",
            "number of words:  1200\n",
            "['Mr.', 'President', '(', 'Quaid-e-Azam', 'Mohammad', 'Ali', 'Jinnah', ')', ':', 'Ladies']\n"
          ]
        }
      ]
    },
    {
      "cell_type": "code",
      "source": [
        "from nltk.stem import PorterStemmer\n",
        "from nltk.corpus import stopwords\n",
        "stemmer = PorterStemmer()"
      ],
      "metadata": {
        "id": "IsxQSlhTVGuA"
      },
      "execution_count": 14,
      "outputs": []
    },
    {
      "cell_type": "code",
      "source": [
        "# stemming\n",
        "for i in range(len(sentences)):\n",
        "  words = nltk.word_tokenize(sentences[i])\n",
        "  words = [stemmer.stem(j) for j in words if j not in set(stopwords.words('english'))]\n",
        "  sentences[i] = ' '.join(words)"
      ],
      "metadata": {
        "id": "0djRAysQVq2X"
      },
      "execution_count": 18,
      "outputs": []
    },
    {
      "cell_type": "code",
      "source": [
        "for i in range(10):\n",
        "  print('sentence number {}'.format(i))\n",
        "  print(sentences[i])\n",
        "  print( original_sentences[i])\n",
        "  print()"
      ],
      "metadata": {
        "colab": {
          "base_uri": "https://localhost:8080/"
        },
        "id": "Z6IjCwp5Wvl1",
        "outputId": "4b417fc9-974f-4d24-b39d-24f69aa5a66d"
      },
      "execution_count": 19,
      "outputs": [
        {
          "output_type": "stream",
          "name": "stdout",
          "text": [
            "sentence number 0\n",
            "mr. presid ( quaid-e-azam mohammad ali jinnah ) : ladi gentlemen , I cordial thank , utmost sincer , honour confer upon — greatest honour possibl sovereign assembl confer — elect first presid .\n",
            "Mr. President (Quaid-e-Azam Mohammad Ali Jinnah): Ladies and Gentlemen, I cordially thank you, with the utmost sincerity, for the honour you have conferred upon me — the greatest honour that it is possible for this Sovereign Assembly to confer — by electing me as your first President.\n",
            "\n",
            "sentence number 1\n",
            "I also thank leader spoken appreci servic person refer .\n",
            "I also thank those leaders who have spoken in appreciation of my services and their personal references to me.\n",
            "\n",
            "sentence number 2\n",
            "I sincer hope support co-op shall make constitu assembl exampl world .\n",
            "I sincerely hope that with your support and your co-operation we shall make this Constituent Assembly an example to the world.\n",
            "\n",
            "sentence number 3\n",
            "constitu assembl got two main function perform .\n",
            "The Constituent Assembly has got two main functions to perform.\n",
            "\n",
            "sentence number 4\n",
            "first oner respon task frame futur constitut pakistan second function full complet sovereign bodi feder legislatur pakistan .\n",
            "The first is the very onerous and responsible task of framing our future constitution of Pakistan and the second of functioning as a full and complete Sovereign body as the Federal Legislature of Pakistan.\n",
            "\n",
            "sentence number 5\n",
            "We best adopt provis constitut feder legislatur pakistan .\n",
            "We have to do the best we can in adopting a provisional constitution for the Federal Legislature of Pakistan.\n",
            "\n",
            "sentence number 6\n",
            "know realli wonder , I think , whole world wonder unprec cyclon revolut brought plan creat establish two independ sovereign dominion sub-contin .\n",
            "You know really that not only we ourselves are wondering but, I think, the whole world is wondering at this unprecedented cyclonic revolution which has brought about the plan of creating and establishing two independent Sovereign Dominions in this sub-continent.\n",
            "\n",
            "sentence number 7\n",
            "As , unprec ; parallel histori world .\n",
            "As it is, it has been unprecedented; there is no parallel in the history of the world.\n",
            "\n",
            "sentence number 8\n",
            "thi mighti sub-contin kind inhabit brought plan titan , unknown , unparallel .\n",
            "This mighty sub-continent with all kinds of inhabitants has been brought under a plan which is titanic, unknown, unparalleled.\n",
            "\n",
            "sentence number 9\n",
            "import regard achiev peac mean revolut greatest possibl character.d first function assembl , I make well-consid pronounc moment , I shall say thing occur .\n",
            "And what is very important with regards to it is that we have achieved it peacefully and by means of a revolution of the greatest possible character.Dealing with our first function in this Assembly, I cannot make any well-considered pronouncement at this moment, but I shall say a few things as they occur to me.\n",
            "\n"
          ]
        }
      ]
    },
    {
      "cell_type": "code",
      "source": [
        ""
      ],
      "metadata": {
        "id": "iwCfvZgpW8Ci"
      },
      "execution_count": null,
      "outputs": []
    }
  ]
}