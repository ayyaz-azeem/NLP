{
  "nbformat": 4,
  "nbformat_minor": 0,
  "metadata": {
    "colab": {
      "name": "nlp-2.ipynb",
      "provenance": [],
      "authorship_tag": "ABX9TyOsmFJpcxPvZc9Wg7o/oIE4",
      "include_colab_link": true
    },
    "kernelspec": {
      "name": "python3",
      "display_name": "Python 3"
    },
    "language_info": {
      "name": "python"
    }
  },
  "cells": [
    {
      "cell_type": "markdown",
      "metadata": {
        "id": "view-in-github",
        "colab_type": "text"
      },
      "source": [
        "<a href=\"https://colab.research.google.com/github/ayyaz-azeem/NLP/blob/main/nlp_2.ipynb\" target=\"_parent\"><img src=\"https://colab.research.google.com/assets/colab-badge.svg\" alt=\"Open In Colab\"/></a>"
      ]
    },
    {
      "cell_type": "code",
      "execution_count": null,
      "metadata": {
        "colab": {
          "base_uri": "https://localhost:8080/"
        },
        "id": "U-3ldJzZ290j",
        "outputId": "baae8a67-3ae2-4c60-9daa-96bddae9173e"
      },
      "outputs": [
        {
          "output_type": "stream",
          "name": "stdout",
          "text": [
            "[nltk_data] Downloading collection 'all'\n",
            "[nltk_data]    | \n",
            "[nltk_data]    | Downloading package abc to /root/nltk_data...\n",
            "[nltk_data]    |   Unzipping corpora/abc.zip.\n",
            "[nltk_data]    | Downloading package alpino to /root/nltk_data...\n",
            "[nltk_data]    |   Unzipping corpora/alpino.zip.\n",
            "[nltk_data]    | Downloading package averaged_perceptron_tagger to\n",
            "[nltk_data]    |     /root/nltk_data...\n",
            "[nltk_data]    |   Unzipping taggers/averaged_perceptron_tagger.zip.\n",
            "[nltk_data]    | Downloading package averaged_perceptron_tagger_ru to\n",
            "[nltk_data]    |     /root/nltk_data...\n",
            "[nltk_data]    |   Unzipping\n",
            "[nltk_data]    |       taggers/averaged_perceptron_tagger_ru.zip.\n",
            "[nltk_data]    | Downloading package basque_grammars to\n",
            "[nltk_data]    |     /root/nltk_data...\n",
            "[nltk_data]    |   Unzipping grammars/basque_grammars.zip.\n",
            "[nltk_data]    | Downloading package biocreative_ppi to\n",
            "[nltk_data]    |     /root/nltk_data...\n",
            "[nltk_data]    |   Unzipping corpora/biocreative_ppi.zip.\n",
            "[nltk_data]    | Downloading package bllip_wsj_no_aux to\n",
            "[nltk_data]    |     /root/nltk_data...\n",
            "[nltk_data]    |   Unzipping models/bllip_wsj_no_aux.zip.\n",
            "[nltk_data]    | Downloading package book_grammars to\n",
            "[nltk_data]    |     /root/nltk_data...\n",
            "[nltk_data]    |   Unzipping grammars/book_grammars.zip.\n",
            "[nltk_data]    | Downloading package brown to /root/nltk_data...\n",
            "[nltk_data]    |   Unzipping corpora/brown.zip.\n",
            "[nltk_data]    | Downloading package brown_tei to /root/nltk_data...\n",
            "[nltk_data]    |   Unzipping corpora/brown_tei.zip.\n",
            "[nltk_data]    | Downloading package cess_cat to /root/nltk_data...\n",
            "[nltk_data]    |   Unzipping corpora/cess_cat.zip.\n",
            "[nltk_data]    | Downloading package cess_esp to /root/nltk_data...\n",
            "[nltk_data]    |   Unzipping corpora/cess_esp.zip.\n",
            "[nltk_data]    | Downloading package chat80 to /root/nltk_data...\n",
            "[nltk_data]    |   Unzipping corpora/chat80.zip.\n",
            "[nltk_data]    | Downloading package city_database to\n",
            "[nltk_data]    |     /root/nltk_data...\n",
            "[nltk_data]    |   Unzipping corpora/city_database.zip.\n",
            "[nltk_data]    | Downloading package cmudict to /root/nltk_data...\n",
            "[nltk_data]    |   Unzipping corpora/cmudict.zip.\n",
            "[nltk_data]    | Downloading package comparative_sentences to\n",
            "[nltk_data]    |     /root/nltk_data...\n",
            "[nltk_data]    |   Unzipping corpora/comparative_sentences.zip.\n",
            "[nltk_data]    | Downloading package comtrans to /root/nltk_data...\n",
            "[nltk_data]    | Downloading package conll2000 to /root/nltk_data...\n",
            "[nltk_data]    |   Unzipping corpora/conll2000.zip.\n",
            "[nltk_data]    | Downloading package conll2002 to /root/nltk_data...\n",
            "[nltk_data]    |   Unzipping corpora/conll2002.zip.\n",
            "[nltk_data]    | Downloading package conll2007 to /root/nltk_data...\n",
            "[nltk_data]    | Downloading package crubadan to /root/nltk_data...\n",
            "[nltk_data]    |   Unzipping corpora/crubadan.zip.\n",
            "[nltk_data]    | Downloading package dependency_treebank to\n",
            "[nltk_data]    |     /root/nltk_data...\n",
            "[nltk_data]    |   Unzipping corpora/dependency_treebank.zip.\n",
            "[nltk_data]    | Downloading package dolch to /root/nltk_data...\n",
            "[nltk_data]    |   Unzipping corpora/dolch.zip.\n",
            "[nltk_data]    | Downloading package europarl_raw to\n",
            "[nltk_data]    |     /root/nltk_data...\n",
            "[nltk_data]    |   Unzipping corpora/europarl_raw.zip.\n",
            "[nltk_data]    | Downloading package extended_omw to\n",
            "[nltk_data]    |     /root/nltk_data...\n",
            "[nltk_data]    |   Unzipping corpora/extended_omw.zip.\n",
            "[nltk_data]    | Downloading package floresta to /root/nltk_data...\n",
            "[nltk_data]    |   Unzipping corpora/floresta.zip.\n",
            "[nltk_data]    | Downloading package framenet_v15 to\n",
            "[nltk_data]    |     /root/nltk_data...\n",
            "[nltk_data]    |   Unzipping corpora/framenet_v15.zip.\n",
            "[nltk_data]    | Downloading package framenet_v17 to\n",
            "[nltk_data]    |     /root/nltk_data...\n",
            "[nltk_data]    |   Unzipping corpora/framenet_v17.zip.\n",
            "[nltk_data]    | Downloading package gazetteers to /root/nltk_data...\n",
            "[nltk_data]    |   Unzipping corpora/gazetteers.zip.\n",
            "[nltk_data]    | Downloading package genesis to /root/nltk_data...\n",
            "[nltk_data]    |   Unzipping corpora/genesis.zip.\n",
            "[nltk_data]    | Downloading package gutenberg to /root/nltk_data...\n",
            "[nltk_data]    |   Unzipping corpora/gutenberg.zip.\n",
            "[nltk_data]    | Downloading package ieer to /root/nltk_data...\n",
            "[nltk_data]    |   Unzipping corpora/ieer.zip.\n",
            "[nltk_data]    | Downloading package inaugural to /root/nltk_data...\n",
            "[nltk_data]    |   Unzipping corpora/inaugural.zip.\n",
            "[nltk_data]    | Downloading package indian to /root/nltk_data...\n",
            "[nltk_data]    |   Unzipping corpora/indian.zip.\n",
            "[nltk_data]    | Downloading package jeita to /root/nltk_data...\n",
            "[nltk_data]    | Downloading package kimmo to /root/nltk_data...\n",
            "[nltk_data]    |   Unzipping corpora/kimmo.zip.\n",
            "[nltk_data]    | Downloading package knbc to /root/nltk_data...\n",
            "[nltk_data]    | Downloading package large_grammars to\n",
            "[nltk_data]    |     /root/nltk_data...\n",
            "[nltk_data]    |   Unzipping grammars/large_grammars.zip.\n",
            "[nltk_data]    | Downloading package lin_thesaurus to\n",
            "[nltk_data]    |     /root/nltk_data...\n",
            "[nltk_data]    |   Unzipping corpora/lin_thesaurus.zip.\n",
            "[nltk_data]    | Downloading package mac_morpho to /root/nltk_data...\n",
            "[nltk_data]    |   Unzipping corpora/mac_morpho.zip.\n",
            "[nltk_data]    | Downloading package machado to /root/nltk_data...\n",
            "[nltk_data]    | Downloading package masc_tagged to /root/nltk_data...\n",
            "[nltk_data]    | Downloading package maxent_ne_chunker to\n",
            "[nltk_data]    |     /root/nltk_data...\n",
            "[nltk_data]    |   Unzipping chunkers/maxent_ne_chunker.zip.\n",
            "[nltk_data]    | Downloading package maxent_treebank_pos_tagger to\n",
            "[nltk_data]    |     /root/nltk_data...\n",
            "[nltk_data]    |   Unzipping taggers/maxent_treebank_pos_tagger.zip.\n",
            "[nltk_data]    | Downloading package moses_sample to\n",
            "[nltk_data]    |     /root/nltk_data...\n",
            "[nltk_data]    |   Unzipping models/moses_sample.zip.\n",
            "[nltk_data]    | Downloading package movie_reviews to\n",
            "[nltk_data]    |     /root/nltk_data...\n",
            "[nltk_data]    |   Unzipping corpora/movie_reviews.zip.\n",
            "[nltk_data]    | Downloading package mte_teip5 to /root/nltk_data...\n",
            "[nltk_data]    |   Unzipping corpora/mte_teip5.zip.\n",
            "[nltk_data]    | Downloading package mwa_ppdb to /root/nltk_data...\n",
            "[nltk_data]    |   Unzipping misc/mwa_ppdb.zip.\n",
            "[nltk_data]    | Downloading package names to /root/nltk_data...\n",
            "[nltk_data]    |   Unzipping corpora/names.zip.\n",
            "[nltk_data]    | Downloading package nombank.1.0 to /root/nltk_data...\n",
            "[nltk_data]    | Downloading package nonbreaking_prefixes to\n",
            "[nltk_data]    |     /root/nltk_data...\n",
            "[nltk_data]    |   Unzipping corpora/nonbreaking_prefixes.zip.\n",
            "[nltk_data]    | Downloading package nps_chat to /root/nltk_data...\n",
            "[nltk_data]    |   Unzipping corpora/nps_chat.zip.\n",
            "[nltk_data]    | Downloading package omw to /root/nltk_data...\n",
            "[nltk_data]    |   Unzipping corpora/omw.zip.\n",
            "[nltk_data]    | Downloading package omw-1.4 to /root/nltk_data...\n",
            "[nltk_data]    |   Unzipping corpora/omw-1.4.zip.\n",
            "[nltk_data]    | Downloading package opinion_lexicon to\n",
            "[nltk_data]    |     /root/nltk_data...\n",
            "[nltk_data]    |   Unzipping corpora/opinion_lexicon.zip.\n",
            "[nltk_data]    | Downloading package panlex_swadesh to\n",
            "[nltk_data]    |     /root/nltk_data...\n",
            "[nltk_data]    | Downloading package paradigms to /root/nltk_data...\n",
            "[nltk_data]    |   Unzipping corpora/paradigms.zip.\n",
            "[nltk_data]    | Downloading package pe08 to /root/nltk_data...\n",
            "[nltk_data]    |   Unzipping corpora/pe08.zip.\n",
            "[nltk_data]    | Downloading package perluniprops to\n",
            "[nltk_data]    |     /root/nltk_data...\n",
            "[nltk_data]    |   Unzipping misc/perluniprops.zip.\n",
            "[nltk_data]    | Downloading package pil to /root/nltk_data...\n",
            "[nltk_data]    |   Unzipping corpora/pil.zip.\n",
            "[nltk_data]    | Downloading package pl196x to /root/nltk_data...\n",
            "[nltk_data]    |   Unzipping corpora/pl196x.zip.\n",
            "[nltk_data]    | Downloading package porter_test to /root/nltk_data...\n",
            "[nltk_data]    |   Unzipping stemmers/porter_test.zip.\n",
            "[nltk_data]    | Downloading package ppattach to /root/nltk_data...\n",
            "[nltk_data]    |   Unzipping corpora/ppattach.zip.\n",
            "[nltk_data]    | Downloading package problem_reports to\n",
            "[nltk_data]    |     /root/nltk_data...\n",
            "[nltk_data]    |   Unzipping corpora/problem_reports.zip.\n",
            "[nltk_data]    | Downloading package product_reviews_1 to\n",
            "[nltk_data]    |     /root/nltk_data...\n",
            "[nltk_data]    |   Unzipping corpora/product_reviews_1.zip.\n",
            "[nltk_data]    | Downloading package product_reviews_2 to\n",
            "[nltk_data]    |     /root/nltk_data...\n",
            "[nltk_data]    |   Unzipping corpora/product_reviews_2.zip.\n",
            "[nltk_data]    | Downloading package propbank to /root/nltk_data...\n",
            "[nltk_data]    | Downloading package pros_cons to /root/nltk_data...\n",
            "[nltk_data]    |   Unzipping corpora/pros_cons.zip.\n",
            "[nltk_data]    | Downloading package ptb to /root/nltk_data...\n",
            "[nltk_data]    |   Unzipping corpora/ptb.zip.\n",
            "[nltk_data]    | Downloading package punkt to /root/nltk_data...\n",
            "[nltk_data]    |   Unzipping tokenizers/punkt.zip.\n",
            "[nltk_data]    | Downloading package qc to /root/nltk_data...\n",
            "[nltk_data]    |   Unzipping corpora/qc.zip.\n",
            "[nltk_data]    | Downloading package reuters to /root/nltk_data...\n",
            "[nltk_data]    | Downloading package rslp to /root/nltk_data...\n",
            "[nltk_data]    |   Unzipping stemmers/rslp.zip.\n",
            "[nltk_data]    | Downloading package rte to /root/nltk_data...\n",
            "[nltk_data]    |   Unzipping corpora/rte.zip.\n",
            "[nltk_data]    | Downloading package sample_grammars to\n",
            "[nltk_data]    |     /root/nltk_data...\n",
            "[nltk_data]    |   Unzipping grammars/sample_grammars.zip.\n",
            "[nltk_data]    | Downloading package semcor to /root/nltk_data...\n",
            "[nltk_data]    | Downloading package senseval to /root/nltk_data...\n",
            "[nltk_data]    |   Unzipping corpora/senseval.zip.\n",
            "[nltk_data]    | Downloading package sentence_polarity to\n",
            "[nltk_data]    |     /root/nltk_data...\n",
            "[nltk_data]    |   Unzipping corpora/sentence_polarity.zip.\n",
            "[nltk_data]    | Downloading package sentiwordnet to\n",
            "[nltk_data]    |     /root/nltk_data...\n",
            "[nltk_data]    |   Unzipping corpora/sentiwordnet.zip.\n",
            "[nltk_data]    | Downloading package shakespeare to /root/nltk_data...\n",
            "[nltk_data]    |   Unzipping corpora/shakespeare.zip.\n",
            "[nltk_data]    | Downloading package sinica_treebank to\n",
            "[nltk_data]    |     /root/nltk_data...\n",
            "[nltk_data]    |   Unzipping corpora/sinica_treebank.zip.\n",
            "[nltk_data]    | Downloading package smultron to /root/nltk_data...\n",
            "[nltk_data]    |   Unzipping corpora/smultron.zip.\n",
            "[nltk_data]    | Downloading package snowball_data to\n",
            "[nltk_data]    |     /root/nltk_data...\n",
            "[nltk_data]    | Downloading package spanish_grammars to\n",
            "[nltk_data]    |     /root/nltk_data...\n",
            "[nltk_data]    |   Unzipping grammars/spanish_grammars.zip.\n",
            "[nltk_data]    | Downloading package state_union to /root/nltk_data...\n",
            "[nltk_data]    |   Unzipping corpora/state_union.zip.\n",
            "[nltk_data]    | Downloading package stopwords to /root/nltk_data...\n",
            "[nltk_data]    |   Unzipping corpora/stopwords.zip.\n",
            "[nltk_data]    | Downloading package subjectivity to\n",
            "[nltk_data]    |     /root/nltk_data...\n",
            "[nltk_data]    |   Unzipping corpora/subjectivity.zip.\n",
            "[nltk_data]    | Downloading package swadesh to /root/nltk_data...\n",
            "[nltk_data]    |   Unzipping corpora/swadesh.zip.\n",
            "[nltk_data]    | Downloading package switchboard to /root/nltk_data...\n",
            "[nltk_data]    |   Unzipping corpora/switchboard.zip.\n",
            "[nltk_data]    | Downloading package tagsets to /root/nltk_data...\n",
            "[nltk_data]    |   Unzipping help/tagsets.zip.\n",
            "[nltk_data]    | Downloading package timit to /root/nltk_data...\n",
            "[nltk_data]    |   Unzipping corpora/timit.zip.\n",
            "[nltk_data]    | Downloading package toolbox to /root/nltk_data...\n",
            "[nltk_data]    |   Unzipping corpora/toolbox.zip.\n",
            "[nltk_data]    | Downloading package treebank to /root/nltk_data...\n",
            "[nltk_data]    |   Unzipping corpora/treebank.zip.\n",
            "[nltk_data]    | Downloading package twitter_samples to\n",
            "[nltk_data]    |     /root/nltk_data...\n",
            "[nltk_data]    |   Unzipping corpora/twitter_samples.zip.\n",
            "[nltk_data]    | Downloading package udhr to /root/nltk_data...\n",
            "[nltk_data]    |   Unzipping corpora/udhr.zip.\n",
            "[nltk_data]    | Downloading package udhr2 to /root/nltk_data...\n",
            "[nltk_data]    |   Unzipping corpora/udhr2.zip.\n",
            "[nltk_data]    | Downloading package unicode_samples to\n",
            "[nltk_data]    |     /root/nltk_data...\n",
            "[nltk_data]    |   Unzipping corpora/unicode_samples.zip.\n",
            "[nltk_data]    | Downloading package universal_tagset to\n",
            "[nltk_data]    |     /root/nltk_data...\n",
            "[nltk_data]    |   Unzipping taggers/universal_tagset.zip.\n",
            "[nltk_data]    | Downloading package universal_treebanks_v20 to\n",
            "[nltk_data]    |     /root/nltk_data...\n",
            "[nltk_data]    | Downloading package vader_lexicon to\n",
            "[nltk_data]    |     /root/nltk_data...\n",
            "[nltk_data]    | Downloading package verbnet to /root/nltk_data...\n",
            "[nltk_data]    |   Unzipping corpora/verbnet.zip.\n",
            "[nltk_data]    | Downloading package verbnet3 to /root/nltk_data...\n",
            "[nltk_data]    |   Unzipping corpora/verbnet3.zip.\n",
            "[nltk_data]    | Downloading package webtext to /root/nltk_data...\n",
            "[nltk_data]    |   Unzipping corpora/webtext.zip.\n",
            "[nltk_data]    | Downloading package wmt15_eval to /root/nltk_data...\n",
            "[nltk_data]    |   Unzipping models/wmt15_eval.zip.\n",
            "[nltk_data]    | Downloading package word2vec_sample to\n",
            "[nltk_data]    |     /root/nltk_data...\n",
            "[nltk_data]    |   Unzipping models/word2vec_sample.zip.\n",
            "[nltk_data]    | Downloading package wordnet to /root/nltk_data...\n",
            "[nltk_data]    |   Unzipping corpora/wordnet.zip.\n",
            "[nltk_data]    | Downloading package wordnet2021 to /root/nltk_data...\n",
            "[nltk_data]    |   Unzipping corpora/wordnet2021.zip.\n",
            "[nltk_data]    | Downloading package wordnet31 to /root/nltk_data...\n",
            "[nltk_data]    |   Unzipping corpora/wordnet31.zip.\n",
            "[nltk_data]    | Downloading package wordnet_ic to /root/nltk_data...\n",
            "[nltk_data]    |   Unzipping corpora/wordnet_ic.zip.\n",
            "[nltk_data]    | Downloading package words to /root/nltk_data...\n",
            "[nltk_data]    |   Unzipping corpora/words.zip.\n",
            "[nltk_data]    | Downloading package ycoe to /root/nltk_data...\n",
            "[nltk_data]    |   Unzipping corpora/ycoe.zip.\n",
            "[nltk_data]    | \n",
            "[nltk_data]  Done downloading collection all\n"
          ]
        },
        {
          "output_type": "execute_result",
          "data": {
            "text/plain": [
              "True"
            ]
          },
          "metadata": {},
          "execution_count": 1
        }
      ],
      "source": [
        "import nltk\n",
        "nltk.download('all')"
      ]
    },
    {
      "cell_type": "code",
      "source": [
        "from nltk.corpus import stopwords\n",
        "from nltk.stem import PorterStemmer\n",
        "PS = PorterStemmer()\n",
        "from nltk.stem import WordNetLemmatizer\n",
        "WN = WordNetLemmatizer()"
      ],
      "metadata": {
        "id": "IxYB2Gf-3By2"
      },
      "execution_count": null,
      "outputs": []
    },
    {
      "cell_type": "code",
      "source": [
        "paragraph = \"\"\"In a statement, PPP Senator Mustafa Nawaz Khokhar said that the military spokesman’s press conference had exposed Mr Khan’s false claim and the narrative by categorically stating that the word “conspiracy” had not been mentioned in the statement issued by the NSC meeting and a demand of bases had also not been made by the US.\n",
        "\n",
        "“Imran Khan blatantly lied that opposition leaders had approached him though the COAS. Today, the DG ISPR has revealed that it was Imran Khan who had approached the army chief for help,” the PPP senator said.\n",
        "\n",
        "He said Mr Khan should publicly apologise for his lies and attempts to drag security institutions into political matters.\n",
        "\n",
        "Meanwhile, commenting on Mr Khan’s speech at the Peshawar public meeting on Wednesday, PPP Senator Raza Rabbani said the real conspiracy against Pakistan was the systematic dismantling of institutions functioning under the Constitution.\n",
        "\n",
        "He said the attack on the judicial organ of the state was unjustified and uncalled for in the circumstances. He said a situation had arisen where constitutional functionaries had been violating the Constitution and the working of the parliament had been paralysed.\n",
        "\n",
        "Mr Rabbani regretted that the parliament over the past three years had been made redundant as legislation used to be done through ordinances and the parliament was kept in the dark with reference to all major decisions and agreements.\n",
        "\n",
        "He said that media was also subject to harassment, intimidation, removal from assignments and worst press censorship and the security apparatus was being subjected to ridicule. \"\"\""
      ],
      "metadata": {
        "id": "L1jWebMi3TTo"
      },
      "execution_count": null,
      "outputs": []
    },
    {
      "cell_type": "code",
      "source": [
        "sentences = nltk.sent_tokenize(paragraph)"
      ],
      "metadata": {
        "id": "ePr0GS7o3WJw"
      },
      "execution_count": null,
      "outputs": []
    },
    {
      "cell_type": "code",
      "source": [
        "for i in range(len(sentences)):\n",
        "  print('{} - {}'.format(i+1,sentences[i]))"
      ],
      "metadata": {
        "colab": {
          "base_uri": "https://localhost:8080/"
        },
        "id": "454FOR-J3WMV",
        "outputId": "1de6a119-e2ba-4df9-ae7f-e6bebb606237"
      },
      "execution_count": null,
      "outputs": [
        {
          "output_type": "stream",
          "name": "stdout",
          "text": [
            "1 - In a statement, PPP Senator Mustafa Nawaz Khokhar said that the military spokesman’s press conference had exposed Mr Khan’s false claim and the narrative by categorically stating that the word “conspiracy” had not been mentioned in the statement issued by the NSC meeting and a demand of bases had also not been made by the US.\n",
            "2 - “Imran Khan blatantly lied that opposition leaders had approached him though the COAS.\n",
            "3 - Today, the DG ISPR has revealed that it was Imran Khan who had approached the army chief for help,” the PPP senator said.\n",
            "4 - He said Mr Khan should publicly apologise for his lies and attempts to drag security institutions into political matters.\n",
            "5 - Meanwhile, commenting on Mr Khan’s speech at the Peshawar public meeting on Wednesday, PPP Senator Raza Rabbani said the real conspiracy against Pakistan was the systematic dismantling of institutions functioning under the Constitution.\n",
            "6 - He said the attack on the judicial organ of the state was unjustified and uncalled for in the circumstances.\n",
            "7 - He said a situation had arisen where constitutional functionaries had been violating the Constitution and the working of the parliament had been paralysed.\n",
            "8 - Mr Rabbani regretted that the parliament over the past three years had been made redundant as legislation used to be done through ordinances and the parliament was kept in the dark with reference to all major decisions and agreements.\n",
            "9 - He said that media was also subject to harassment, intimidation, removal from assignments and worst press censorship and the security apparatus was being subjected to ridicule.\n"
          ]
        }
      ]
    },
    {
      "cell_type": "code",
      "source": [
        "sentences_PS = sentences.copy()\n",
        "for i in range(len(sentences_PS)):\n",
        "  words = nltk.word_tokenize(sentences_PS[i])\n",
        "  words = [j.lower() for j in words]\n",
        "  words = [PS.stem(j) for j in words if j not in set(stopwords.words('english'))]\n",
        "  sentences_PS[i] = ' '.join(words)"
      ],
      "metadata": {
        "id": "lAS0yN933WPG"
      },
      "execution_count": null,
      "outputs": []
    },
    {
      "cell_type": "code",
      "source": [
        "for i in range(len(sentences)):\n",
        "  print('\\033[92m{} - {}'.format(i+1,sentences[i]))\n",
        "print()\n",
        "for i in range(len(sentences_PS)):\n",
        "  print('\\033[94m{} - {}'.format(i+1,sentences_PS[i]))"
      ],
      "metadata": {
        "colab": {
          "base_uri": "https://localhost:8080/"
        },
        "id": "Fvndfr9f3WRY",
        "outputId": "a624e569-1199-4b94-8762-515ffedb65e2"
      },
      "execution_count": null,
      "outputs": [
        {
          "output_type": "stream",
          "name": "stdout",
          "text": [
            "\u001b[92m1 - In a statement, PPP Senator Mustafa Nawaz Khokhar said that the military spokesman’s press conference had exposed Mr Khan’s false claim and the narrative by categorically stating that the word “conspiracy” had not been mentioned in the statement issued by the NSC meeting and a demand of bases had also not been made by the US.\n",
            "\u001b[92m2 - “Imran Khan blatantly lied that opposition leaders had approached him though the COAS.\n",
            "\u001b[92m3 - Today, the DG ISPR has revealed that it was Imran Khan who had approached the army chief for help,” the PPP senator said.\n",
            "\u001b[92m4 - He said Mr Khan should publicly apologise for his lies and attempts to drag security institutions into political matters.\n",
            "\u001b[92m5 - Meanwhile, commenting on Mr Khan’s speech at the Peshawar public meeting on Wednesday, PPP Senator Raza Rabbani said the real conspiracy against Pakistan was the systematic dismantling of institutions functioning under the Constitution.\n",
            "\u001b[92m6 - He said the attack on the judicial organ of the state was unjustified and uncalled for in the circumstances.\n",
            "\u001b[92m7 - He said a situation had arisen where constitutional functionaries had been violating the Constitution and the working of the parliament had been paralysed.\n",
            "\u001b[92m8 - Mr Rabbani regretted that the parliament over the past three years had been made redundant as legislation used to be done through ordinances and the parliament was kept in the dark with reference to all major decisions and agreements.\n",
            "\u001b[92m9 - He said that media was also subject to harassment, intimidation, removal from assignments and worst press censorship and the security apparatus was being subjected to ridicule.\n",
            "\n",
            "\u001b[94m1 - statement , ppp senat mustafa nawaz khokhar said militari spokesman ’ press confer expos mr khan ’ fals claim narr categor state word “ conspiraci ” mention statement issu nsc meet demand base also made us .\n",
            "\u001b[94m2 - “ imran khan blatantli lie opposit leader approach though coa .\n",
            "\u001b[94m3 - today , dg ispr reveal imran khan approach armi chief help , ” ppp senat said .\n",
            "\u001b[94m4 - said mr khan publicli apologis lie attempt drag secur institut polit matter .\n",
            "\u001b[94m5 - meanwhil , comment mr khan ’ speech peshawar public meet wednesday , ppp senat raza rabbani said real conspiraci pakistan systemat dismantl institut function constitut .\n",
            "\u001b[94m6 - said attack judici organ state unjustifi uncal circumst .\n",
            "\u001b[94m7 - said situat arisen constitut functionari violat constitut work parliament paralys .\n",
            "\u001b[94m8 - mr rabbani regret parliament past three year made redund legisl use done ordin parliament kept dark refer major decis agreement .\n",
            "\u001b[94m9 - said media also subject harass , intimid , remov assign worst press censorship secur apparatu subject ridicul .\n"
          ]
        }
      ]
    },
    {
      "cell_type": "code",
      "source": [
        "sentences_WN = sentences.copy()\n",
        "for i in range(len(sentences_WN)):\n",
        "  words = nltk.word_tokenize(sentences_WN[i])\n",
        "  words = [j.lower() for j in words]\n",
        "  words = [WN.lemmatize(j) for j in words if j not in set(stopwords.words('english'))]\n",
        "  sentences_WN[i] = ' '.join(words)"
      ],
      "metadata": {
        "id": "LvhsyazE4H6U"
      },
      "execution_count": null,
      "outputs": []
    },
    {
      "cell_type": "code",
      "source": [
        "for i in range(len(sentences)):\n",
        "  print('\\033[92m{} - {}'.format(i+1,sentences[i]))\n",
        "print()\n",
        "for i in range(len(sentences_PS)):\n",
        "  print('\\033[94m{} - {}'.format(i+1,sentences_PS[i]))\n",
        "print()\n",
        "for i in range(len(sentences_WN)):\n",
        "  print('\\033[95m{} - {}'.format(i+1,sentences_WN[i]))"
      ],
      "metadata": {
        "colab": {
          "base_uri": "https://localhost:8080/"
        },
        "id": "jKS7S-Ho3WUC",
        "outputId": "2ffde58f-ec0b-47fa-ce7a-ffbe3f9e0815"
      },
      "execution_count": null,
      "outputs": [
        {
          "output_type": "stream",
          "name": "stdout",
          "text": [
            "\u001b[92m1 - In a statement, PPP Senator Mustafa Nawaz Khokhar said that the military spokesman’s press conference had exposed Mr Khan’s false claim and the narrative by categorically stating that the word “conspiracy” had not been mentioned in the statement issued by the NSC meeting and a demand of bases had also not been made by the US.\n",
            "\u001b[92m2 - “Imran Khan blatantly lied that opposition leaders had approached him though the COAS.\n",
            "\u001b[92m3 - Today, the DG ISPR has revealed that it was Imran Khan who had approached the army chief for help,” the PPP senator said.\n",
            "\u001b[92m4 - He said Mr Khan should publicly apologise for his lies and attempts to drag security institutions into political matters.\n",
            "\u001b[92m5 - Meanwhile, commenting on Mr Khan’s speech at the Peshawar public meeting on Wednesday, PPP Senator Raza Rabbani said the real conspiracy against Pakistan was the systematic dismantling of institutions functioning under the Constitution.\n",
            "\u001b[92m6 - He said the attack on the judicial organ of the state was unjustified and uncalled for in the circumstances.\n",
            "\u001b[92m7 - He said a situation had arisen where constitutional functionaries had been violating the Constitution and the working of the parliament had been paralysed.\n",
            "\u001b[92m8 - Mr Rabbani regretted that the parliament over the past three years had been made redundant as legislation used to be done through ordinances and the parliament was kept in the dark with reference to all major decisions and agreements.\n",
            "\u001b[92m9 - He said that media was also subject to harassment, intimidation, removal from assignments and worst press censorship and the security apparatus was being subjected to ridicule.\n",
            "\n",
            "\u001b[94m1 - statement , ppp senat mustafa nawaz khokhar said militari spokesman ’ press confer expos mr khan ’ fals claim narr categor state word “ conspiraci ” mention statement issu nsc meet demand base also made us .\n",
            "\u001b[94m2 - “ imran khan blatantli lie opposit leader approach though coa .\n",
            "\u001b[94m3 - today , dg ispr reveal imran khan approach armi chief help , ” ppp senat said .\n",
            "\u001b[94m4 - said mr khan publicli apologis lie attempt drag secur institut polit matter .\n",
            "\u001b[94m5 - meanwhil , comment mr khan ’ speech peshawar public meet wednesday , ppp senat raza rabbani said real conspiraci pakistan systemat dismantl institut function constitut .\n",
            "\u001b[94m6 - said attack judici organ state unjustifi uncal circumst .\n",
            "\u001b[94m7 - said situat arisen constitut functionari violat constitut work parliament paralys .\n",
            "\u001b[94m8 - mr rabbani regret parliament past three year made redund legisl use done ordin parliament kept dark refer major decis agreement .\n",
            "\u001b[94m9 - said media also subject harass , intimid , remov assign worst press censorship secur apparatu subject ridicul .\n",
            "\n",
            "\u001b[95m1 - statement , ppp senator mustafa nawaz khokhar said military spokesman ’ press conference exposed mr khan ’ false claim narrative categorically stating word “ conspiracy ” mentioned statement issued nsc meeting demand base also made u .\n",
            "\u001b[95m2 - “ imran khan blatantly lied opposition leader approached though coas .\n",
            "\u001b[95m3 - today , dg ispr revealed imran khan approached army chief help , ” ppp senator said .\n",
            "\u001b[95m4 - said mr khan publicly apologise lie attempt drag security institution political matter .\n",
            "\u001b[95m5 - meanwhile , commenting mr khan ’ speech peshawar public meeting wednesday , ppp senator raza rabbani said real conspiracy pakistan systematic dismantling institution functioning constitution .\n",
            "\u001b[95m6 - said attack judicial organ state unjustified uncalled circumstance .\n",
            "\u001b[95m7 - said situation arisen constitutional functionary violating constitution working parliament paralysed .\n",
            "\u001b[95m8 - mr rabbani regretted parliament past three year made redundant legislation used done ordinance parliament kept dark reference major decision agreement .\n",
            "\u001b[95m9 - said medium also subject harassment , intimidation , removal assignment worst press censorship security apparatus subjected ridicule .\n"
          ]
        }
      ]
    },
    {
      "cell_type": "markdown",
      "source": [
        "**BOW**"
      ],
      "metadata": {
        "id": "eZ5pOOJ84ogi"
      }
    },
    {
      "cell_type": "code",
      "source": [
        "import re\n",
        "sentences_BOW = sentences.copy()\n",
        "corpus_PS = []\n",
        "corpus_WN = []\n",
        "for i in range(len(sentences_BOW)):\n",
        "  #review = nltk.word_tokenize(sentences_BOW[i])\n",
        "  review = re.sub('[^a-zA-Z]', ' ',sentences_BOW[i])\n",
        "  review = review.lower()\n",
        "  review = review.split()\n",
        "\n",
        "  review_PS = [PS.stem(j) for j in review if j not in set(stopwords.words('english'))]\n",
        "  review_PS = ' '.join(review_PS)\n",
        "  corpus_PS.append(review_PS)\n",
        "\n",
        "  review_WN = [WN.lemmatize(j) for j in review if j not in set(stopwords.words('english'))]\n",
        "  review_WN = ' '.join(review_WN)\n",
        "  corpus_WN.append(review_WN)"
      ],
      "metadata": {
        "id": "Dk-tkLy24l0p"
      },
      "execution_count": null,
      "outputs": []
    },
    {
      "cell_type": "code",
      "source": [
        "for i in range(len(sentences_BOW)):\n",
        "  print('\\033[92m{} - {}'.format(i+1,sentences_BOW[i]))\n",
        "print()\n",
        "for i in range(len(corpus_PS)):\n",
        "  print('\\033[94m{} - {}'.format(i+1,corpus_PS[i]))\n",
        "print()\n",
        "for i in range(len(corpus_WN)):\n",
        "  print('\\033[95m{} - {}'.format(i+1,corpus_WN[i]))\n"
      ],
      "metadata": {
        "colab": {
          "base_uri": "https://localhost:8080/"
        },
        "id": "aM9z_8hb4l3B",
        "outputId": "0c0dfba3-a925-4a6c-b678-6b09f454816b"
      },
      "execution_count": null,
      "outputs": [
        {
          "output_type": "stream",
          "name": "stdout",
          "text": [
            "\u001b[92m1 - In a statement, PPP Senator Mustafa Nawaz Khokhar said that the military spokesman’s press conference had exposed Mr Khan’s false claim and the narrative by categorically stating that the word “conspiracy” had not been mentioned in the statement issued by the NSC meeting and a demand of bases had also not been made by the US.\n",
            "\u001b[92m2 - “Imran Khan blatantly lied that opposition leaders had approached him though the COAS.\n",
            "\u001b[92m3 - Today, the DG ISPR has revealed that it was Imran Khan who had approached the army chief for help,” the PPP senator said.\n",
            "\u001b[92m4 - He said Mr Khan should publicly apologise for his lies and attempts to drag security institutions into political matters.\n",
            "\u001b[92m5 - Meanwhile, commenting on Mr Khan’s speech at the Peshawar public meeting on Wednesday, PPP Senator Raza Rabbani said the real conspiracy against Pakistan was the systematic dismantling of institutions functioning under the Constitution.\n",
            "\u001b[92m6 - He said the attack on the judicial organ of the state was unjustified and uncalled for in the circumstances.\n",
            "\u001b[92m7 - He said a situation had arisen where constitutional functionaries had been violating the Constitution and the working of the parliament had been paralysed.\n",
            "\u001b[92m8 - Mr Rabbani regretted that the parliament over the past three years had been made redundant as legislation used to be done through ordinances and the parliament was kept in the dark with reference to all major decisions and agreements.\n",
            "\u001b[92m9 - He said that media was also subject to harassment, intimidation, removal from assignments and worst press censorship and the security apparatus was being subjected to ridicule.\n",
            "\n",
            "\u001b[94m1 - statement ppp senat mustafa nawaz khokhar said militari spokesman press confer expos mr khan fals claim narr categor state word conspiraci mention statement issu nsc meet demand base also made us\n",
            "\u001b[94m2 - imran khan blatantli lie opposit leader approach though coa\n",
            "\u001b[94m3 - today dg ispr reveal imran khan approach armi chief help ppp senat said\n",
            "\u001b[94m4 - said mr khan publicli apologis lie attempt drag secur institut polit matter\n",
            "\u001b[94m5 - meanwhil comment mr khan speech peshawar public meet wednesday ppp senat raza rabbani said real conspiraci pakistan systemat dismantl institut function constitut\n",
            "\u001b[94m6 - said attack judici organ state unjustifi uncal circumst\n",
            "\u001b[94m7 - said situat arisen constitut functionari violat constitut work parliament paralys\n",
            "\u001b[94m8 - mr rabbani regret parliament past three year made redund legisl use done ordin parliament kept dark refer major decis agreement\n",
            "\u001b[94m9 - said media also subject harass intimid remov assign worst press censorship secur apparatu subject ridicul\n",
            "\n",
            "\u001b[95m1 - statement ppp senator mustafa nawaz khokhar said military spokesman press conference exposed mr khan false claim narrative categorically stating word conspiracy mentioned statement issued nsc meeting demand base also made u\n",
            "\u001b[95m2 - imran khan blatantly lied opposition leader approached though coas\n",
            "\u001b[95m3 - today dg ispr revealed imran khan approached army chief help ppp senator said\n",
            "\u001b[95m4 - said mr khan publicly apologise lie attempt drag security institution political matter\n",
            "\u001b[95m5 - meanwhile commenting mr khan speech peshawar public meeting wednesday ppp senator raza rabbani said real conspiracy pakistan systematic dismantling institution functioning constitution\n",
            "\u001b[95m6 - said attack judicial organ state unjustified uncalled circumstance\n",
            "\u001b[95m7 - said situation arisen constitutional functionary violating constitution working parliament paralysed\n",
            "\u001b[95m8 - mr rabbani regretted parliament past three year made redundant legislation used done ordinance parliament kept dark reference major decision agreement\n",
            "\u001b[95m9 - said medium also subject harassment intimidation removal assignment worst press censorship security apparatus subjected ridicule\n"
          ]
        }
      ]
    },
    {
      "cell_type": "code",
      "source": [
        "#bow model\n",
        "from sklearn.feature_extraction.text import CountVectorizer\n",
        "CV1 = CountVectorizer()\n",
        "X_BOW = CV1.fit_transform(corpus_WN).toarray()\n",
        "CV1.get_feature_names_out()"
      ],
      "metadata": {
        "colab": {
          "base_uri": "https://localhost:8080/"
        },
        "id": "zDdFDAMI4l5a",
        "outputId": "e4068359-f77c-4af3-ca17-c3699b5ab521"
      },
      "execution_count": null,
      "outputs": [
        {
          "output_type": "execute_result",
          "data": {
            "text/plain": [
              "array(['agreement', 'also', 'apologise', 'apparatus', 'approached',\n",
              "       'arisen', 'army', 'assignment', 'attack', 'attempt', 'base',\n",
              "       'blatantly', 'categorically', 'censorship', 'chief',\n",
              "       'circumstance', 'claim', 'coas', 'commenting', 'conference',\n",
              "       'conspiracy', 'constitution', 'constitutional', 'dark', 'decision',\n",
              "       'demand', 'dg', 'dismantling', 'done', 'drag', 'exposed', 'false',\n",
              "       'functionary', 'functioning', 'harassment', 'help', 'imran',\n",
              "       'institution', 'intimidation', 'ispr', 'issued', 'judicial',\n",
              "       'kept', 'khan', 'khokhar', 'leader', 'legislation', 'lie', 'lied',\n",
              "       'made', 'major', 'matter', 'meanwhile', 'medium', 'meeting',\n",
              "       'mentioned', 'military', 'mr', 'mustafa', 'narrative', 'nawaz',\n",
              "       'nsc', 'opposition', 'ordinance', 'organ', 'pakistan', 'paralysed',\n",
              "       'parliament', 'past', 'peshawar', 'political', 'ppp', 'press',\n",
              "       'public', 'publicly', 'rabbani', 'raza', 'real', 'redundant',\n",
              "       'reference', 'regretted', 'removal', 'revealed', 'ridicule',\n",
              "       'said', 'security', 'senator', 'situation', 'speech', 'spokesman',\n",
              "       'state', 'statement', 'stating', 'subject', 'subjected',\n",
              "       'systematic', 'though', 'three', 'today', 'uncalled',\n",
              "       'unjustified', 'used', 'violating', 'wednesday', 'word', 'working',\n",
              "       'worst', 'year'], dtype=object)"
            ]
          },
          "metadata": {},
          "execution_count": 12
        }
      ]
    },
    {
      "cell_type": "code",
      "source": [
        "len(CV1.get_feature_names_out())"
      ],
      "metadata": {
        "colab": {
          "base_uri": "https://localhost:8080/"
        },
        "id": "z7sgcnLL4l8U",
        "outputId": "71a0ab1c-04d1-4ae3-d62f-dcf122fd8478"
      },
      "execution_count": null,
      "outputs": [
        {
          "output_type": "execute_result",
          "data": {
            "text/plain": [
              "108"
            ]
          },
          "metadata": {},
          "execution_count": 13
        }
      ]
    },
    {
      "cell_type": "code",
      "source": [
        "# tfidf\n",
        "from sklearn.feature_extraction.text import TfidfVectorizer\n",
        "CV2 = TfidfVectorizer()\n",
        "X_tf = CV2.fit_transform(corpus_WN).toarray()\n",
        "CV2.get_feature_names_out()"
      ],
      "metadata": {
        "colab": {
          "base_uri": "https://localhost:8080/"
        },
        "id": "p4YSBpTF4l-e",
        "outputId": "e33080de-03be-41aa-f118-f85eab832011"
      },
      "execution_count": null,
      "outputs": [
        {
          "output_type": "execute_result",
          "data": {
            "text/plain": [
              "array(['agreement', 'also', 'apologise', 'apparatus', 'approached',\n",
              "       'arisen', 'army', 'assignment', 'attack', 'attempt', 'base',\n",
              "       'blatantly', 'categorically', 'censorship', 'chief',\n",
              "       'circumstance', 'claim', 'coas', 'commenting', 'conference',\n",
              "       'conspiracy', 'constitution', 'constitutional', 'dark', 'decision',\n",
              "       'demand', 'dg', 'dismantling', 'done', 'drag', 'exposed', 'false',\n",
              "       'functionary', 'functioning', 'harassment', 'help', 'imran',\n",
              "       'institution', 'intimidation', 'ispr', 'issued', 'judicial',\n",
              "       'kept', 'khan', 'khokhar', 'leader', 'legislation', 'lie', 'lied',\n",
              "       'made', 'major', 'matter', 'meanwhile', 'medium', 'meeting',\n",
              "       'mentioned', 'military', 'mr', 'mustafa', 'narrative', 'nawaz',\n",
              "       'nsc', 'opposition', 'ordinance', 'organ', 'pakistan', 'paralysed',\n",
              "       'parliament', 'past', 'peshawar', 'political', 'ppp', 'press',\n",
              "       'public', 'publicly', 'rabbani', 'raza', 'real', 'redundant',\n",
              "       'reference', 'regretted', 'removal', 'revealed', 'ridicule',\n",
              "       'said', 'security', 'senator', 'situation', 'speech', 'spokesman',\n",
              "       'state', 'statement', 'stating', 'subject', 'subjected',\n",
              "       'systematic', 'though', 'three', 'today', 'uncalled',\n",
              "       'unjustified', 'used', 'violating', 'wednesday', 'word', 'working',\n",
              "       'worst', 'year'], dtype=object)"
            ]
          },
          "metadata": {},
          "execution_count": 14
        }
      ]
    },
    {
      "cell_type": "code",
      "source": [
        "len(CV2.get_feature_names_out())"
      ],
      "metadata": {
        "colab": {
          "base_uri": "https://localhost:8080/"
        },
        "id": "CRMagvTX4mBF",
        "outputId": "22d5b661-1249-471c-a966-7ecf80d02cca"
      },
      "execution_count": null,
      "outputs": [
        {
          "output_type": "execute_result",
          "data": {
            "text/plain": [
              "108"
            ]
          },
          "metadata": {},
          "execution_count": 15
        }
      ]
    },
    {
      "cell_type": "markdown",
      "source": [
        "**Spam Detection**"
      ],
      "metadata": {
        "id": "n9MFkTAJD3zH"
      }
    },
    {
      "cell_type": "code",
      "source": [
        "import pandas as pd\n",
        "messages = pd.read_csv('/content/SMSSpamCollection',\n",
        "                       sep='\\t',\n",
        "                       names = ['label','message'])"
      ],
      "metadata": {
        "id": "4xTzBXiYD0jt"
      },
      "execution_count": null,
      "outputs": []
    },
    {
      "cell_type": "code",
      "source": [
        "pd.DataFrame(messages)"
      ],
      "metadata": {
        "colab": {
          "base_uri": "https://localhost:8080/",
          "height": 424
        },
        "id": "oBOE9hr0D0ma",
        "outputId": "2e2b8079-9573-4f81-dceb-b47378110206"
      },
      "execution_count": null,
      "outputs": [
        {
          "output_type": "execute_result",
          "data": {
            "text/plain": [
              "     label                                            message\n",
              "0      ham  Go until jurong point, crazy.. Available only ...\n",
              "1      ham                      Ok lar... Joking wif u oni...\n",
              "2     spam  Free entry in 2 a wkly comp to win FA Cup fina...\n",
              "3      ham  U dun say so early hor... U c already then say...\n",
              "4      ham  Nah I don't think he goes to usf, he lives aro...\n",
              "...    ...                                                ...\n",
              "5567  spam  This is the 2nd time we have tried 2 contact u...\n",
              "5568   ham               Will ü b going to esplanade fr home?\n",
              "5569   ham  Pity, * was in mood for that. So...any other s...\n",
              "5570   ham  The guy did some bitching but I acted like i'd...\n",
              "5571   ham                         Rofl. Its true to its name\n",
              "\n",
              "[5572 rows x 2 columns]"
            ],
            "text/html": [
              "\n",
              "  <div id=\"df-44d73773-9525-4a1d-9206-64e464888b23\">\n",
              "    <div class=\"colab-df-container\">\n",
              "      <div>\n",
              "<style scoped>\n",
              "    .dataframe tbody tr th:only-of-type {\n",
              "        vertical-align: middle;\n",
              "    }\n",
              "\n",
              "    .dataframe tbody tr th {\n",
              "        vertical-align: top;\n",
              "    }\n",
              "\n",
              "    .dataframe thead th {\n",
              "        text-align: right;\n",
              "    }\n",
              "</style>\n",
              "<table border=\"1\" class=\"dataframe\">\n",
              "  <thead>\n",
              "    <tr style=\"text-align: right;\">\n",
              "      <th></th>\n",
              "      <th>label</th>\n",
              "      <th>message</th>\n",
              "    </tr>\n",
              "  </thead>\n",
              "  <tbody>\n",
              "    <tr>\n",
              "      <th>0</th>\n",
              "      <td>ham</td>\n",
              "      <td>Go until jurong point, crazy.. Available only ...</td>\n",
              "    </tr>\n",
              "    <tr>\n",
              "      <th>1</th>\n",
              "      <td>ham</td>\n",
              "      <td>Ok lar... Joking wif u oni...</td>\n",
              "    </tr>\n",
              "    <tr>\n",
              "      <th>2</th>\n",
              "      <td>spam</td>\n",
              "      <td>Free entry in 2 a wkly comp to win FA Cup fina...</td>\n",
              "    </tr>\n",
              "    <tr>\n",
              "      <th>3</th>\n",
              "      <td>ham</td>\n",
              "      <td>U dun say so early hor... U c already then say...</td>\n",
              "    </tr>\n",
              "    <tr>\n",
              "      <th>4</th>\n",
              "      <td>ham</td>\n",
              "      <td>Nah I don't think he goes to usf, he lives aro...</td>\n",
              "    </tr>\n",
              "    <tr>\n",
              "      <th>...</th>\n",
              "      <td>...</td>\n",
              "      <td>...</td>\n",
              "    </tr>\n",
              "    <tr>\n",
              "      <th>5567</th>\n",
              "      <td>spam</td>\n",
              "      <td>This is the 2nd time we have tried 2 contact u...</td>\n",
              "    </tr>\n",
              "    <tr>\n",
              "      <th>5568</th>\n",
              "      <td>ham</td>\n",
              "      <td>Will ü b going to esplanade fr home?</td>\n",
              "    </tr>\n",
              "    <tr>\n",
              "      <th>5569</th>\n",
              "      <td>ham</td>\n",
              "      <td>Pity, * was in mood for that. So...any other s...</td>\n",
              "    </tr>\n",
              "    <tr>\n",
              "      <th>5570</th>\n",
              "      <td>ham</td>\n",
              "      <td>The guy did some bitching but I acted like i'd...</td>\n",
              "    </tr>\n",
              "    <tr>\n",
              "      <th>5571</th>\n",
              "      <td>ham</td>\n",
              "      <td>Rofl. Its true to its name</td>\n",
              "    </tr>\n",
              "  </tbody>\n",
              "</table>\n",
              "<p>5572 rows × 2 columns</p>\n",
              "</div>\n",
              "      <button class=\"colab-df-convert\" onclick=\"convertToInteractive('df-44d73773-9525-4a1d-9206-64e464888b23')\"\n",
              "              title=\"Convert this dataframe to an interactive table.\"\n",
              "              style=\"display:none;\">\n",
              "        \n",
              "  <svg xmlns=\"http://www.w3.org/2000/svg\" height=\"24px\"viewBox=\"0 0 24 24\"\n",
              "       width=\"24px\">\n",
              "    <path d=\"M0 0h24v24H0V0z\" fill=\"none\"/>\n",
              "    <path d=\"M18.56 5.44l.94 2.06.94-2.06 2.06-.94-2.06-.94-.94-2.06-.94 2.06-2.06.94zm-11 1L8.5 8.5l.94-2.06 2.06-.94-2.06-.94L8.5 2.5l-.94 2.06-2.06.94zm10 10l.94 2.06.94-2.06 2.06-.94-2.06-.94-.94-2.06-.94 2.06-2.06.94z\"/><path d=\"M17.41 7.96l-1.37-1.37c-.4-.4-.92-.59-1.43-.59-.52 0-1.04.2-1.43.59L10.3 9.45l-7.72 7.72c-.78.78-.78 2.05 0 2.83L4 21.41c.39.39.9.59 1.41.59.51 0 1.02-.2 1.41-.59l7.78-7.78 2.81-2.81c.8-.78.8-2.07 0-2.86zM5.41 20L4 18.59l7.72-7.72 1.47 1.35L5.41 20z\"/>\n",
              "  </svg>\n",
              "      </button>\n",
              "      \n",
              "  <style>\n",
              "    .colab-df-container {\n",
              "      display:flex;\n",
              "      flex-wrap:wrap;\n",
              "      gap: 12px;\n",
              "    }\n",
              "\n",
              "    .colab-df-convert {\n",
              "      background-color: #E8F0FE;\n",
              "      border: none;\n",
              "      border-radius: 50%;\n",
              "      cursor: pointer;\n",
              "      display: none;\n",
              "      fill: #1967D2;\n",
              "      height: 32px;\n",
              "      padding: 0 0 0 0;\n",
              "      width: 32px;\n",
              "    }\n",
              "\n",
              "    .colab-df-convert:hover {\n",
              "      background-color: #E2EBFA;\n",
              "      box-shadow: 0px 1px 2px rgba(60, 64, 67, 0.3), 0px 1px 3px 1px rgba(60, 64, 67, 0.15);\n",
              "      fill: #174EA6;\n",
              "    }\n",
              "\n",
              "    [theme=dark] .colab-df-convert {\n",
              "      background-color: #3B4455;\n",
              "      fill: #D2E3FC;\n",
              "    }\n",
              "\n",
              "    [theme=dark] .colab-df-convert:hover {\n",
              "      background-color: #434B5C;\n",
              "      box-shadow: 0px 1px 3px 1px rgba(0, 0, 0, 0.15);\n",
              "      filter: drop-shadow(0px 1px 2px rgba(0, 0, 0, 0.3));\n",
              "      fill: #FFFFFF;\n",
              "    }\n",
              "  </style>\n",
              "\n",
              "      <script>\n",
              "        const buttonEl =\n",
              "          document.querySelector('#df-44d73773-9525-4a1d-9206-64e464888b23 button.colab-df-convert');\n",
              "        buttonEl.style.display =\n",
              "          google.colab.kernel.accessAllowed ? 'block' : 'none';\n",
              "\n",
              "        async function convertToInteractive(key) {\n",
              "          const element = document.querySelector('#df-44d73773-9525-4a1d-9206-64e464888b23');\n",
              "          const dataTable =\n",
              "            await google.colab.kernel.invokeFunction('convertToInteractive',\n",
              "                                                     [key], {});\n",
              "          if (!dataTable) return;\n",
              "\n",
              "          const docLinkHtml = 'Like what you see? Visit the ' +\n",
              "            '<a target=\"_blank\" href=https://colab.research.google.com/notebooks/data_table.ipynb>data table notebook</a>'\n",
              "            + ' to learn more about interactive tables.';\n",
              "          element.innerHTML = '';\n",
              "          dataTable['output_type'] = 'display_data';\n",
              "          await google.colab.output.renderOutput(dataTable, element);\n",
              "          const docLink = document.createElement('div');\n",
              "          docLink.innerHTML = docLinkHtml;\n",
              "          element.appendChild(docLink);\n",
              "        }\n",
              "      </script>\n",
              "    </div>\n",
              "  </div>\n",
              "  "
            ]
          },
          "metadata": {},
          "execution_count": 17
        }
      ]
    },
    {
      "cell_type": "code",
      "source": [
        "corpus_PS_SMS = []\n",
        "corpus_WN_SMS = []\n",
        "for i in range(len(messages)):\n",
        "  review_SMS = re.sub('[^a-zA-Z]',' ',messages[\"message\"][i])\n",
        "  review_SMS = review_SMS.lower()\n",
        "  review_SMS = review_SMS.split()\n",
        "\n",
        "  review_SMS_PS = [PS.stem(j) for j in review_SMS if j not in set(stopwords.words('english'))]\n",
        "  review_SMS_PS = ' '.join(review_SMS_PS)\n",
        "  corpus_PS_SMS.append(review_SMS_PS)\n",
        "\n",
        "  review_SMS_WN = [WN.lemmatize(j) for j in review_SMS if j not in set(stopwords.words('english'))]\n",
        "  review_SMS_WN = ' '.join(review_SMS_WN)\n",
        "  corpus_WN_SMS.append(review_SMS_WN)\n",
        "  "
      ],
      "metadata": {
        "id": "lvqLUE9ZD0pF"
      },
      "execution_count": null,
      "outputs": []
    },
    {
      "cell_type": "code",
      "source": [
        "for i in range(0,5000,1000):\n",
        "  print('\\033[92m{} - {}'.format(i+1,messages['message'][i]))\n",
        "  print('\\033[94m-{} - {}'.format(i+1,corpus_PS_SMS[i]))\n",
        "  print('\\033[95m--{} - {}'.format(i+1,corpus_WN_SMS[i]))\n",
        "  print()"
      ],
      "metadata": {
        "colab": {
          "base_uri": "https://localhost:8080/"
        },
        "id": "xod0VwipD0rl",
        "outputId": "cc908b6a-ee35-41c2-8423-fcfeae21122a"
      },
      "execution_count": null,
      "outputs": [
        {
          "output_type": "stream",
          "name": "stdout",
          "text": [
            "\u001b[92m1 - Go until jurong point, crazy.. Available only in bugis n great world la e buffet... Cine there got amore wat...\n",
            "\u001b[94m-1 - go jurong point crazi avail bugi n great world la e buffet cine got amor wat\n",
            "\u001b[95m--1 - go jurong point crazy available bugis n great world la e buffet cine got amore wat\n",
            "\n",
            "\u001b[92m1001 - Aight will do, thanks again for comin out\n",
            "\u001b[94m-1001 - aight thank comin\n",
            "\u001b[95m--1001 - aight thanks comin\n",
            "\n",
            "\u001b[92m2001 - LMAO where's your fish memory when I need it?\n",
            "\u001b[94m-2001 - lmao fish memori need\n",
            "\u001b[95m--2001 - lmao fish memory need\n",
            "\n",
            "\u001b[92m3001 - Oh, then your phone phoned me but it disconnected\n",
            "\u001b[94m-3001 - oh phone phone disconnect\n",
            "\u001b[95m--3001 - oh phone phoned disconnected\n",
            "\n",
            "\u001b[92m4001 - K...k...when will you give treat?\n",
            "\u001b[94m-4001 - k k give treat\n",
            "\u001b[95m--4001 - k k give treat\n",
            "\n"
          ]
        }
      ]
    },
    {
      "cell_type": "code",
      "source": [
        "# BOW\n",
        "CV3 = CountVectorizer(max_features = 2500)\n",
        "X_PS_BOW = CV3.fit_transform(corpus_PS_SMS).toarray()\n",
        "X_WN_BOW = CV3.fit_transform(corpus_WN_SMS).toarray()\n"
      ],
      "metadata": {
        "id": "48IT4-cpHgcT"
      },
      "execution_count": null,
      "outputs": []
    },
    {
      "cell_type": "code",
      "source": [
        "y=pd.get_dummies(messages['label'])\n",
        "y=y.iloc[:,-1].values\n",
        "print('{} {}'.format(len(y),y))"
      ],
      "metadata": {
        "colab": {
          "base_uri": "https://localhost:8080/"
        },
        "id": "p6WHATOGIRyz",
        "outputId": "d65ee6ee-75cf-4b4a-b20e-26df171f016d"
      },
      "execution_count": null,
      "outputs": [
        {
          "output_type": "stream",
          "name": "stdout",
          "text": [
            "5572 [0 0 1 ... 0 0 0]\n"
          ]
        }
      ]
    },
    {
      "cell_type": "code",
      "source": [
        "from sklearn.model_selection import train_test_split\n",
        "X_train_PS, X_test_PS, y_train_PS, y_test_PS = train_test_split(X_PS_BOW, y,test_size = 0.2, random_state = 0)\n",
        "X_train_WN, X_test_WN, y_train_WN, y_test_WN = train_test_split(X_WN_BOW, y,test_size = 0.2, random_state = 0)"
      ],
      "metadata": {
        "id": "2-TMDm8iIhaz"
      },
      "execution_count": null,
      "outputs": []
    },
    {
      "cell_type": "code",
      "source": [
        "from sklearn.naive_bayes import MultinomialNB\n",
        "spam_detected_model_PS_BOW = MultinomialNB().fit(X_train_PS,y_train_PS)\n",
        "spam_detected_model_WN_BOW = MultinomialNB().fit(X_train_WN,y_train_WN)"
      ],
      "metadata": {
        "id": "e9AAYz-_I7do"
      },
      "execution_count": null,
      "outputs": []
    },
    {
      "cell_type": "code",
      "source": [
        "y_pred_PS_BOW = spam_detected_model_PS_BOW.predict(X_test_PS)\n",
        "y_pred_WN_BOW = spam_detected_model_WN_BOW.predict(X_test_WN)"
      ],
      "metadata": {
        "id": "eg4_4drXJK9g"
      },
      "execution_count": null,
      "outputs": []
    },
    {
      "cell_type": "code",
      "source": [
        "from sklearn.metrics import confusion_matrix\n",
        "confusion_matrix_PS_BOW = confusion_matrix(y_test_PS,y_pred_PS_BOW)\n",
        "confusion_matrix_WN_BOW = confusion_matrix(y_test_WN,y_pred_WN_BOW)"
      ],
      "metadata": {
        "id": "wdXTkswoJYIH"
      },
      "execution_count": null,
      "outputs": []
    },
    {
      "cell_type": "code",
      "source": [
        "print('CM BOW PS: {}'.format(confusion_matrix_PS_BOW))\n",
        "print('CM BOW WN: {}'.format(confusion_matrix_WN_BOW))"
      ],
      "metadata": {
        "colab": {
          "base_uri": "https://localhost:8080/"
        },
        "id": "xTIz-k2BJvWu",
        "outputId": "8c7ae157-d83a-4ecb-b3d3-1ca3855a174f"
      },
      "execution_count": null,
      "outputs": [
        {
          "output_type": "stream",
          "name": "stdout",
          "text": [
            "CM BOW PS: [[946   9]\n",
            " [  7 153]]\n",
            "CM BOW WN: [[946   9]\n",
            " [ 10 150]]\n"
          ]
        }
      ]
    },
    {
      "cell_type": "code",
      "source": [
        "from sklearn.metrics import accuracy_score\n",
        "accuracy_PS_BOW = accuracy_score(y_test_PS,y_pred_PS_BOW)\n",
        "accuracy_WN_BOW = accuracy_score(y_test_WN,y_pred_WN_BOW)\n",
        "print('Accuracy BOW PS: {}'.format(accuracy_PS_BOW))\n",
        "print('Accuracy BOW WN: {}'.format(accuracy_WN_BOW))"
      ],
      "metadata": {
        "colab": {
          "base_uri": "https://localhost:8080/"
        },
        "id": "50uWVzVlJkPb",
        "outputId": "83dd34db-05fb-494f-aa59-76ae6b3fc7b1"
      },
      "execution_count": null,
      "outputs": [
        {
          "output_type": "stream",
          "name": "stdout",
          "text": [
            "Accuracy BOW PS: 0.9856502242152466\n",
            "Accuracy BOW WN: 0.9829596412556054\n"
          ]
        }
      ]
    },
    {
      "cell_type": "code",
      "source": [
        "# tfidf\n",
        "CV4 = TfidfVectorizer(max_features = 2500)\n",
        "X_PS_TFIDF = CV4.fit_transform(corpus_PS_SMS).toarray()\n",
        "X_WN_TFIDF = CV4.fit_transform(corpus_WN_SMS).toarray()\n",
        "X_train_PS_t, X_test_PS_t, y_train_PS_t, y_test_PS_t = train_test_split(X_PS_TFIDF, y,test_size = 0.2, random_state = 0)\n",
        "X_train_WN_t, X_test_WN_t, y_train_WN_t, y_test_WN_t = train_test_split(X_WN_TFIDF, y,test_size = 0.2, random_state = 0)\n",
        "spam_detected_model_PS_TFIDF = MultinomialNB().fit(X_train_PS_t,y_train_PS_t)\n",
        "spam_detected_model_WN_TFIDF = MultinomialNB().fit(X_train_WN_t,y_train_WN_t)\n",
        "y_pred_PS_TFIDF = spam_detected_model_PS_TFIDF.predict(X_test_PS_t)\n",
        "y_pred_WN_TFIDF = spam_detected_model_WN_TFIDF.predict(X_test_WN_t)\n",
        "confusion_matrix_PS_TFIDF = confusion_matrix(y_test_PS_t,y_pred_PS_TFIDF)\n",
        "confusion_matrix_WN_TFIDF = confusion_matrix(y_test_WN_t,y_pred_WN_TFIDF)\n",
        "print('CM TFIDF PS: {}'.format(confusion_matrix_PS_TFIDF))\n",
        "print('CM TFIDF WN: {}'.format(confusion_matrix_WN_TFIDF))\n",
        "accuracy_PS_TFIDF = accuracy_score(y_test_PS_t,y_pred_PS_TFIDF)\n",
        "accuracy_WN_TFIDF = accuracy_score(y_test_WN_t,y_pred_WN_TFIDF)\n",
        "print('Accuracy TFIDF PS: {}'.format(accuracy_PS_TFIDF))\n",
        "print('Accuracy TFIDF WN: {}'.format(accuracy_WN_TFIDF))"
      ],
      "metadata": {
        "colab": {
          "base_uri": "https://localhost:8080/"
        },
        "id": "nFyhvddZKFI3",
        "outputId": "ba8b35fa-dcf9-4c6f-93e0-5109d92f16b2"
      },
      "execution_count": null,
      "outputs": [
        {
          "output_type": "stream",
          "name": "stdout",
          "text": [
            "CM TFIDF PS: [[955   0]\n",
            " [ 23 137]]\n",
            "CM TFIDF WN: [[954   1]\n",
            " [ 22 138]]\n",
            "Accuracy TFIDF PS: 0.979372197309417\n",
            "Accuracy TFIDF WN: 0.979372197309417\n"
          ]
        }
      ]
    },
    {
      "cell_type": "markdown",
      "source": [
        "**word2Vec**"
      ],
      "metadata": {
        "id": "m_gTnnXAMENL"
      }
    },
    {
      "cell_type": "code",
      "source": [
        "from gensim.models import Word2Vec"
      ],
      "metadata": {
        "id": "iqfnBMmhLw5d"
      },
      "execution_count": null,
      "outputs": []
    },
    {
      "cell_type": "code",
      "source": [
        "# preprocessing data\n",
        "text = re.sub(r'\\[[0-9]*\\]',' ',paragraph)\n",
        "text = re.sub(r'\\s+',' ',text)\n",
        "text = text.lower()\n",
        "text = re.sub(r'\\d',' ',text)\n",
        "text = re.sub(r'\\s+',' ',text)"
      ],
      "metadata": {
        "id": "7yS61AvAMLdE"
      },
      "execution_count": null,
      "outputs": []
    },
    {
      "cell_type": "code",
      "source": [
        "# processing the dataset\n",
        "sentences_w2v = nltk.sent_tokenize(text)\n",
        "for i in range(len(sentences_w2v)):\n",
        "  if(i%2==0):\n",
        "    print('\\033[92m')\n",
        "  else:\n",
        "    print('\\033[94m')\n",
        "  print('{} - {}'.format(i, sentences_w2v[i]))"
      ],
      "metadata": {
        "colab": {
          "base_uri": "https://localhost:8080/"
        },
        "id": "Wq0mR89kMr7b",
        "outputId": "616d2f6c-135f-4e32-bfbc-eddcb84a5917"
      },
      "execution_count": null,
      "outputs": [
        {
          "output_type": "stream",
          "name": "stdout",
          "text": [
            "\u001b[92m\n",
            "0 - in a statement, ppp senator mustafa nawaz khokhar said that the military spokesman’s press conference had exposed mr khan’s false claim and the narrative by categorically stating that the word “conspiracy” had not been mentioned in the statement issued by the nsc meeting and a demand of bases had also not been made by the us.\n",
            "\u001b[94m\n",
            "1 - “imran khan blatantly lied that opposition leaders had approached him though the coas.\n",
            "\u001b[92m\n",
            "2 - today, the dg ispr has revealed that it was imran khan who had approached the army chief for help,” the ppp senator said.\n",
            "\u001b[94m\n",
            "3 - he said mr khan should publicly apologise for his lies and attempts to drag security institutions into political matters.\n",
            "\u001b[92m\n",
            "4 - meanwhile, commenting on mr khan’s speech at the peshawar public meeting on wednesday, ppp senator raza rabbani said the real conspiracy against pakistan was the systematic dismantling of institutions functioning under the constitution.\n",
            "\u001b[94m\n",
            "5 - he said the attack on the judicial organ of the state was unjustified and uncalled for in the circumstances.\n",
            "\u001b[92m\n",
            "6 - he said a situation had arisen where constitutional functionaries had been violating the constitution and the working of the parliament had been paralysed.\n",
            "\u001b[94m\n",
            "7 - mr rabbani regretted that the parliament over the past three years had been made redundant as legislation used to be done through ordinances and the parliament was kept in the dark with reference to all major decisions and agreements.\n",
            "\u001b[92m\n",
            "8 - he said that media was also subject to harassment, intimidation, removal from assignments and worst press censorship and the security apparatus was being subjected to ridicule.\n"
          ]
        }
      ]
    },
    {
      "cell_type": "code",
      "source": [
        "for i in range(len(sentences_w2v)):\n",
        "  sentences_w2v[i] = re.sub('[^a-zA-Z]',' ',sentences_w2v[i])\n",
        "  words = nltk.word_tokenize(sentences_w2v[i])\n",
        "  sentences_w2v[i] = [j for j in words if j not in set(stopwords.words('english'))]\n",
        "for i in range(len(sentences_w2v)):\n",
        "  if(i%2==0):\n",
        "    print('\\033[92m')\n",
        "  else:\n",
        "    print('\\033[94m')\n",
        "  print('{} - {}'.format(i, sentences_w2v[i]))"
      ],
      "metadata": {
        "colab": {
          "base_uri": "https://localhost:8080/"
        },
        "id": "Gn8dGzE9M51w",
        "outputId": "24551ea3-4b29-4df0-d938-88c0338910e6"
      },
      "execution_count": null,
      "outputs": [
        {
          "output_type": "stream",
          "name": "stdout",
          "text": [
            "\u001b[92m\n",
            "0 - ['statement', 'ppp', 'senator', 'mustafa', 'nawaz', 'khokhar', 'said', 'military', 'spokesman', 'press', 'conference', 'exposed', 'mr', 'khan', 'false', 'claim', 'narrative', 'categorically', 'stating', 'word', 'conspiracy', 'mentioned', 'statement', 'issued', 'nsc', 'meeting', 'demand', 'bases', 'also', 'made', 'us']\n",
            "\u001b[94m\n",
            "1 - ['imran', 'khan', 'blatantly', 'lied', 'opposition', 'leaders', 'approached', 'though', 'coas']\n",
            "\u001b[92m\n",
            "2 - ['today', 'dg', 'ispr', 'revealed', 'imran', 'khan', 'approached', 'army', 'chief', 'help', 'ppp', 'senator', 'said']\n",
            "\u001b[94m\n",
            "3 - ['said', 'mr', 'khan', 'publicly', 'apologise', 'lies', 'attempts', 'drag', 'security', 'institutions', 'political', 'matters']\n",
            "\u001b[92m\n",
            "4 - ['meanwhile', 'commenting', 'mr', 'khan', 'speech', 'peshawar', 'public', 'meeting', 'wednesday', 'ppp', 'senator', 'raza', 'rabbani', 'said', 'real', 'conspiracy', 'pakistan', 'systematic', 'dismantling', 'institutions', 'functioning', 'constitution']\n",
            "\u001b[94m\n",
            "5 - ['said', 'attack', 'judicial', 'organ', 'state', 'unjustified', 'uncalled', 'circumstances']\n",
            "\u001b[92m\n",
            "6 - ['said', 'situation', 'arisen', 'constitutional', 'functionaries', 'violating', 'constitution', 'working', 'parliament', 'paralysed']\n",
            "\u001b[94m\n",
            "7 - ['mr', 'rabbani', 'regretted', 'parliament', 'past', 'three', 'years', 'made', 'redundant', 'legislation', 'used', 'done', 'ordinances', 'parliament', 'kept', 'dark', 'reference', 'major', 'decisions', 'agreements']\n",
            "\u001b[92m\n",
            "8 - ['said', 'media', 'also', 'subject', 'harassment', 'intimidation', 'removal', 'assignments', 'worst', 'press', 'censorship', 'security', 'apparatus', 'subjected', 'ridicule']\n"
          ]
        }
      ]
    },
    {
      "cell_type": "code",
      "source": [
        "w2v_model = Word2Vec(sentences_w2v, min_count=1)"
      ],
      "metadata": {
        "id": "XzwJvnU5RE4U"
      },
      "execution_count": null,
      "outputs": []
    },
    {
      "cell_type": "code",
      "source": [
        "each_word = w2v_model.wv.vocab\n",
        "print(len(each_word))\n"
      ],
      "metadata": {
        "colab": {
          "base_uri": "https://localhost:8080/"
        },
        "id": "AhTwSJ9URsPd",
        "outputId": "5eb00a45-14b2-4af0-a29f-d636bf0c4946"
      },
      "execution_count": null,
      "outputs": [
        {
          "output_type": "stream",
          "name": "stdout",
          "text": [
            "109\n"
          ]
        }
      ]
    },
    {
      "cell_type": "code",
      "source": [
        "print(type(each_word))"
      ],
      "metadata": {
        "colab": {
          "base_uri": "https://localhost:8080/"
        },
        "id": "_RvY12TnSg6S",
        "outputId": "1f1a5c77-f848-4b77-a213-c4b4232f3672"
      },
      "execution_count": null,
      "outputs": [
        {
          "output_type": "stream",
          "name": "stdout",
          "text": [
            "<class 'dict'>\n"
          ]
        }
      ]
    },
    {
      "cell_type": "code",
      "source": [
        "for i,j in enumerate(each_word):\n",
        "  #print('{} - {}'.format(i+1,each_word[i+1]))\n",
        "  print('{} - {}'.format(i,j))"
      ],
      "metadata": {
        "colab": {
          "base_uri": "https://localhost:8080/"
        },
        "id": "Od3KXMo_R7jG",
        "outputId": "9025d420-6a7b-4d29-86eb-db0fb3c00b93"
      },
      "execution_count": null,
      "outputs": [
        {
          "output_type": "stream",
          "name": "stdout",
          "text": [
            "0 - statement\n",
            "1 - ppp\n",
            "2 - senator\n",
            "3 - mustafa\n",
            "4 - nawaz\n",
            "5 - khokhar\n",
            "6 - said\n",
            "7 - military\n",
            "8 - spokesman\n",
            "9 - press\n",
            "10 - conference\n",
            "11 - exposed\n",
            "12 - mr\n",
            "13 - khan\n",
            "14 - false\n",
            "15 - claim\n",
            "16 - narrative\n",
            "17 - categorically\n",
            "18 - stating\n",
            "19 - word\n",
            "20 - conspiracy\n",
            "21 - mentioned\n",
            "22 - issued\n",
            "23 - nsc\n",
            "24 - meeting\n",
            "25 - demand\n",
            "26 - bases\n",
            "27 - also\n",
            "28 - made\n",
            "29 - us\n",
            "30 - imran\n",
            "31 - blatantly\n",
            "32 - lied\n",
            "33 - opposition\n",
            "34 - leaders\n",
            "35 - approached\n",
            "36 - though\n",
            "37 - coas\n",
            "38 - today\n",
            "39 - dg\n",
            "40 - ispr\n",
            "41 - revealed\n",
            "42 - army\n",
            "43 - chief\n",
            "44 - help\n",
            "45 - publicly\n",
            "46 - apologise\n",
            "47 - lies\n",
            "48 - attempts\n",
            "49 - drag\n",
            "50 - security\n",
            "51 - institutions\n",
            "52 - political\n",
            "53 - matters\n",
            "54 - meanwhile\n",
            "55 - commenting\n",
            "56 - speech\n",
            "57 - peshawar\n",
            "58 - public\n",
            "59 - wednesday\n",
            "60 - raza\n",
            "61 - rabbani\n",
            "62 - real\n",
            "63 - pakistan\n",
            "64 - systematic\n",
            "65 - dismantling\n",
            "66 - functioning\n",
            "67 - constitution\n",
            "68 - attack\n",
            "69 - judicial\n",
            "70 - organ\n",
            "71 - state\n",
            "72 - unjustified\n",
            "73 - uncalled\n",
            "74 - circumstances\n",
            "75 - situation\n",
            "76 - arisen\n",
            "77 - constitutional\n",
            "78 - functionaries\n",
            "79 - violating\n",
            "80 - working\n",
            "81 - parliament\n",
            "82 - paralysed\n",
            "83 - regretted\n",
            "84 - past\n",
            "85 - three\n",
            "86 - years\n",
            "87 - redundant\n",
            "88 - legislation\n",
            "89 - used\n",
            "90 - done\n",
            "91 - ordinances\n",
            "92 - kept\n",
            "93 - dark\n",
            "94 - reference\n",
            "95 - major\n",
            "96 - decisions\n",
            "97 - agreements\n",
            "98 - media\n",
            "99 - subject\n",
            "100 - harassment\n",
            "101 - intimidation\n",
            "102 - removal\n",
            "103 - assignments\n",
            "104 - worst\n",
            "105 - censorship\n",
            "106 - apparatus\n",
            "107 - subjected\n",
            "108 - ridicule\n"
          ]
        }
      ]
    },
    {
      "cell_type": "code",
      "source": [
        "print(each_word)"
      ],
      "metadata": {
        "colab": {
          "base_uri": "https://localhost:8080/"
        },
        "id": "SGaKwUtxSvFV",
        "outputId": "42e360ca-813a-4dfd-ce27-ff65719aa248"
      },
      "execution_count": null,
      "outputs": [
        {
          "output_type": "stream",
          "name": "stdout",
          "text": [
            "{'statement': <gensim.models.keyedvectors.Vocab object at 0x7f4e7a567d50>, 'ppp': <gensim.models.keyedvectors.Vocab object at 0x7f4e7a567550>, 'senator': <gensim.models.keyedvectors.Vocab object at 0x7f4e7a5672d0>, 'mustafa': <gensim.models.keyedvectors.Vocab object at 0x7f4e7a567510>, 'nawaz': <gensim.models.keyedvectors.Vocab object at 0x7f4e7a567e90>, 'khokhar': <gensim.models.keyedvectors.Vocab object at 0x7f4e7a567110>, 'said': <gensim.models.keyedvectors.Vocab object at 0x7f4e7a567a50>, 'military': <gensim.models.keyedvectors.Vocab object at 0x7f4e7a567c50>, 'spokesman': <gensim.models.keyedvectors.Vocab object at 0x7f4e7a567050>, 'press': <gensim.models.keyedvectors.Vocab object at 0x7f4e7a567910>, 'conference': <gensim.models.keyedvectors.Vocab object at 0x7f4e7a567b90>, 'exposed': <gensim.models.keyedvectors.Vocab object at 0x7f4e7a567590>, 'mr': <gensim.models.keyedvectors.Vocab object at 0x7f4e7a567b10>, 'khan': <gensim.models.keyedvectors.Vocab object at 0x7f4e7a567d10>, 'false': <gensim.models.keyedvectors.Vocab object at 0x7f4e7a567850>, 'claim': <gensim.models.keyedvectors.Vocab object at 0x7f4e7a5674d0>, 'narrative': <gensim.models.keyedvectors.Vocab object at 0x7f4e7a567f90>, 'categorically': <gensim.models.keyedvectors.Vocab object at 0x7f4e7a5679d0>, 'stating': <gensim.models.keyedvectors.Vocab object at 0x7f4e7a567dd0>, 'word': <gensim.models.keyedvectors.Vocab object at 0x7f4e7a5676d0>, 'conspiracy': <gensim.models.keyedvectors.Vocab object at 0x7f4e7a567fd0>, 'mentioned': <gensim.models.keyedvectors.Vocab object at 0x7f4e7a567210>, 'issued': <gensim.models.keyedvectors.Vocab object at 0x7f4e7a5671d0>, 'nsc': <gensim.models.keyedvectors.Vocab object at 0x7f4e7a567790>, 'meeting': <gensim.models.keyedvectors.Vocab object at 0x7f4e7a5675d0>, 'demand': <gensim.models.keyedvectors.Vocab object at 0x7f4e7a458550>, 'bases': <gensim.models.keyedvectors.Vocab object at 0x7f4e7a458790>, 'also': <gensim.models.keyedvectors.Vocab object at 0x7f4e7a458110>, 'made': <gensim.models.keyedvectors.Vocab object at 0x7f4e7a458610>, 'us': <gensim.models.keyedvectors.Vocab object at 0x7f4e7a568190>, 'imran': <gensim.models.keyedvectors.Vocab object at 0x7f4e7a568d90>, 'blatantly': <gensim.models.keyedvectors.Vocab object at 0x7f4e7a568990>, 'lied': <gensim.models.keyedvectors.Vocab object at 0x7f4e7a568ad0>, 'opposition': <gensim.models.keyedvectors.Vocab object at 0x7f4e7a568510>, 'leaders': <gensim.models.keyedvectors.Vocab object at 0x7f4e7a5685d0>, 'approached': <gensim.models.keyedvectors.Vocab object at 0x7f4e7a568fd0>, 'though': <gensim.models.keyedvectors.Vocab object at 0x7f4e7a568b90>, 'coas': <gensim.models.keyedvectors.Vocab object at 0x7f4e7a568550>, 'today': <gensim.models.keyedvectors.Vocab object at 0x7f4e7a5b9590>, 'dg': <gensim.models.keyedvectors.Vocab object at 0x7f4e7a5b9950>, 'ispr': <gensim.models.keyedvectors.Vocab object at 0x7f4e7a5b99d0>, 'revealed': <gensim.models.keyedvectors.Vocab object at 0x7f4e7a5b9dd0>, 'army': <gensim.models.keyedvectors.Vocab object at 0x7f4e7a5b9990>, 'chief': <gensim.models.keyedvectors.Vocab object at 0x7f4e7a5b9350>, 'help': <gensim.models.keyedvectors.Vocab object at 0x7f4e7a5b9e50>, 'publicly': <gensim.models.keyedvectors.Vocab object at 0x7f4e7a5b92d0>, 'apologise': <gensim.models.keyedvectors.Vocab object at 0x7f4e7a5b9790>, 'lies': <gensim.models.keyedvectors.Vocab object at 0x7f4e7a5b9210>, 'attempts': <gensim.models.keyedvectors.Vocab object at 0x7f4e7a5b9690>, 'drag': <gensim.models.keyedvectors.Vocab object at 0x7f4e7a5b98d0>, 'security': <gensim.models.keyedvectors.Vocab object at 0x7f4e7a5b91d0>, 'institutions': <gensim.models.keyedvectors.Vocab object at 0x7f4e7a5b9090>, 'political': <gensim.models.keyedvectors.Vocab object at 0x7f4e7a5b9d10>, 'matters': <gensim.models.keyedvectors.Vocab object at 0x7f4e7a5b9510>, 'meanwhile': <gensim.models.keyedvectors.Vocab object at 0x7f4e7a5b9a90>, 'commenting': <gensim.models.keyedvectors.Vocab object at 0x7f4e7a5b9250>, 'speech': <gensim.models.keyedvectors.Vocab object at 0x7f4e7a5b9710>, 'peshawar': <gensim.models.keyedvectors.Vocab object at 0x7f4e7a5b9490>, 'public': <gensim.models.keyedvectors.Vocab object at 0x7f4e7a5b9bd0>, 'wednesday': <gensim.models.keyedvectors.Vocab object at 0x7f4e7a5c4b90>, 'raza': <gensim.models.keyedvectors.Vocab object at 0x7f4e7a5c4750>, 'rabbani': <gensim.models.keyedvectors.Vocab object at 0x7f4e7b636510>, 'real': <gensim.models.keyedvectors.Vocab object at 0x7f4e7b636ad0>, 'pakistan': <gensim.models.keyedvectors.Vocab object at 0x7f4e7a524850>, 'systematic': <gensim.models.keyedvectors.Vocab object at 0x7f4e7a5245d0>, 'dismantling': <gensim.models.keyedvectors.Vocab object at 0x7f4e7a524950>, 'functioning': <gensim.models.keyedvectors.Vocab object at 0x7f4e7a524f10>, 'constitution': <gensim.models.keyedvectors.Vocab object at 0x7f4e7a457d90>, 'attack': <gensim.models.keyedvectors.Vocab object at 0x7f4e7a457c10>, 'judicial': <gensim.models.keyedvectors.Vocab object at 0x7f4e7a457890>, 'organ': <gensim.models.keyedvectors.Vocab object at 0x7f4e7a457550>, 'state': <gensim.models.keyedvectors.Vocab object at 0x7f4e7a457c50>, 'unjustified': <gensim.models.keyedvectors.Vocab object at 0x7f4e7a457410>, 'uncalled': <gensim.models.keyedvectors.Vocab object at 0x7f4e7a457050>, 'circumstances': <gensim.models.keyedvectors.Vocab object at 0x7f4e7a457a50>, 'situation': <gensim.models.keyedvectors.Vocab object at 0x7f4e7a54c110>, 'arisen': <gensim.models.keyedvectors.Vocab object at 0x7f4e7a54cdd0>, 'constitutional': <gensim.models.keyedvectors.Vocab object at 0x7f4e7a539150>, 'functionaries': <gensim.models.keyedvectors.Vocab object at 0x7f4e7a539710>, 'violating': <gensim.models.keyedvectors.Vocab object at 0x7f4e7a5398d0>, 'working': <gensim.models.keyedvectors.Vocab object at 0x7f4e7a539b10>, 'parliament': <gensim.models.keyedvectors.Vocab object at 0x7f4e7a539b90>, 'paralysed': <gensim.models.keyedvectors.Vocab object at 0x7f4e7a539fd0>, 'regretted': <gensim.models.keyedvectors.Vocab object at 0x7f4e7a539650>, 'past': <gensim.models.keyedvectors.Vocab object at 0x7f4e7a50c0d0>, 'three': <gensim.models.keyedvectors.Vocab object at 0x7f4e7a50c090>, 'years': <gensim.models.keyedvectors.Vocab object at 0x7f4e7a50c050>, 'redundant': <gensim.models.keyedvectors.Vocab object at 0x7f4e7a46e7d0>, 'legislation': <gensim.models.keyedvectors.Vocab object at 0x7f4e7a46e350>, 'used': <gensim.models.keyedvectors.Vocab object at 0x7f4e7a46efd0>, 'done': <gensim.models.keyedvectors.Vocab object at 0x7f4e7a46ec90>, 'ordinances': <gensim.models.keyedvectors.Vocab object at 0x7f4e7a46e0d0>, 'kept': <gensim.models.keyedvectors.Vocab object at 0x7f4e7a46e750>, 'dark': <gensim.models.keyedvectors.Vocab object at 0x7f4e7a46e710>, 'reference': <gensim.models.keyedvectors.Vocab object at 0x7f4e7a46e510>, 'major': <gensim.models.keyedvectors.Vocab object at 0x7f4e7a46e450>, 'decisions': <gensim.models.keyedvectors.Vocab object at 0x7f4e7a46ed50>, 'agreements': <gensim.models.keyedvectors.Vocab object at 0x7f4e7a46e650>, 'media': <gensim.models.keyedvectors.Vocab object at 0x7f4e7a46e4d0>, 'subject': <gensim.models.keyedvectors.Vocab object at 0x7f4e7a46e6d0>, 'harassment': <gensim.models.keyedvectors.Vocab object at 0x7f4e7a46e390>, 'intimidation': <gensim.models.keyedvectors.Vocab object at 0x7f4e7a46e250>, 'removal': <gensim.models.keyedvectors.Vocab object at 0x7f4e7a46e950>, 'assignments': <gensim.models.keyedvectors.Vocab object at 0x7f4e7a46ee10>, 'worst': <gensim.models.keyedvectors.Vocab object at 0x7f4e7a46e590>, 'censorship': <gensim.models.keyedvectors.Vocab object at 0x7f4e7a46ef90>, 'apparatus': <gensim.models.keyedvectors.Vocab object at 0x7f4e7a46e990>, 'subjected': <gensim.models.keyedvectors.Vocab object at 0x7f4e7a46ed90>, 'ridicule': <gensim.models.keyedvectors.Vocab object at 0x7f4e7a46ec50>}\n"
          ]
        }
      ]
    },
    {
      "cell_type": "code",
      "source": [
        "vector = w2v_model.wv('statement')"
      ],
      "metadata": {
        "colab": {
          "base_uri": "https://localhost:8080/",
          "height": 167
        },
        "id": "9xVt-aKlS25m",
        "outputId": "061bf09e-446f-4c0c-f66a-3a703e08bbd0"
      },
      "execution_count": null,
      "outputs": [
        {
          "output_type": "error",
          "ename": "TypeError",
          "evalue": "ignored",
          "traceback": [
            "\u001b[0;31m---------------------------------------------------------------------------\u001b[0m",
            "\u001b[0;31mTypeError\u001b[0m                                 Traceback (most recent call last)",
            "\u001b[0;32m<ipython-input-62-347cc57682ef>\u001b[0m in \u001b[0;36m<module>\u001b[0;34m()\u001b[0m\n\u001b[0;32m----> 1\u001b[0;31m \u001b[0mvector\u001b[0m \u001b[0;34m=\u001b[0m \u001b[0mw2v_model\u001b[0m\u001b[0;34m.\u001b[0m\u001b[0mwv\u001b[0m\u001b[0;34m(\u001b[0m\u001b[0;34m'statement'\u001b[0m\u001b[0;34m)\u001b[0m\u001b[0;34m\u001b[0m\u001b[0;34m\u001b[0m\u001b[0m\n\u001b[0m",
            "\u001b[0;31mTypeError\u001b[0m: 'Word2VecKeyedVectors' object is not callable"
          ]
        }
      ]
    },
    {
      "cell_type": "code",
      "source": [
        "similar=w2v_model.wv.most_similar('statement')\n",
        "print(len(similar))\n",
        "print(type(similar))\n",
        "for i,j in similar:\n",
        "  print('{} -> {:<2}'.format(i,j))"
      ],
      "metadata": {
        "colab": {
          "base_uri": "https://localhost:8080/"
        },
        "id": "V4yfrEikTeh9",
        "outputId": "9772441c-17e5-4fc6-8e5d-11f3d142111c"
      },
      "execution_count": null,
      "outputs": [
        {
          "output_type": "stream",
          "name": "stdout",
          "text": [
            "10\n",
            "<class 'list'>\n",
            "chief -> 0.2133355438709259\n",
            "censorship -> 0.19107326865196228\n",
            "political -> 0.17143793404102325\n",
            "apparatus -> 0.15336522459983826\n",
            "khokhar -> 0.14071902632713318\n",
            "opposition -> 0.13819175958633423\n",
            "done -> 0.13793876767158508\n",
            "press -> 0.12907834351062775\n",
            "dg -> 0.12314343452453613\n",
            "functioning -> 0.11868857592344284\n"
          ]
        }
      ]
    },
    {
      "cell_type": "code",
      "source": [
        ""
      ],
      "metadata": {
        "id": "xJDwL3T3TpJJ"
      },
      "execution_count": null,
      "outputs": []
    }
  ]
}